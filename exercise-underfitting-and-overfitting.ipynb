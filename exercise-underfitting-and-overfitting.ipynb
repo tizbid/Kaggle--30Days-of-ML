{
 "cells": [
  {
   "cell_type": "markdown",
   "id": "be407dcd",
   "metadata": {
    "papermill": {
     "duration": 0.011127,
     "end_time": "2021-08-14T09:22:59.477703",
     "exception": false,
     "start_time": "2021-08-14T09:22:59.466576",
     "status": "completed"
    },
    "tags": []
   },
   "source": [
    "**This notebook is an exercise in the [Introduction to Machine Learning](https://www.kaggle.com/learn/intro-to-machine-learning) course.  You can reference the tutorial at [this link](https://www.kaggle.com/dansbecker/underfitting-and-overfitting).**\n",
    "\n",
    "---\n"
   ]
  },
  {
   "cell_type": "markdown",
   "id": "d5f7b891",
   "metadata": {
    "papermill": {
     "duration": 0.009816,
     "end_time": "2021-08-14T09:22:59.497869",
     "exception": false,
     "start_time": "2021-08-14T09:22:59.488053",
     "status": "completed"
    },
    "tags": []
   },
   "source": [
    "## Recap\n",
    "You've built your first model, and now it's time to optimize the size of the tree to make better predictions. Run this cell to set up your coding environment where the previous step left off."
   ]
  },
  {
   "cell_type": "code",
   "execution_count": 1,
   "id": "8dffd229",
   "metadata": {
    "execution": {
     "iopub.execute_input": "2021-08-14T09:22:59.535591Z",
     "iopub.status.busy": "2021-08-14T09:22:59.534811Z",
     "iopub.status.idle": "2021-08-14T09:23:00.885965Z",
     "shell.execute_reply": "2021-08-14T09:23:00.885224Z",
     "shell.execute_reply.started": "2021-08-14T09:13:43.894158Z"
    },
    "papermill": {
     "duration": 1.378164,
     "end_time": "2021-08-14T09:23:00.886159",
     "exception": false,
     "start_time": "2021-08-14T09:22:59.507995",
     "status": "completed"
    },
    "tags": []
   },
   "outputs": [
    {
     "name": "stdout",
     "output_type": "stream",
     "text": [
      "Validation MAE: 29,653\n",
      "\n",
      "Setup complete\n"
     ]
    }
   ],
   "source": [
    "# Code you have previously used to load data\n",
    "import pandas as pd\n",
    "from sklearn.metrics import mean_absolute_error\n",
    "from sklearn.model_selection import train_test_split\n",
    "from sklearn.tree import DecisionTreeRegressor\n",
    "\n",
    "\n",
    "# Path of the file to read\n",
    "iowa_file_path = '../input/home-data-for-ml-course/train.csv'\n",
    "\n",
    "home_data = pd.read_csv(iowa_file_path)\n",
    "# Create target object and call it y\n",
    "y = home_data.SalePrice\n",
    "# Create X\n",
    "features = ['LotArea', 'YearBuilt', '1stFlrSF', '2ndFlrSF', 'FullBath', 'BedroomAbvGr', 'TotRmsAbvGrd']\n",
    "X = home_data[features]\n",
    "\n",
    "# Split into validation and training data\n",
    "train_X, val_X, train_y, val_y = train_test_split(X, y, random_state=1)\n",
    "\n",
    "# Specify Model\n",
    "iowa_model = DecisionTreeRegressor(random_state=1)\n",
    "# Fit Model\n",
    "iowa_model.fit(train_X, train_y)\n",
    "\n",
    "# Make validation predictions and calculate mean absolute error\n",
    "val_predictions = iowa_model.predict(val_X)\n",
    "val_mae = mean_absolute_error(val_predictions, val_y)\n",
    "print(\"Validation MAE: {:,.0f}\".format(val_mae))\n",
    "\n",
    "# Set up code checking\n",
    "from learntools.core import binder\n",
    "binder.bind(globals())\n",
    "from learntools.machine_learning.ex5 import *\n",
    "print(\"\\nSetup complete\")"
   ]
  },
  {
   "cell_type": "markdown",
   "id": "d39e6a5b",
   "metadata": {
    "papermill": {
     "duration": 0.010288,
     "end_time": "2021-08-14T09:23:00.907648",
     "exception": false,
     "start_time": "2021-08-14T09:23:00.897360",
     "status": "completed"
    },
    "tags": []
   },
   "source": [
    "# Exercises\n",
    "You could write the function `get_mae` yourself. For now, we'll supply it. This is the same function you read about in the previous lesson. Just run the cell below."
   ]
  },
  {
   "cell_type": "code",
   "execution_count": 2,
   "id": "8c2c0a86",
   "metadata": {
    "execution": {
     "iopub.execute_input": "2021-08-14T09:23:00.935427Z",
     "iopub.status.busy": "2021-08-14T09:23:00.934764Z",
     "iopub.status.idle": "2021-08-14T09:23:00.938311Z",
     "shell.execute_reply": "2021-08-14T09:23:00.937776Z",
     "shell.execute_reply.started": "2021-08-14T09:13:56.121728Z"
    },
    "papermill": {
     "duration": 0.019802,
     "end_time": "2021-08-14T09:23:00.938458",
     "exception": false,
     "start_time": "2021-08-14T09:23:00.918656",
     "status": "completed"
    },
    "tags": []
   },
   "outputs": [],
   "source": [
    "def get_mae(max_leaf_nodes, train_X, val_X, train_y, val_y):\n",
    "    model = DecisionTreeRegressor(max_leaf_nodes=max_leaf_nodes, random_state=0)\n",
    "    model.fit(train_X, train_y)\n",
    "    preds_val = model.predict(val_X)\n",
    "    mae = mean_absolute_error(val_y, preds_val)\n",
    "    return(mae)"
   ]
  },
  {
   "cell_type": "markdown",
   "id": "94af4538",
   "metadata": {
    "papermill": {
     "duration": 0.010946,
     "end_time": "2021-08-14T09:23:00.960785",
     "exception": false,
     "start_time": "2021-08-14T09:23:00.949839",
     "status": "completed"
    },
    "tags": []
   },
   "source": [
    "## Step 1: Compare Different Tree Sizes\n",
    "Write a loop that tries the following values for *max_leaf_nodes* from a set of possible values.\n",
    "\n",
    "Call the *get_mae* function on each value of max_leaf_nodes. Store the output in some way that allows you to select the value of `max_leaf_nodes` that gives the most accurate model on your data."
   ]
  },
  {
   "cell_type": "code",
   "execution_count": 3,
   "id": "789facb1",
   "metadata": {
    "execution": {
     "iopub.execute_input": "2021-08-14T09:23:00.990744Z",
     "iopub.status.busy": "2021-08-14T09:23:00.990022Z",
     "iopub.status.idle": "2021-08-14T09:23:01.039804Z",
     "shell.execute_reply": "2021-08-14T09:23:01.039194Z",
     "shell.execute_reply.started": "2021-08-14T09:14:26.721917Z"
    },
    "papermill": {
     "duration": 0.068526,
     "end_time": "2021-08-14T09:23:01.039948",
     "exception": false,
     "start_time": "2021-08-14T09:23:00.971422",
     "status": "completed"
    },
    "tags": []
   },
   "outputs": [
    {
     "data": {
      "application/javascript": [
       "parent.postMessage({\"jupyterEvent\": \"custom.exercise_interaction\", \"data\": {\"outcomeType\": 1, \"valueTowardsCompletion\": 0.5, \"interactionType\": 1, \"questionType\": 1, \"questionId\": \"1_BestTreeSize\", \"learnToolsVersion\": \"0.3.4\", \"failureMessage\": \"\", \"exceptionClass\": \"\", \"trace\": \"\"}}, \"*\")"
      ],
      "text/plain": [
       "<IPython.core.display.Javascript object>"
      ]
     },
     "metadata": {},
     "output_type": "display_data"
    },
    {
     "data": {
      "text/markdown": [
       "<span style=\"color:#33cc33\">Correct</span>"
      ],
      "text/plain": [
       "Correct"
      ]
     },
     "metadata": {},
     "output_type": "display_data"
    }
   ],
   "source": [
    "candidate_max_leaf_nodes = [5, 25, 50, 100, 250, 500]\n",
    "# Write loop to find the ideal tree size from candidate_max_leaf_nodes\n",
    "result = [get_mae(leaf_nodes, train_X, val_X, train_y, val_y) for leaf_nodes in candidate_max_leaf_nodes]\n",
    "result_dict =dict(zip(candidate_max_leaf_nodes,result))\n",
    "\n",
    "# Store the best value of max_leaf_nodes (it will be either 5, 25, 50, 100, 250 or 500)\n",
    "best_tree_size = min(result_dict,key=result_dict.get)\n",
    "\n",
    "# Check your answer\n",
    "step_1.check()\n",
    "\n",
    "    \n",
    "#A simpler way to form the dict\n",
    "#result_dict = {leaf_size: get_mae(leaf_size, train_X, val_X, train_y, val_y) for leaf_size in candidate_max_leaf_nodes}"
   ]
  },
  {
   "cell_type": "code",
   "execution_count": 4,
   "id": "1df7a427",
   "metadata": {
    "execution": {
     "iopub.execute_input": "2021-08-14T09:23:01.068687Z",
     "iopub.status.busy": "2021-08-14T09:23:01.067978Z",
     "iopub.status.idle": "2021-08-14T09:23:01.071782Z",
     "shell.execute_reply": "2021-08-14T09:23:01.072377Z",
     "shell.execute_reply.started": "2021-08-14T09:15:28.131934Z"
    },
    "papermill": {
     "duration": 0.020915,
     "end_time": "2021-08-14T09:23:01.072585",
     "exception": false,
     "start_time": "2021-08-14T09:23:01.051670",
     "status": "completed"
    },
    "tags": []
   },
   "outputs": [
    {
     "data": {
      "text/plain": [
       "100"
      ]
     },
     "execution_count": 4,
     "metadata": {},
     "output_type": "execute_result"
    }
   ],
   "source": [
    "best_tree_size"
   ]
  },
  {
   "cell_type": "code",
   "execution_count": 5,
   "id": "c3e2c665",
   "metadata": {
    "execution": {
     "iopub.execute_input": "2021-08-14T09:23:01.100914Z",
     "iopub.status.busy": "2021-08-14T09:23:01.100279Z",
     "iopub.status.idle": "2021-08-14T09:23:01.104323Z",
     "shell.execute_reply": "2021-08-14T09:23:01.104767Z",
     "shell.execute_reply.started": "2021-08-14T09:17:20.728112Z"
    },
    "papermill": {
     "duration": 0.020082,
     "end_time": "2021-08-14T09:23:01.104936",
     "exception": false,
     "start_time": "2021-08-14T09:23:01.084854",
     "status": "completed"
    },
    "tags": []
   },
   "outputs": [],
   "source": [
    "# The lines below will show you a hint or the solution.\n",
    "#step_1.hint() \n",
    "#step_1.solution()"
   ]
  },
  {
   "cell_type": "markdown",
   "id": "6366f49f",
   "metadata": {
    "papermill": {
     "duration": 0.01151,
     "end_time": "2021-08-14T09:23:01.128576",
     "exception": false,
     "start_time": "2021-08-14T09:23:01.117066",
     "status": "completed"
    },
    "tags": []
   },
   "source": [
    "## Step 2: Fit Model Using All Data\n",
    "You know the best tree size. If you were going to deploy this model in practice, you would make it even more accurate by using all of the data and keeping that tree size.  That is, you don't need to hold out the validation data now that you've made all your modeling decisions."
   ]
  },
  {
   "cell_type": "code",
   "execution_count": 6,
   "id": "657eab63",
   "metadata": {
    "execution": {
     "iopub.execute_input": "2021-08-14T09:23:01.159840Z",
     "iopub.status.busy": "2021-08-14T09:23:01.159201Z",
     "iopub.status.idle": "2021-08-14T09:23:01.171533Z",
     "shell.execute_reply": "2021-08-14T09:23:01.170892Z",
     "shell.execute_reply.started": "2021-08-14T09:22:30.639698Z"
    },
    "papermill": {
     "duration": 0.031316,
     "end_time": "2021-08-14T09:23:01.171672",
     "exception": false,
     "start_time": "2021-08-14T09:23:01.140356",
     "status": "completed"
    },
    "tags": []
   },
   "outputs": [
    {
     "data": {
      "application/javascript": [
       "parent.postMessage({\"jupyterEvent\": \"custom.exercise_interaction\", \"data\": {\"outcomeType\": 1, \"valueTowardsCompletion\": 0.5, \"interactionType\": 1, \"questionType\": 2, \"questionId\": \"2_FitModelWithAllData\", \"learnToolsVersion\": \"0.3.4\", \"failureMessage\": \"\", \"exceptionClass\": \"\", \"trace\": \"\"}}, \"*\")"
      ],
      "text/plain": [
       "<IPython.core.display.Javascript object>"
      ]
     },
     "metadata": {},
     "output_type": "display_data"
    },
    {
     "data": {
      "text/markdown": [
       "<span style=\"color:#33cc33\">Correct</span>"
      ],
      "text/plain": [
       "Correct"
      ]
     },
     "metadata": {},
     "output_type": "display_data"
    }
   ],
   "source": [
    "# Fill in argument to make optimal size and uncomment\n",
    "final_model = DecisionTreeRegressor(max_leaf_nodes=best_tree_size, random_state=0)\n",
    "\n",
    "# fit the final model and uncomment the next two lines\n",
    "final_model.fit(X,y)\n",
    "\n",
    "# Check your answer\n",
    "step_2.check()"
   ]
  },
  {
   "cell_type": "code",
   "execution_count": 7,
   "id": "d611eee4",
   "metadata": {
    "execution": {
     "iopub.execute_input": "2021-08-14T09:23:01.202011Z",
     "iopub.status.busy": "2021-08-14T09:23:01.201380Z",
     "iopub.status.idle": "2021-08-14T09:23:01.204673Z",
     "shell.execute_reply": "2021-08-14T09:23:01.204055Z",
     "shell.execute_reply.started": "2021-08-14T09:21:34.510029Z"
    },
    "papermill": {
     "duration": 0.020047,
     "end_time": "2021-08-14T09:23:01.204809",
     "exception": false,
     "start_time": "2021-08-14T09:23:01.184762",
     "status": "completed"
    },
    "tags": []
   },
   "outputs": [],
   "source": [
    "# step_2.hint()\n",
    "#step_2.solution()"
   ]
  },
  {
   "cell_type": "markdown",
   "id": "c47585e9",
   "metadata": {
    "papermill": {
     "duration": 0.012669,
     "end_time": "2021-08-14T09:23:01.230578",
     "exception": false,
     "start_time": "2021-08-14T09:23:01.217909",
     "status": "completed"
    },
    "tags": []
   },
   "source": [
    "You've tuned this model and improved your results. But we are still using Decision Tree models, which are not very sophisticated by modern machine learning standards. In the next step you will learn to use Random Forests to improve your models even more.\n",
    "\n",
    "# Keep Going\n",
    "\n",
    "You are ready for **[Random Forests](https://www.kaggle.com/dansbecker/random-forests).**\n"
   ]
  },
  {
   "cell_type": "markdown",
   "id": "03fc7655",
   "metadata": {
    "papermill": {
     "duration": 0.013154,
     "end_time": "2021-08-14T09:23:01.256716",
     "exception": false,
     "start_time": "2021-08-14T09:23:01.243562",
     "status": "completed"
    },
    "tags": []
   },
   "source": [
    "---\n",
    "\n",
    "\n",
    "\n",
    "\n",
    "*Have questions or comments? Visit the [Learn Discussion forum](https://www.kaggle.com/learn-forum/161285) to chat with other Learners.*"
   ]
  }
 ],
 "metadata": {
  "kernelspec": {
   "display_name": "Python 3",
   "language": "python",
   "name": "python3"
  },
  "language_info": {
   "codemirror_mode": {
    "name": "ipython",
    "version": 3
   },
   "file_extension": ".py",
   "mimetype": "text/x-python",
   "name": "python",
   "nbconvert_exporter": "python",
   "pygments_lexer": "ipython3",
   "version": "3.7.10"
  },
  "papermill": {
   "default_parameters": {},
   "duration": 10.757144,
   "end_time": "2021-08-14T09:23:01.979142",
   "environment_variables": {},
   "exception": null,
   "input_path": "__notebook__.ipynb",
   "output_path": "__notebook__.ipynb",
   "parameters": {},
   "start_time": "2021-08-14T09:22:51.221998",
   "version": "2.3.3"
  }
 },
 "nbformat": 4,
 "nbformat_minor": 5
}
