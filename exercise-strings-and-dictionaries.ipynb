{
 "cells": [
  {
   "cell_type": "markdown",
   "id": "eb5819cf",
   "metadata": {
    "papermill": {
     "duration": 0.017489,
     "end_time": "2021-08-08T21:41:43.478328",
     "exception": false,
     "start_time": "2021-08-08T21:41:43.460839",
     "status": "completed"
    },
    "tags": []
   },
   "source": [
    "**This notebook is an exercise in the [Python](https://www.kaggle.com/learn/python) course.  You can reference the tutorial at [this link](https://www.kaggle.com/colinmorris/strings-and-dictionaries).**\n",
    "\n",
    "---\n"
   ]
  },
  {
   "cell_type": "markdown",
   "id": "e1a1cf65",
   "metadata": {
    "papermill": {
     "duration": 0.016245,
     "end_time": "2021-08-08T21:41:43.513933",
     "exception": false,
     "start_time": "2021-08-08T21:41:43.497688",
     "status": "completed"
    },
    "tags": []
   },
   "source": [
    "You are almost done with the course. Nice job!\n",
    "\n",
    "We have a couple more interesting problems for you before you go. \n",
    "\n",
    "As always, run the setup code below before working on the questions."
   ]
  },
  {
   "cell_type": "code",
   "execution_count": 1,
   "id": "e647d1ee",
   "metadata": {
    "execution": {
     "iopub.execute_input": "2021-08-08T21:41:43.562144Z",
     "iopub.status.busy": "2021-08-08T21:41:43.557710Z",
     "iopub.status.idle": "2021-08-08T21:41:43.759646Z",
     "shell.execute_reply": "2021-08-08T21:41:43.758497Z",
     "shell.execute_reply.started": "2021-08-08T21:40:40.473343Z"
    },
    "papermill": {
     "duration": 0.229726,
     "end_time": "2021-08-08T21:41:43.760092",
     "exception": false,
     "start_time": "2021-08-08T21:41:43.530366",
     "status": "completed"
    },
    "tags": []
   },
   "outputs": [
    {
     "name": "stdout",
     "output_type": "stream",
     "text": [
      "Setup complete.\n"
     ]
    }
   ],
   "source": [
    "from learntools.core import binder; binder.bind(globals())\n",
    "from learntools.python.ex6 import *\n",
    "print('Setup complete.')"
   ]
  },
  {
   "cell_type": "markdown",
   "id": "e652bf1f",
   "metadata": {
    "papermill": {
     "duration": 0.01595,
     "end_time": "2021-08-08T21:41:43.794386",
     "exception": false,
     "start_time": "2021-08-08T21:41:43.778436",
     "status": "completed"
    },
    "tags": []
   },
   "source": [
    "Let's start with a string lightning round to warm up. What are the lengths of the strings below?\n",
    "\n",
    "For each of the five strings below, predict what `len()` would return when passed that string. Use the variable `length` to record your answer, then run the cell to check whether you were right.  \n",
    "\n",
    "# 0a."
   ]
  },
  {
   "cell_type": "code",
   "execution_count": 2,
   "id": "c0fbd4a2",
   "metadata": {
    "execution": {
     "iopub.execute_input": "2021-08-08T21:41:43.837435Z",
     "iopub.status.busy": "2021-08-08T21:41:43.836634Z",
     "iopub.status.idle": "2021-08-08T21:41:43.841939Z",
     "shell.execute_reply": "2021-08-08T21:41:43.842528Z",
     "shell.execute_reply.started": "2021-08-08T00:25:25.825101Z"
    },
    "papermill": {
     "duration": 0.03093,
     "end_time": "2021-08-08T21:41:43.842721",
     "exception": false,
     "start_time": "2021-08-08T21:41:43.811791",
     "status": "completed"
    },
    "tags": []
   },
   "outputs": [
    {
     "data": {
      "application/javascript": [
       "parent.postMessage({\"jupyterEvent\": \"custom.exercise_interaction\", \"data\": {\"outcomeType\": 1, \"valueTowardsCompletion\": 0.3333333333333333, \"interactionType\": 1, \"questionType\": 1, \"questionId\": \"0.1_ZA\", \"learnToolsVersion\": \"0.3.4\", \"failureMessage\": \"\", \"exceptionClass\": \"\", \"trace\": \"\"}}, \"*\")"
      ],
      "text/plain": [
       "<IPython.core.display.Javascript object>"
      ]
     },
     "metadata": {},
     "output_type": "display_data"
    },
    {
     "data": {
      "text/markdown": [
       "<span style=\"color:#33cc33\">Correct:</span> \n",
       "\n",
       "The empty string has length zero. Note that the empty string is also the only string that Python considers as False when converting to boolean."
      ],
      "text/plain": [
       "Correct: \n",
       "\n",
       "The empty string has length zero. Note that the empty string is also the only string that Python considers as False when converting to boolean."
      ]
     },
     "metadata": {},
     "output_type": "display_data"
    }
   ],
   "source": [
    "a = \"\"\n",
    "length = 0\n",
    "q0.a.check()"
   ]
  },
  {
   "cell_type": "markdown",
   "id": "9919d254",
   "metadata": {
    "papermill": {
     "duration": 0.01722,
     "end_time": "2021-08-08T21:41:43.877814",
     "exception": false,
     "start_time": "2021-08-08T21:41:43.860594",
     "status": "completed"
    },
    "tags": []
   },
   "source": [
    "# 0b."
   ]
  },
  {
   "cell_type": "code",
   "execution_count": 3,
   "id": "cab255ac",
   "metadata": {
    "execution": {
     "iopub.execute_input": "2021-08-08T21:41:43.916339Z",
     "iopub.status.busy": "2021-08-08T21:41:43.915690Z",
     "iopub.status.idle": "2021-08-08T21:41:43.925940Z",
     "shell.execute_reply": "2021-08-08T21:41:43.925377Z",
     "shell.execute_reply.started": "2021-08-08T00:26:55.801673Z"
    },
    "papermill": {
     "duration": 0.030659,
     "end_time": "2021-08-08T21:41:43.926100",
     "exception": false,
     "start_time": "2021-08-08T21:41:43.895441",
     "status": "completed"
    },
    "tags": []
   },
   "outputs": [
    {
     "data": {
      "application/javascript": [
       "parent.postMessage({\"jupyterEvent\": \"custom.exercise_interaction\", \"data\": {\"outcomeType\": 1, \"valueTowardsCompletion\": 0.3333333333333333, \"interactionType\": 1, \"questionType\": 1, \"questionId\": \"0.2_ZB\", \"learnToolsVersion\": \"0.3.4\", \"failureMessage\": \"\", \"exceptionClass\": \"\", \"trace\": \"\"}}, \"*\")"
      ],
      "text/plain": [
       "<IPython.core.display.Javascript object>"
      ]
     },
     "metadata": {},
     "output_type": "display_data"
    },
    {
     "data": {
      "text/markdown": [
       "<span style=\"color:#33cc33\">Correct:</span> \n",
       "\n",
       "Keep in mind Python includes spaces (and punctuation) when counting string length."
      ],
      "text/plain": [
       "Correct: \n",
       "\n",
       "Keep in mind Python includes spaces (and punctuation) when counting string length."
      ]
     },
     "metadata": {},
     "output_type": "display_data"
    }
   ],
   "source": [
    "b = \"it's ok\"\n",
    "length = 7\n",
    "q0.b.check()"
   ]
  },
  {
   "cell_type": "markdown",
   "id": "479df163",
   "metadata": {
    "papermill": {
     "duration": 0.02069,
     "end_time": "2021-08-08T21:41:43.965537",
     "exception": false,
     "start_time": "2021-08-08T21:41:43.944847",
     "status": "completed"
    },
    "tags": []
   },
   "source": [
    "# 0c."
   ]
  },
  {
   "cell_type": "code",
   "execution_count": 4,
   "id": "daadccb9",
   "metadata": {
    "execution": {
     "iopub.execute_input": "2021-08-08T21:41:44.019325Z",
     "iopub.status.busy": "2021-08-08T21:41:44.014732Z",
     "iopub.status.idle": "2021-08-08T21:41:44.030365Z",
     "shell.execute_reply": "2021-08-08T21:41:44.031450Z",
     "shell.execute_reply.started": "2021-08-08T00:28:14.35714Z"
    },
    "papermill": {
     "duration": 0.04222,
     "end_time": "2021-08-08T21:41:44.031770",
     "exception": false,
     "start_time": "2021-08-08T21:41:43.989550",
     "status": "completed"
    },
    "tags": []
   },
   "outputs": [
    {
     "data": {
      "application/javascript": [
       "parent.postMessage({\"jupyterEvent\": \"custom.exercise_interaction\", \"data\": {\"outcomeType\": 1, \"valueTowardsCompletion\": 0.3333333333333333, \"interactionType\": 1, \"questionType\": 1, \"questionId\": \"0.3_ZC\", \"learnToolsVersion\": \"0.3.4\", \"failureMessage\": \"\", \"exceptionClass\": \"\", \"trace\": \"\"}}, \"*\")"
      ],
      "text/plain": [
       "<IPython.core.display.Javascript object>"
      ]
     },
     "metadata": {},
     "output_type": "display_data"
    },
    {
     "data": {
      "text/markdown": [
       "<span style=\"color:#33cc33\">Correct:</span> \n",
       "\n",
       "Even though we use different syntax to create it, the string `c` is identical to `b`. In particular, note that the backslash is not part of the string, so it doesn't contribute to its length."
      ],
      "text/plain": [
       "Correct: \n",
       "\n",
       "Even though we use different syntax to create it, the string `c` is identical to `b`. In particular, note that the backslash is not part of the string, so it doesn't contribute to its length."
      ]
     },
     "metadata": {},
     "output_type": "display_data"
    }
   ],
   "source": [
    "c = 'it\\'s ok'\n",
    "length = 7\n",
    "q0.c.check()"
   ]
  },
  {
   "cell_type": "markdown",
   "id": "5b85e7a8",
   "metadata": {
    "papermill": {
     "duration": 0.024246,
     "end_time": "2021-08-08T21:41:44.085056",
     "exception": false,
     "start_time": "2021-08-08T21:41:44.060810",
     "status": "completed"
    },
    "tags": []
   },
   "source": [
    "# 0d."
   ]
  },
  {
   "cell_type": "code",
   "execution_count": 5,
   "id": "835fded5",
   "metadata": {
    "execution": {
     "iopub.execute_input": "2021-08-08T21:41:44.128388Z",
     "iopub.status.busy": "2021-08-08T21:41:44.127671Z",
     "iopub.status.idle": "2021-08-08T21:41:44.134546Z",
     "shell.execute_reply": "2021-08-08T21:41:44.135163Z",
     "shell.execute_reply.started": "2021-08-08T00:28:29.755051Z"
    },
    "papermill": {
     "duration": 0.030358,
     "end_time": "2021-08-08T21:41:44.135356",
     "exception": false,
     "start_time": "2021-08-08T21:41:44.104998",
     "status": "completed"
    },
    "tags": []
   },
   "outputs": [
    {
     "data": {
      "application/javascript": [
       "parent.postMessage({\"jupyterEvent\": \"custom.exercise_interaction\", \"data\": {\"outcomeType\": 1, \"valueTowardsCompletion\": 0.3333333333333333, \"interactionType\": 1, \"questionType\": 1, \"questionId\": \"0.4_ZD\", \"learnToolsVersion\": \"0.3.4\", \"failureMessage\": \"\", \"exceptionClass\": \"\", \"trace\": \"\"}}, \"*\")"
      ],
      "text/plain": [
       "<IPython.core.display.Javascript object>"
      ]
     },
     "metadata": {},
     "output_type": "display_data"
    },
    {
     "data": {
      "text/markdown": [
       "<span style=\"color:#33cc33\">Correct:</span> \n",
       "\n",
       "The fact that this string was created using triple-quote syntax doesn't make any difference in terms of its content or length. This string is exactly the same as `'hey'`."
      ],
      "text/plain": [
       "Correct: \n",
       "\n",
       "The fact that this string was created using triple-quote syntax doesn't make any difference in terms of its content or length. This string is exactly the same as `'hey'`."
      ]
     },
     "metadata": {},
     "output_type": "display_data"
    }
   ],
   "source": [
    "d = \"\"\"hey\"\"\"\n",
    "length = 3\n",
    "q0.d.check()"
   ]
  },
  {
   "cell_type": "markdown",
   "id": "eaacc8cc",
   "metadata": {
    "papermill": {
     "duration": 0.020555,
     "end_time": "2021-08-08T21:41:44.176732",
     "exception": false,
     "start_time": "2021-08-08T21:41:44.156177",
     "status": "completed"
    },
    "tags": []
   },
   "source": [
    "# 0e."
   ]
  },
  {
   "cell_type": "code",
   "execution_count": 6,
   "id": "096107f0",
   "metadata": {
    "execution": {
     "iopub.execute_input": "2021-08-08T21:41:44.222149Z",
     "iopub.status.busy": "2021-08-08T21:41:44.221489Z",
     "iopub.status.idle": "2021-08-08T21:41:44.228135Z",
     "shell.execute_reply": "2021-08-08T21:41:44.228582Z",
     "shell.execute_reply.started": "2021-08-08T00:29:27.167177Z"
    },
    "papermill": {
     "duration": 0.03076,
     "end_time": "2021-08-08T21:41:44.228787",
     "exception": false,
     "start_time": "2021-08-08T21:41:44.198027",
     "status": "completed"
    },
    "tags": []
   },
   "outputs": [
    {
     "data": {
      "application/javascript": [
       "parent.postMessage({\"jupyterEvent\": \"custom.exercise_interaction\", \"data\": {\"outcomeType\": 1, \"valueTowardsCompletion\": 0.3333333333333333, \"interactionType\": 1, \"questionType\": 1, \"questionId\": \"0.5_ZE\", \"learnToolsVersion\": \"0.3.4\", \"failureMessage\": \"\", \"exceptionClass\": \"\", \"trace\": \"\"}}, \"*\")"
      ],
      "text/plain": [
       "<IPython.core.display.Javascript object>"
      ]
     },
     "metadata": {},
     "output_type": "display_data"
    },
    {
     "data": {
      "text/markdown": [
       "<span style=\"color:#33cc33\">Correct:</span> \n",
       "\n",
       "The newline character is just a single character! (Even though we represent it to Python using a combination of two characters.)"
      ],
      "text/plain": [
       "Correct: \n",
       "\n",
       "The newline character is just a single character! (Even though we represent it to Python using a combination of two characters.)"
      ]
     },
     "metadata": {},
     "output_type": "display_data"
    }
   ],
   "source": [
    "e = '\\n'\n",
    "length = 1\n",
    "q0.e.check()"
   ]
  },
  {
   "cell_type": "markdown",
   "id": "a6226568",
   "metadata": {
    "papermill": {
     "duration": 0.020836,
     "end_time": "2021-08-08T21:41:44.270912",
     "exception": false,
     "start_time": "2021-08-08T21:41:44.250076",
     "status": "completed"
    },
    "tags": []
   },
   "source": [
    "# 1.\n",
    "\n",
    "There is a saying that \"Data scientists spend 80% of their time cleaning data, and 20% of their time complaining about cleaning data.\" Let's see if you can write a function to help clean US zip code data. Given a string, it should return whether or not that string represents a valid zip code. For our purposes, a valid zip code is any string consisting of exactly 5 digits.\n",
    "\n",
    "HINT: `str` has a method that will be useful here. Use `help(str)` to review a list of string methods."
   ]
  },
  {
   "cell_type": "code",
   "execution_count": 7,
   "id": "3337c4ff",
   "metadata": {
    "execution": {
     "iopub.execute_input": "2021-08-08T21:41:44.316848Z",
     "iopub.status.busy": "2021-08-08T21:41:44.316224Z",
     "iopub.status.idle": "2021-08-08T21:41:44.323935Z",
     "shell.execute_reply": "2021-08-08T21:41:44.324410Z",
     "shell.execute_reply.started": "2021-08-08T00:38:41.823439Z"
    },
    "papermill": {
     "duration": 0.032479,
     "end_time": "2021-08-08T21:41:44.324596",
     "exception": false,
     "start_time": "2021-08-08T21:41:44.292117",
     "status": "completed"
    },
    "tags": []
   },
   "outputs": [
    {
     "data": {
      "application/javascript": [
       "parent.postMessage({\"jupyterEvent\": \"custom.exercise_interaction\", \"data\": {\"outcomeType\": 1, \"valueTowardsCompletion\": 0.3333333333333333, \"interactionType\": 1, \"questionType\": 2, \"questionId\": \"1_ZipValidator\", \"learnToolsVersion\": \"0.3.4\", \"failureMessage\": \"\", \"exceptionClass\": \"\", \"trace\": \"\"}}, \"*\")"
      ],
      "text/plain": [
       "<IPython.core.display.Javascript object>"
      ]
     },
     "metadata": {},
     "output_type": "display_data"
    },
    {
     "data": {
      "text/markdown": [
       "<span style=\"color:#33cc33\">Correct</span>"
      ],
      "text/plain": [
       "Correct"
      ]
     },
     "metadata": {},
     "output_type": "display_data"
    }
   ],
   "source": [
    "def is_valid_zip(zip_code):\n",
    "    \"\"\"Returns whether the input string is a valid (5 digit) zip code\n",
    "    \"\"\"\n",
    "   \n",
    "    return  len(zip_code) == 5 and zip_code.isnumeric()\n",
    "\n",
    "# Check your answer\n",
    "q1.check()"
   ]
  },
  {
   "cell_type": "code",
   "execution_count": 8,
   "id": "23921fe6",
   "metadata": {
    "execution": {
     "iopub.execute_input": "2021-08-08T21:41:44.374124Z",
     "iopub.status.busy": "2021-08-08T21:41:44.373422Z",
     "iopub.status.idle": "2021-08-08T21:41:44.376138Z",
     "shell.execute_reply": "2021-08-08T21:41:44.376777Z"
    },
    "papermill": {
     "duration": 0.030124,
     "end_time": "2021-08-08T21:41:44.376988",
     "exception": false,
     "start_time": "2021-08-08T21:41:44.346864",
     "status": "completed"
    },
    "tags": []
   },
   "outputs": [],
   "source": [
    "#q1.hint()\n",
    "#q1.solution()"
   ]
  },
  {
   "cell_type": "markdown",
   "id": "0598282e",
   "metadata": {
    "papermill": {
     "duration": 0.022525,
     "end_time": "2021-08-08T21:41:44.422085",
     "exception": false,
     "start_time": "2021-08-08T21:41:44.399560",
     "status": "completed"
    },
    "tags": []
   },
   "source": [
    "# 2.\n",
    "\n",
    "A researcher has gathered thousands of news articles. But she wants to focus her attention on articles including a specific word. Complete the function below to help her filter her list of articles.\n",
    "\n",
    "Your function should meet the following criteria:\n",
    "\n",
    "- Do not include documents where the keyword string shows up only as a part of a larger word. For example, if she were looking for the keyword “closed”, you would not include the string “enclosed.” \n",
    "- She does not want you to distinguish upper case from lower case letters. So the phrase “Closed the case.” would be included when the keyword is “closed”\n",
    "- Do not let periods or commas affect what is matched. “It is closed.” would be included when the keyword is “closed”. But you can assume there are no other types of punctuation."
   ]
  },
  {
   "cell_type": "code",
   "execution_count": 9,
   "id": "08ccc29f",
   "metadata": {
    "execution": {
     "iopub.execute_input": "2021-08-08T21:41:44.470625Z",
     "iopub.status.busy": "2021-08-08T21:41:44.469980Z",
     "iopub.status.idle": "2021-08-08T21:41:44.478838Z",
     "shell.execute_reply": "2021-08-08T21:41:44.478305Z",
     "shell.execute_reply.started": "2021-08-08T00:58:15.525786Z"
    },
    "papermill": {
     "duration": 0.034055,
     "end_time": "2021-08-08T21:41:44.478998",
     "exception": false,
     "start_time": "2021-08-08T21:41:44.444943",
     "status": "completed"
    },
    "tags": []
   },
   "outputs": [
    {
     "data": {
      "application/javascript": [
       "parent.postMessage({\"jupyterEvent\": \"custom.exercise_interaction\", \"data\": {\"outcomeType\": 2, \"failureMessage\": \"Expected return value of `[0]` given `doc_list=['The Learn Python Challenge Casino', 'They bought a car, and a horse', 'Casinoville?']`, `keyword='casino'`, but got `[0, 1, 2]` instead.\", \"interactionType\": 1, \"questionType\": 2, \"questionId\": \"2_WordSearch\", \"learnToolsVersion\": \"0.3.4\", \"valueTowardsCompletion\": 0.0, \"exceptionClass\": \"\", \"trace\": \"\"}}, \"*\")"
      ],
      "text/plain": [
       "<IPython.core.display.Javascript object>"
      ]
     },
     "metadata": {},
     "output_type": "display_data"
    },
    {
     "data": {
      "text/markdown": [
       "<span style=\"color:#cc3333\">Incorrect:</span> Expected return value of `[0]` given `doc_list=['The Learn Python Challenge Casino', 'They bought a car, and a horse', 'Casinoville?']`, `keyword='casino'`, but got `[0, 1, 2]` instead."
      ],
      "text/plain": [
       "Incorrect: Expected return value of `[0]` given `doc_list=['The Learn Python Challenge Casino', 'They bought a car, and a horse', 'Casinoville?']`, `keyword='casino'`, but got `[0, 1, 2]` instead."
      ]
     },
     "metadata": {},
     "output_type": "display_data"
    }
   ],
   "source": [
    "def word_search(doc_list, keyword):\n",
    "    \"\"\"\n",
    "    Takes a list of documents (each document is a string) and a keyword. \n",
    "    Returns list of the index values into the original list for all documents \n",
    "    containing the keyword.\n",
    "\n",
    "    Example:\n",
    "    doc_list = [\"The Learn Python Challenge Casino.\", \"They bought a car\", \"Casinoville\"]\n",
    "    >>> word_search(doc_list, 'casino')\n",
    "    >>> [0]\n",
    "    \"\"\"\n",
    "    return [doc_list.index(keyword) for keyword in doc_list]\n",
    "\n",
    "# Check your answer\n",
    "q2.check()"
   ]
  },
  {
   "cell_type": "code",
   "execution_count": 10,
   "id": "65c0176f",
   "metadata": {
    "execution": {
     "iopub.execute_input": "2021-08-08T21:41:44.531520Z",
     "iopub.status.busy": "2021-08-08T21:41:44.530807Z",
     "iopub.status.idle": "2021-08-08T21:41:44.534242Z",
     "shell.execute_reply": "2021-08-08T21:41:44.533541Z",
     "shell.execute_reply.started": "2021-08-08T01:01:19.387567Z"
    },
    "papermill": {
     "duration": 0.030944,
     "end_time": "2021-08-08T21:41:44.534398",
     "exception": false,
     "start_time": "2021-08-08T21:41:44.503454",
     "status": "completed"
    },
    "tags": []
   },
   "outputs": [],
   "source": [
    "#q2.hint()\n",
    "#q2.solution()"
   ]
  },
  {
   "cell_type": "markdown",
   "id": "174fff34",
   "metadata": {
    "papermill": {
     "duration": 0.023086,
     "end_time": "2021-08-08T21:41:44.581454",
     "exception": false,
     "start_time": "2021-08-08T21:41:44.558368",
     "status": "completed"
    },
    "tags": []
   },
   "source": [
    "# 3.\n",
    "\n",
    "Now the researcher wants to supply multiple keywords to search for. Complete the function below to help her.\n",
    "\n",
    "(You're encouraged to use the `word_search` function you just wrote when implementing this function. Reusing code in this way makes your programs more robust and readable - and it saves typing!)"
   ]
  },
  {
   "cell_type": "code",
   "execution_count": 11,
   "id": "d2b34d7b",
   "metadata": {
    "execution": {
     "iopub.execute_input": "2021-08-08T21:41:44.634383Z",
     "iopub.status.busy": "2021-08-08T21:41:44.633688Z",
     "iopub.status.idle": "2021-08-08T21:41:44.642299Z",
     "shell.execute_reply": "2021-08-08T21:41:44.642926Z"
    },
    "papermill": {
     "duration": 0.037986,
     "end_time": "2021-08-08T21:41:44.643148",
     "exception": false,
     "start_time": "2021-08-08T21:41:44.605162",
     "status": "completed"
    },
    "tags": []
   },
   "outputs": [
    {
     "data": {
      "application/javascript": [
       "parent.postMessage({\"jupyterEvent\": \"custom.exercise_interaction\", \"data\": {\"outcomeType\": 4, \"interactionType\": 1, \"questionType\": 2, \"questionId\": \"3_MultiWordSearch\", \"learnToolsVersion\": \"0.3.4\", \"valueTowardsCompletion\": 0.0, \"failureMessage\": \"\", \"exceptionClass\": \"\", \"trace\": \"\"}}, \"*\")"
      ],
      "text/plain": [
       "<IPython.core.display.Javascript object>"
      ]
     },
     "metadata": {},
     "output_type": "display_data"
    },
    {
     "data": {
      "text/markdown": [
       "<span style=\"color:#ccaa33\">Check:</span> When you've updated the starter code, `check()` will tell you whether your code is correct. "
      ],
      "text/plain": [
       "Check: When you've updated the starter code, `check()` will tell you whether your code is correct. "
      ]
     },
     "metadata": {},
     "output_type": "display_data"
    }
   ],
   "source": [
    "def multi_word_search(doc_list, keywords):\n",
    "    \"\"\"\n",
    "    Takes list of documents (each document is a string) and a list of keywords.  \n",
    "    Returns a dictionary where each key is a keyword, and the value is a list of indices\n",
    "    (from doc_list) of the documents containing that keyword\n",
    "\n",
    "    >>> doc_list = [\"The Learn Python Challenge Casino.\", \"They bought a car and a casino\", \"Casinoville\"]\n",
    "    >>> keywords = ['casino', 'they']\n",
    "    >>> multi_word_search(doc_list, keywords)\n",
    "    {'casino': [0, 1], 'they': [1]}\n",
    "    \"\"\"\n",
    "    pass\n",
    "\n",
    "# Check your answer\n",
    "q3.check()"
   ]
  },
  {
   "cell_type": "code",
   "execution_count": 12,
   "id": "cfd1d214",
   "metadata": {
    "execution": {
     "iopub.execute_input": "2021-08-08T21:41:44.700390Z",
     "iopub.status.busy": "2021-08-08T21:41:44.699351Z",
     "iopub.status.idle": "2021-08-08T21:41:44.708088Z",
     "shell.execute_reply": "2021-08-08T21:41:44.708618Z",
     "shell.execute_reply.started": "2021-08-08T21:40:59.461498Z"
    },
    "papermill": {
     "duration": 0.039025,
     "end_time": "2021-08-08T21:41:44.708794",
     "exception": false,
     "start_time": "2021-08-08T21:41:44.669769",
     "status": "completed"
    },
    "tags": []
   },
   "outputs": [
    {
     "data": {
      "application/javascript": [
       "parent.postMessage({\"jupyterEvent\": \"custom.exercise_interaction\", \"data\": {\"interactionType\": 3, \"questionType\": 2, \"questionId\": \"3_MultiWordSearch\", \"learnToolsVersion\": \"0.3.4\", \"valueTowardsCompletion\": 0.0, \"failureMessage\": \"\", \"exceptionClass\": \"\", \"trace\": \"\", \"outcomeType\": 4}}, \"*\")"
      ],
      "text/plain": [
       "<IPython.core.display.Javascript object>"
      ]
     },
     "metadata": {},
     "output_type": "display_data"
    },
    {
     "data": {
      "text/markdown": [
       "<span style=\"color:#33cc99\">Solution:</span> \n",
       "```python\n",
       "def multi_word_search(documents, keywords):\n",
       "    keyword_to_indices = {}\n",
       "    for keyword in keywords:\n",
       "        keyword_to_indices[keyword] = word_search(documents, keyword)\n",
       "    return keyword_to_indices\n",
       "```"
      ],
      "text/plain": [
       "Solution: \n",
       "```python\n",
       "def multi_word_search(documents, keywords):\n",
       "    keyword_to_indices = {}\n",
       "    for keyword in keywords:\n",
       "        keyword_to_indices[keyword] = word_search(documents, keyword)\n",
       "    return keyword_to_indices\n",
       "```"
      ]
     },
     "metadata": {},
     "output_type": "display_data"
    }
   ],
   "source": [
    "q3.solution()"
   ]
  },
  {
   "cell_type": "markdown",
   "id": "8198e5dd",
   "metadata": {
    "papermill": {
     "duration": 0.027547,
     "end_time": "2021-08-08T21:41:44.764245",
     "exception": false,
     "start_time": "2021-08-08T21:41:44.736698",
     "status": "completed"
    },
    "tags": []
   },
   "source": [
    "# Keep Going\n",
    "\n",
    "You've learned a lot. But even the best programmers rely heavily on \"libraries\" of code from other programmers. You'll learn about that in **[the last lesson](https://www.kaggle.com/colinmorris/working-with-external-libraries)**.\n"
   ]
  },
  {
   "cell_type": "markdown",
   "id": "16dd12d8",
   "metadata": {
    "papermill": {
     "duration": 0.025314,
     "end_time": "2021-08-08T21:41:44.817567",
     "exception": false,
     "start_time": "2021-08-08T21:41:44.792253",
     "status": "completed"
    },
    "tags": []
   },
   "source": [
    "---\n",
    "\n",
    "\n",
    "\n",
    "\n",
    "*Have questions or comments? Visit the [Learn Discussion forum](https://www.kaggle.com/learn-forum/161283) to chat with other Learners.*"
   ]
  }
 ],
 "metadata": {
  "kernelspec": {
   "display_name": "Python 3",
   "language": "python",
   "name": "python3"
  },
  "language_info": {
   "codemirror_mode": {
    "name": "ipython",
    "version": 3
   },
   "file_extension": ".py",
   "mimetype": "text/x-python",
   "name": "python",
   "nbconvert_exporter": "python",
   "pygments_lexer": "ipython3",
   "version": "3.7.10"
  },
  "papermill": {
   "default_parameters": {},
   "duration": 11.956808,
   "end_time": "2021-08-08T21:41:46.400726",
   "environment_variables": {},
   "exception": null,
   "input_path": "__notebook__.ipynb",
   "output_path": "__notebook__.ipynb",
   "parameters": {},
   "start_time": "2021-08-08T21:41:34.443918",
   "version": "2.3.3"
  }
 },
 "nbformat": 4,
 "nbformat_minor": 5
}
