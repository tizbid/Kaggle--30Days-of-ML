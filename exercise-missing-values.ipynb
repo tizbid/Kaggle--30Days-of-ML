{
 "cells": [
  {
   "cell_type": "markdown",
   "id": "1984dac0",
   "metadata": {
    "papermill": {
     "duration": 0.022981,
     "end_time": "2021-08-15T13:12:42.481185",
     "exception": false,
     "start_time": "2021-08-15T13:12:42.458204",
     "status": "completed"
    },
    "tags": []
   },
   "source": [
    "**This notebook is an exercise in the [Intermediate Machine Learning](https://www.kaggle.com/learn/intermediate-machine-learning) course.  You can reference the tutorial at [this link](https://www.kaggle.com/alexisbcook/missing-values).**\n",
    "\n",
    "---\n"
   ]
  },
  {
   "cell_type": "markdown",
   "id": "c686fb2e",
   "metadata": {
    "papermill": {
     "duration": 0.020792,
     "end_time": "2021-08-15T13:12:42.523610",
     "exception": false,
     "start_time": "2021-08-15T13:12:42.502818",
     "status": "completed"
    },
    "tags": []
   },
   "source": [
    "Now it's your turn to test your new knowledge of **missing values** handling. You'll probably find it makes a big difference.\n",
    "\n",
    "# Setup\n",
    "\n",
    "The questions will give you feedback on your work. Run the following cell to set up the feedback system."
   ]
  },
  {
   "cell_type": "code",
   "execution_count": 1,
   "id": "17236bf5",
   "metadata": {
    "execution": {
     "iopub.execute_input": "2021-08-15T13:12:42.569649Z",
     "iopub.status.busy": "2021-08-15T13:12:42.568517Z",
     "iopub.status.idle": "2021-08-15T13:12:42.705465Z",
     "shell.execute_reply": "2021-08-15T13:12:42.705955Z",
     "shell.execute_reply.started": "2021-08-15T12:58:30.598345Z"
    },
    "papermill": {
     "duration": 0.161781,
     "end_time": "2021-08-15T13:12:42.706262",
     "exception": false,
     "start_time": "2021-08-15T13:12:42.544481",
     "status": "completed"
    },
    "tags": []
   },
   "outputs": [
    {
     "name": "stdout",
     "output_type": "stream",
     "text": [
      "Setup Complete\n"
     ]
    }
   ],
   "source": [
    "# Set up code checking\n",
    "import os\n",
    "if not os.path.exists(\"../input/train.csv\"):\n",
    "    os.symlink(\"../input/home-data-for-ml-course/train.csv\", \"../input/train.csv\")  \n",
    "    os.symlink(\"../input/home-data-for-ml-course/test.csv\", \"../input/test.csv\") \n",
    "from learntools.core import binder\n",
    "binder.bind(globals())\n",
    "from learntools.ml_intermediate.ex2 import *\n",
    "print(\"Setup Complete\")"
   ]
  },
  {
   "cell_type": "markdown",
   "id": "ecb3f3ab",
   "metadata": {
    "papermill": {
     "duration": 0.021075,
     "end_time": "2021-08-15T13:12:42.749136",
     "exception": false,
     "start_time": "2021-08-15T13:12:42.728061",
     "status": "completed"
    },
    "tags": []
   },
   "source": [
    "In this exercise, you will work with data from the [Housing Prices Competition for Kaggle Learn Users](https://www.kaggle.com/c/home-data-for-ml-course). \n",
    "\n",
    "![Ames Housing dataset image](https://i.imgur.com/lTJVG4e.png)\n",
    "\n",
    "Run the next code cell without changes to load the training and validation sets in `X_train`, `X_valid`, `y_train`, and `y_valid`.  The test set is loaded in `X_test`."
   ]
  },
  {
   "cell_type": "code",
   "execution_count": 2,
   "id": "f97d6aae",
   "metadata": {
    "execution": {
     "iopub.execute_input": "2021-08-15T13:12:42.798460Z",
     "iopub.status.busy": "2021-08-15T13:12:42.797609Z",
     "iopub.status.idle": "2021-08-15T13:12:43.988298Z",
     "shell.execute_reply": "2021-08-15T13:12:43.988836Z",
     "shell.execute_reply.started": "2021-08-15T12:58:30.610133Z"
    },
    "papermill": {
     "duration": 1.218401,
     "end_time": "2021-08-15T13:12:43.989021",
     "exception": false,
     "start_time": "2021-08-15T13:12:42.770620",
     "status": "completed"
    },
    "tags": []
   },
   "outputs": [],
   "source": [
    "import pandas as pd\n",
    "from sklearn.model_selection import train_test_split\n",
    "\n",
    "# Read the data\n",
    "X_full = pd.read_csv('../input/train.csv', index_col='Id')\n",
    "X_test_full = pd.read_csv('../input/test.csv', index_col='Id')\n",
    "\n",
    "# Remove rows with missing target, separate target from predictors\n",
    "X_full.dropna(axis=0, subset=['SalePrice'], inplace=True)\n",
    "y = X_full.SalePrice\n",
    "X_full.drop(['SalePrice'], axis=1, inplace=True)\n",
    "\n",
    "# To keep things simple, we'll use only numerical predictors\n",
    "X = X_full.select_dtypes(exclude=['object'])\n",
    "X_test = X_test_full.select_dtypes(exclude=['object'])\n",
    "\n",
    "# Break off validation set from training data\n",
    "X_train, X_valid, y_train, y_valid = train_test_split(X, y, train_size=0.8, test_size=0.2,\n",
    "                                                      random_state=0)"
   ]
  },
  {
   "cell_type": "markdown",
   "id": "fbe8beec",
   "metadata": {
    "papermill": {
     "duration": 0.020913,
     "end_time": "2021-08-15T13:12:44.036516",
     "exception": false,
     "start_time": "2021-08-15T13:12:44.015603",
     "status": "completed"
    },
    "tags": []
   },
   "source": [
    "Use the next code cell to print the first five rows of the data."
   ]
  },
  {
   "cell_type": "code",
   "execution_count": 3,
   "id": "7c77ea1e",
   "metadata": {
    "execution": {
     "iopub.execute_input": "2021-08-15T13:12:44.091290Z",
     "iopub.status.busy": "2021-08-15T13:12:44.090591Z",
     "iopub.status.idle": "2021-08-15T13:12:44.113666Z",
     "shell.execute_reply": "2021-08-15T13:12:44.114118Z",
     "shell.execute_reply.started": "2021-08-15T12:58:30.693209Z"
    },
    "papermill": {
     "duration": 0.052927,
     "end_time": "2021-08-15T13:12:44.114274",
     "exception": false,
     "start_time": "2021-08-15T13:12:44.061347",
     "status": "completed"
    },
    "tags": []
   },
   "outputs": [
    {
     "data": {
      "text/html": [
       "<div>\n",
       "<style scoped>\n",
       "    .dataframe tbody tr th:only-of-type {\n",
       "        vertical-align: middle;\n",
       "    }\n",
       "\n",
       "    .dataframe tbody tr th {\n",
       "        vertical-align: top;\n",
       "    }\n",
       "\n",
       "    .dataframe thead th {\n",
       "        text-align: right;\n",
       "    }\n",
       "</style>\n",
       "<table border=\"1\" class=\"dataframe\">\n",
       "  <thead>\n",
       "    <tr style=\"text-align: right;\">\n",
       "      <th></th>\n",
       "      <th>MSSubClass</th>\n",
       "      <th>LotFrontage</th>\n",
       "      <th>LotArea</th>\n",
       "      <th>OverallQual</th>\n",
       "      <th>OverallCond</th>\n",
       "      <th>YearBuilt</th>\n",
       "      <th>YearRemodAdd</th>\n",
       "      <th>MasVnrArea</th>\n",
       "      <th>BsmtFinSF1</th>\n",
       "      <th>BsmtFinSF2</th>\n",
       "      <th>...</th>\n",
       "      <th>GarageArea</th>\n",
       "      <th>WoodDeckSF</th>\n",
       "      <th>OpenPorchSF</th>\n",
       "      <th>EnclosedPorch</th>\n",
       "      <th>3SsnPorch</th>\n",
       "      <th>ScreenPorch</th>\n",
       "      <th>PoolArea</th>\n",
       "      <th>MiscVal</th>\n",
       "      <th>MoSold</th>\n",
       "      <th>YrSold</th>\n",
       "    </tr>\n",
       "    <tr>\n",
       "      <th>Id</th>\n",
       "      <th></th>\n",
       "      <th></th>\n",
       "      <th></th>\n",
       "      <th></th>\n",
       "      <th></th>\n",
       "      <th></th>\n",
       "      <th></th>\n",
       "      <th></th>\n",
       "      <th></th>\n",
       "      <th></th>\n",
       "      <th></th>\n",
       "      <th></th>\n",
       "      <th></th>\n",
       "      <th></th>\n",
       "      <th></th>\n",
       "      <th></th>\n",
       "      <th></th>\n",
       "      <th></th>\n",
       "      <th></th>\n",
       "      <th></th>\n",
       "      <th></th>\n",
       "    </tr>\n",
       "  </thead>\n",
       "  <tbody>\n",
       "    <tr>\n",
       "      <th>619</th>\n",
       "      <td>20</td>\n",
       "      <td>90.0</td>\n",
       "      <td>11694</td>\n",
       "      <td>9</td>\n",
       "      <td>5</td>\n",
       "      <td>2007</td>\n",
       "      <td>2007</td>\n",
       "      <td>452.0</td>\n",
       "      <td>48</td>\n",
       "      <td>0</td>\n",
       "      <td>...</td>\n",
       "      <td>774</td>\n",
       "      <td>0</td>\n",
       "      <td>108</td>\n",
       "      <td>0</td>\n",
       "      <td>0</td>\n",
       "      <td>260</td>\n",
       "      <td>0</td>\n",
       "      <td>0</td>\n",
       "      <td>7</td>\n",
       "      <td>2007</td>\n",
       "    </tr>\n",
       "    <tr>\n",
       "      <th>871</th>\n",
       "      <td>20</td>\n",
       "      <td>60.0</td>\n",
       "      <td>6600</td>\n",
       "      <td>5</td>\n",
       "      <td>5</td>\n",
       "      <td>1962</td>\n",
       "      <td>1962</td>\n",
       "      <td>0.0</td>\n",
       "      <td>0</td>\n",
       "      <td>0</td>\n",
       "      <td>...</td>\n",
       "      <td>308</td>\n",
       "      <td>0</td>\n",
       "      <td>0</td>\n",
       "      <td>0</td>\n",
       "      <td>0</td>\n",
       "      <td>0</td>\n",
       "      <td>0</td>\n",
       "      <td>0</td>\n",
       "      <td>8</td>\n",
       "      <td>2009</td>\n",
       "    </tr>\n",
       "    <tr>\n",
       "      <th>93</th>\n",
       "      <td>30</td>\n",
       "      <td>80.0</td>\n",
       "      <td>13360</td>\n",
       "      <td>5</td>\n",
       "      <td>7</td>\n",
       "      <td>1921</td>\n",
       "      <td>2006</td>\n",
       "      <td>0.0</td>\n",
       "      <td>713</td>\n",
       "      <td>0</td>\n",
       "      <td>...</td>\n",
       "      <td>432</td>\n",
       "      <td>0</td>\n",
       "      <td>0</td>\n",
       "      <td>44</td>\n",
       "      <td>0</td>\n",
       "      <td>0</td>\n",
       "      <td>0</td>\n",
       "      <td>0</td>\n",
       "      <td>8</td>\n",
       "      <td>2009</td>\n",
       "    </tr>\n",
       "    <tr>\n",
       "      <th>818</th>\n",
       "      <td>20</td>\n",
       "      <td>NaN</td>\n",
       "      <td>13265</td>\n",
       "      <td>8</td>\n",
       "      <td>5</td>\n",
       "      <td>2002</td>\n",
       "      <td>2002</td>\n",
       "      <td>148.0</td>\n",
       "      <td>1218</td>\n",
       "      <td>0</td>\n",
       "      <td>...</td>\n",
       "      <td>857</td>\n",
       "      <td>150</td>\n",
       "      <td>59</td>\n",
       "      <td>0</td>\n",
       "      <td>0</td>\n",
       "      <td>0</td>\n",
       "      <td>0</td>\n",
       "      <td>0</td>\n",
       "      <td>7</td>\n",
       "      <td>2008</td>\n",
       "    </tr>\n",
       "    <tr>\n",
       "      <th>303</th>\n",
       "      <td>20</td>\n",
       "      <td>118.0</td>\n",
       "      <td>13704</td>\n",
       "      <td>7</td>\n",
       "      <td>5</td>\n",
       "      <td>2001</td>\n",
       "      <td>2002</td>\n",
       "      <td>150.0</td>\n",
       "      <td>0</td>\n",
       "      <td>0</td>\n",
       "      <td>...</td>\n",
       "      <td>843</td>\n",
       "      <td>468</td>\n",
       "      <td>81</td>\n",
       "      <td>0</td>\n",
       "      <td>0</td>\n",
       "      <td>0</td>\n",
       "      <td>0</td>\n",
       "      <td>0</td>\n",
       "      <td>1</td>\n",
       "      <td>2006</td>\n",
       "    </tr>\n",
       "  </tbody>\n",
       "</table>\n",
       "<p>5 rows × 36 columns</p>\n",
       "</div>"
      ],
      "text/plain": [
       "     MSSubClass  LotFrontage  LotArea  OverallQual  OverallCond  YearBuilt  \\\n",
       "Id                                                                           \n",
       "619          20         90.0    11694            9            5       2007   \n",
       "871          20         60.0     6600            5            5       1962   \n",
       "93           30         80.0    13360            5            7       1921   \n",
       "818          20          NaN    13265            8            5       2002   \n",
       "303          20        118.0    13704            7            5       2001   \n",
       "\n",
       "     YearRemodAdd  MasVnrArea  BsmtFinSF1  BsmtFinSF2  ...  GarageArea  \\\n",
       "Id                                                     ...               \n",
       "619          2007       452.0          48           0  ...         774   \n",
       "871          1962         0.0           0           0  ...         308   \n",
       "93           2006         0.0         713           0  ...         432   \n",
       "818          2002       148.0        1218           0  ...         857   \n",
       "303          2002       150.0           0           0  ...         843   \n",
       "\n",
       "     WoodDeckSF  OpenPorchSF  EnclosedPorch  3SsnPorch  ScreenPorch  PoolArea  \\\n",
       "Id                                                                              \n",
       "619           0          108              0          0          260         0   \n",
       "871           0            0              0          0            0         0   \n",
       "93            0            0             44          0            0         0   \n",
       "818         150           59              0          0            0         0   \n",
       "303         468           81              0          0            0         0   \n",
       "\n",
       "     MiscVal  MoSold  YrSold  \n",
       "Id                            \n",
       "619        0       7    2007  \n",
       "871        0       8    2009  \n",
       "93         0       8    2009  \n",
       "818        0       7    2008  \n",
       "303        0       1    2006  \n",
       "\n",
       "[5 rows x 36 columns]"
      ]
     },
     "execution_count": 3,
     "metadata": {},
     "output_type": "execute_result"
    }
   ],
   "source": [
    "X_train.head()"
   ]
  },
  {
   "cell_type": "markdown",
   "id": "649bf4dd",
   "metadata": {
    "papermill": {
     "duration": 0.021131,
     "end_time": "2021-08-15T13:12:44.157224",
     "exception": false,
     "start_time": "2021-08-15T13:12:44.136093",
     "status": "completed"
    },
    "tags": []
   },
   "source": [
    "You can already see a few missing values in the first several rows.  In the next step, you'll obtain a more comprehensive understanding of the missing values in the dataset.\n",
    "\n",
    "# Step 1: Preliminary investigation\n",
    "\n",
    "Run the code cell below without changes."
   ]
  },
  {
   "cell_type": "code",
   "execution_count": 4,
   "id": "432c5a9d",
   "metadata": {
    "execution": {
     "iopub.execute_input": "2021-08-15T13:12:44.202624Z",
     "iopub.status.busy": "2021-08-15T13:12:44.201977Z",
     "iopub.status.idle": "2021-08-15T13:12:44.210295Z",
     "shell.execute_reply": "2021-08-15T13:12:44.209826Z",
     "shell.execute_reply.started": "2021-08-15T12:58:30.718456Z"
    },
    "papermill": {
     "duration": 0.032003,
     "end_time": "2021-08-15T13:12:44.210431",
     "exception": false,
     "start_time": "2021-08-15T13:12:44.178428",
     "status": "completed"
    },
    "tags": []
   },
   "outputs": [
    {
     "name": "stdout",
     "output_type": "stream",
     "text": [
      "(1168, 36)\n",
      "LotFrontage    212\n",
      "MasVnrArea       6\n",
      "GarageYrBlt     58\n",
      "dtype: int64\n"
     ]
    }
   ],
   "source": [
    "# Shape of training data (num_rows, num_columns)\n",
    "print(X_train.shape)\n",
    "\n",
    "# Number of missing values in each column of training data\n",
    "missing_val_count_by_column = (X_train.isnull().sum())\n",
    "print(missing_val_count_by_column[missing_val_count_by_column > 0])"
   ]
  },
  {
   "cell_type": "markdown",
   "id": "5e6de261",
   "metadata": {
    "papermill": {
     "duration": 0.021985,
     "end_time": "2021-08-15T13:12:44.254331",
     "exception": false,
     "start_time": "2021-08-15T13:12:44.232346",
     "status": "completed"
    },
    "tags": []
   },
   "source": [
    "### Part A\n",
    "\n",
    "Use the above output to answer the questions below."
   ]
  },
  {
   "cell_type": "code",
   "execution_count": 5,
   "id": "f96b523d",
   "metadata": {
    "execution": {
     "iopub.execute_input": "2021-08-15T13:12:44.304520Z",
     "iopub.status.busy": "2021-08-15T13:12:44.303540Z",
     "iopub.status.idle": "2021-08-15T13:12:44.309167Z",
     "shell.execute_reply": "2021-08-15T13:12:44.309586Z",
     "shell.execute_reply.started": "2021-08-15T12:58:30.736594Z"
    },
    "papermill": {
     "duration": 0.033851,
     "end_time": "2021-08-15T13:12:44.309769",
     "exception": false,
     "start_time": "2021-08-15T13:12:44.275918",
     "status": "completed"
    },
    "tags": []
   },
   "outputs": [
    {
     "data": {
      "application/javascript": [
       "parent.postMessage({\"jupyterEvent\": \"custom.exercise_interaction\", \"data\": {\"outcomeType\": 1, \"valueTowardsCompletion\": 1.0, \"interactionType\": 1, \"questionType\": 1, \"questionId\": \"1.1_InvestigateEquality\", \"learnToolsVersion\": \"0.3.4\", \"failureMessage\": \"\", \"exceptionClass\": \"\", \"trace\": \"\"}}, \"*\")"
      ],
      "text/plain": [
       "<IPython.core.display.Javascript object>"
      ]
     },
     "metadata": {},
     "output_type": "display_data"
    },
    {
     "data": {
      "text/markdown": [
       "<span style=\"color:#33cc33\">Correct</span>"
      ],
      "text/plain": [
       "Correct"
      ]
     },
     "metadata": {},
     "output_type": "display_data"
    }
   ],
   "source": [
    "# Fill in the line below: How many rows are in the training data?\n",
    "num_rows = X_train.shape[0]\n",
    "\n",
    "# Fill in the line below: How many columns in the training data\n",
    "# have missing values?\n",
    "num_cols_with_missing = 3\n",
    "\n",
    "# Fill in the line below: How many missing entries are contained in \n",
    "# all of the training data?\n",
    "tot_missing = (missing_val_count_by_column[missing_val_count_by_column > 0]).sum()\n",
    "\n",
    "# Check your answers\n",
    "step_1.a.check()"
   ]
  },
  {
   "cell_type": "code",
   "execution_count": 6,
   "id": "445e847f",
   "metadata": {
    "execution": {
     "iopub.execute_input": "2021-08-15T13:12:44.358817Z",
     "iopub.status.busy": "2021-08-15T13:12:44.358174Z",
     "iopub.status.idle": "2021-08-15T13:12:44.360959Z",
     "shell.execute_reply": "2021-08-15T13:12:44.361415Z",
     "shell.execute_reply.started": "2021-08-15T12:58:30.747381Z"
    },
    "papermill": {
     "duration": 0.029256,
     "end_time": "2021-08-15T13:12:44.361579",
     "exception": false,
     "start_time": "2021-08-15T13:12:44.332323",
     "status": "completed"
    },
    "tags": []
   },
   "outputs": [],
   "source": [
    "# Lines below will give you a hint or solution code\n",
    "#step_1.a.hint()\n",
    "#step_1.a.solution()"
   ]
  },
  {
   "cell_type": "markdown",
   "id": "5305a748",
   "metadata": {
    "papermill": {
     "duration": 0.021947,
     "end_time": "2021-08-15T13:12:44.405917",
     "exception": false,
     "start_time": "2021-08-15T13:12:44.383970",
     "status": "completed"
    },
    "tags": []
   },
   "source": [
    "### Part B\n",
    "Considering your answers above, what do you think is likely the best approach to dealing with the missing values?"
   ]
  },
  {
   "cell_type": "code",
   "execution_count": 7,
   "id": "306e74e2",
   "metadata": {
    "execution": {
     "iopub.execute_input": "2021-08-15T13:12:44.455162Z",
     "iopub.status.busy": "2021-08-15T13:12:44.454545Z",
     "iopub.status.idle": "2021-08-15T13:12:44.460006Z",
     "shell.execute_reply": "2021-08-15T13:12:44.459540Z",
     "shell.execute_reply.started": "2021-08-15T12:58:30.758204Z"
    },
    "papermill": {
     "duration": 0.031867,
     "end_time": "2021-08-15T13:12:44.460134",
     "exception": false,
     "start_time": "2021-08-15T13:12:44.428267",
     "status": "completed"
    },
    "tags": []
   },
   "outputs": [
    {
     "data": {
      "application/javascript": [
       "parent.postMessage({\"jupyterEvent\": \"custom.exercise_interaction\", \"data\": {\"outcomeType\": 1, \"valueTowardsCompletion\": 1.0, \"interactionType\": 1, \"questionType\": 4, \"questionId\": \"1.2_InvestigateThought\", \"learnToolsVersion\": \"0.3.4\", \"failureMessage\": \"\", \"exceptionClass\": \"\", \"trace\": \"\"}}, \"*\")"
      ],
      "text/plain": [
       "<IPython.core.display.Javascript object>"
      ]
     },
     "metadata": {},
     "output_type": "display_data"
    },
    {
     "data": {
      "text/markdown": [
       "<span style=\"color:#33cc33\">Correct:</span> \n",
       "\n",
       "Since there are relatively few missing entries in the data (the column with the greatest percentage of missing values is missing less than 20% of its entries), we can expect that dropping columns is unlikely to yield good results.  This is because we'd be throwing away a lot of valuable data, and so imputation will likely perform better."
      ],
      "text/plain": [
       "Correct: \n",
       "\n",
       "Since there are relatively few missing entries in the data (the column with the greatest percentage of missing values is missing less than 20% of its entries), we can expect that dropping columns is unlikely to yield good results.  This is because we'd be throwing away a lot of valuable data, and so imputation will likely perform better."
      ]
     },
     "metadata": {},
     "output_type": "display_data"
    }
   ],
   "source": [
    "# Check your answer (Run this code cell to receive credit!)\n",
    "step_1.b.check()"
   ]
  },
  {
   "cell_type": "code",
   "execution_count": 8,
   "id": "04ac9596",
   "metadata": {
    "execution": {
     "iopub.execute_input": "2021-08-15T13:12:44.510175Z",
     "iopub.status.busy": "2021-08-15T13:12:44.509482Z",
     "iopub.status.idle": "2021-08-15T13:12:44.512499Z",
     "shell.execute_reply": "2021-08-15T13:12:44.512941Z",
     "shell.execute_reply.started": "2021-08-15T12:58:30.774264Z"
    },
    "papermill": {
     "duration": 0.030048,
     "end_time": "2021-08-15T13:12:44.513105",
     "exception": false,
     "start_time": "2021-08-15T13:12:44.483057",
     "status": "completed"
    },
    "tags": []
   },
   "outputs": [],
   "source": [
    "#step_1.b.hint()"
   ]
  },
  {
   "cell_type": "markdown",
   "id": "cdb0a657",
   "metadata": {
    "papermill": {
     "duration": 0.022791,
     "end_time": "2021-08-15T13:12:44.559140",
     "exception": false,
     "start_time": "2021-08-15T13:12:44.536349",
     "status": "completed"
    },
    "tags": []
   },
   "source": [
    "To compare different approaches to dealing with missing values, you'll use the same `score_dataset()` function from the tutorial.  This function reports the [mean absolute error](https://en.wikipedia.org/wiki/Mean_absolute_error) (MAE) from a random forest model."
   ]
  },
  {
   "cell_type": "code",
   "execution_count": 9,
   "id": "937d3c31",
   "metadata": {
    "execution": {
     "iopub.execute_input": "2021-08-15T13:12:44.610844Z",
     "iopub.status.busy": "2021-08-15T13:12:44.610199Z",
     "iopub.status.idle": "2021-08-15T13:12:44.839686Z",
     "shell.execute_reply": "2021-08-15T13:12:44.839136Z",
     "shell.execute_reply.started": "2021-08-15T12:58:30.785748Z"
    },
    "papermill": {
     "duration": 0.257533,
     "end_time": "2021-08-15T13:12:44.839821",
     "exception": false,
     "start_time": "2021-08-15T13:12:44.582288",
     "status": "completed"
    },
    "tags": []
   },
   "outputs": [],
   "source": [
    "from sklearn.ensemble import RandomForestRegressor\n",
    "from sklearn.metrics import mean_absolute_error\n",
    "\n",
    "# Function for comparing different approaches\n",
    "def score_dataset(X_train, X_valid, y_train, y_valid):\n",
    "    model = RandomForestRegressor(n_estimators=100, random_state=0)\n",
    "    model.fit(X_train, y_train)\n",
    "    preds = model.predict(X_valid)\n",
    "    return mean_absolute_error(y_valid, preds)"
   ]
  },
  {
   "cell_type": "markdown",
   "id": "55d3fd5c",
   "metadata": {
    "papermill": {
     "duration": 0.023032,
     "end_time": "2021-08-15T13:12:44.886187",
     "exception": false,
     "start_time": "2021-08-15T13:12:44.863155",
     "status": "completed"
    },
    "tags": []
   },
   "source": [
    "# Step 2: Drop columns with missing values\n",
    "\n",
    "In this step, you'll preprocess the data in `X_train` and `X_valid` to remove columns with missing values.  Set the preprocessed DataFrames to `reduced_X_train` and `reduced_X_valid`, respectively.  "
   ]
  },
  {
   "cell_type": "code",
   "execution_count": 10,
   "id": "0d2f3b9a",
   "metadata": {
    "execution": {
     "iopub.execute_input": "2021-08-15T13:12:44.965969Z",
     "iopub.status.busy": "2021-08-15T13:12:44.965234Z",
     "iopub.status.idle": "2021-08-15T13:12:44.971395Z",
     "shell.execute_reply": "2021-08-15T13:12:44.970859Z",
     "shell.execute_reply.started": "2021-08-15T12:58:30.797272Z"
    },
    "papermill": {
     "duration": 0.061431,
     "end_time": "2021-08-15T13:12:44.971533",
     "exception": false,
     "start_time": "2021-08-15T13:12:44.910102",
     "status": "completed"
    },
    "tags": []
   },
   "outputs": [
    {
     "data": {
      "application/javascript": [
       "parent.postMessage({\"jupyterEvent\": \"custom.exercise_interaction\", \"data\": {\"outcomeType\": 1, \"valueTowardsCompletion\": 1.0, \"interactionType\": 1, \"questionType\": 2, \"questionId\": \"2_DropMissing\", \"learnToolsVersion\": \"0.3.4\", \"failureMessage\": \"\", \"exceptionClass\": \"\", \"trace\": \"\"}}, \"*\")"
      ],
      "text/plain": [
       "<IPython.core.display.Javascript object>"
      ]
     },
     "metadata": {},
     "output_type": "display_data"
    },
    {
     "data": {
      "text/markdown": [
       "<span style=\"color:#33cc33\">Correct</span>"
      ],
      "text/plain": [
       "Correct"
      ]
     },
     "metadata": {},
     "output_type": "display_data"
    }
   ],
   "source": [
    "# Fill in the line below: get names of columns with missing values\n",
    "____ # Your code here\n",
    "\n",
    "# Fill in the lines below: drop columns in training and validation data\n",
    "reduced_X_train = X_train.drop(columns=[col for col in X_train.columns if X_train[col].isnull().any()],axis=1)\n",
    "reduced_X_valid = X_valid.drop(columns=[col for col in X_train.columns if X_valid[col].isnull().any()],axis=1)\n",
    "\n",
    "# Check your answers\n",
    "step_2.check()"
   ]
  },
  {
   "cell_type": "code",
   "execution_count": 11,
   "id": "1b489244",
   "metadata": {
    "execution": {
     "iopub.execute_input": "2021-08-15T13:12:45.047193Z",
     "iopub.status.busy": "2021-08-15T13:12:45.046269Z",
     "iopub.status.idle": "2021-08-15T13:12:45.049705Z",
     "shell.execute_reply": "2021-08-15T13:12:45.049206Z",
     "shell.execute_reply.started": "2021-08-15T12:58:30.844767Z"
    },
    "papermill": {
     "duration": 0.045343,
     "end_time": "2021-08-15T13:12:45.049859",
     "exception": false,
     "start_time": "2021-08-15T13:12:45.004516",
     "status": "completed"
    },
    "tags": []
   },
   "outputs": [],
   "source": [
    "# Lines below will give you a hint or solution code\n",
    "#step_2.hint()\n",
    "#step_2.solution()"
   ]
  },
  {
   "cell_type": "markdown",
   "id": "045e7a03",
   "metadata": {
    "papermill": {
     "duration": 0.027839,
     "end_time": "2021-08-15T13:12:45.108049",
     "exception": false,
     "start_time": "2021-08-15T13:12:45.080210",
     "status": "completed"
    },
    "tags": []
   },
   "source": [
    "Run the next code cell without changes to obtain the MAE for this approach."
   ]
  },
  {
   "cell_type": "code",
   "execution_count": 12,
   "id": "2dcab6a8",
   "metadata": {
    "execution": {
     "iopub.execute_input": "2021-08-15T13:12:45.183046Z",
     "iopub.status.busy": "2021-08-15T13:12:45.161663Z",
     "iopub.status.idle": "2021-08-15T13:12:46.370454Z",
     "shell.execute_reply": "2021-08-15T13:12:46.369840Z",
     "shell.execute_reply.started": "2021-08-15T12:58:30.851434Z"
    },
    "papermill": {
     "duration": 1.23852,
     "end_time": "2021-08-15T13:12:46.370585",
     "exception": false,
     "start_time": "2021-08-15T13:12:45.132065",
     "status": "completed"
    },
    "tags": []
   },
   "outputs": [
    {
     "name": "stdout",
     "output_type": "stream",
     "text": [
      "MAE (Drop columns with missing values):\n",
      "17837.82570776256\n"
     ]
    }
   ],
   "source": [
    "print(\"MAE (Drop columns with missing values):\")\n",
    "print(score_dataset(reduced_X_train,reduced_X_valid, y_train, y_valid))"
   ]
  },
  {
   "cell_type": "markdown",
   "id": "754e8e2f",
   "metadata": {
    "papermill": {
     "duration": 0.023674,
     "end_time": "2021-08-15T13:12:46.418876",
     "exception": false,
     "start_time": "2021-08-15T13:12:46.395202",
     "status": "completed"
    },
    "tags": []
   },
   "source": [
    "# Step 3: Imputation\n",
    "\n",
    "### Part A\n",
    "\n",
    "Use the next code cell to impute missing values with the mean value along each column.  Set the preprocessed DataFrames to `imputed_X_train` and `imputed_X_valid`.  Make sure that the column names match those in `X_train` and `X_valid`."
   ]
  },
  {
   "cell_type": "code",
   "execution_count": 13,
   "id": "2c6f368c",
   "metadata": {
    "execution": {
     "iopub.execute_input": "2021-08-15T13:12:46.473024Z",
     "iopub.status.busy": "2021-08-15T13:12:46.472313Z",
     "iopub.status.idle": "2021-08-15T13:12:46.509537Z",
     "shell.execute_reply": "2021-08-15T13:12:46.509000Z",
     "shell.execute_reply.started": "2021-08-15T12:58:32.101353Z"
    },
    "papermill": {
     "duration": 0.066436,
     "end_time": "2021-08-15T13:12:46.509685",
     "exception": false,
     "start_time": "2021-08-15T13:12:46.443249",
     "status": "completed"
    },
    "tags": []
   },
   "outputs": [
    {
     "data": {
      "application/javascript": [
       "parent.postMessage({\"jupyterEvent\": \"custom.exercise_interaction\", \"data\": {\"outcomeType\": 1, \"valueTowardsCompletion\": 1.0, \"interactionType\": 1, \"questionType\": 2, \"questionId\": \"3.1_ImputeCode\", \"learnToolsVersion\": \"0.3.4\", \"failureMessage\": \"\", \"exceptionClass\": \"\", \"trace\": \"\"}}, \"*\")"
      ],
      "text/plain": [
       "<IPython.core.display.Javascript object>"
      ]
     },
     "metadata": {},
     "output_type": "display_data"
    },
    {
     "data": {
      "text/markdown": [
       "<span style=\"color:#33cc33\">Correct</span>"
      ],
      "text/plain": [
       "Correct"
      ]
     },
     "metadata": {},
     "output_type": "display_data"
    }
   ],
   "source": [
    "from sklearn.impute import SimpleImputer \n",
    "\n",
    "# Fill in the lines below: imputation\n",
    "____ # Your code here\n",
    "my_imputer = SimpleImputer()\n",
    "imputed_X_train = pd.DataFrame(my_imputer.fit_transform(X_train))\n",
    "imputed_X_valid = pd.DataFrame(my_imputer.transform(X_valid))\n",
    "\n",
    "# Fill in the lines below: imputation removed column names; put them back\n",
    "imputed_X_train.columns = X_train.columns\n",
    "imputed_X_valid.columns = X_valid.columns\n",
    "\n",
    "# Check your answers\n",
    "step_3.a.check()"
   ]
  },
  {
   "cell_type": "code",
   "execution_count": 14,
   "id": "0b162746",
   "metadata": {
    "execution": {
     "iopub.execute_input": "2021-08-15T13:12:46.564448Z",
     "iopub.status.busy": "2021-08-15T13:12:46.563627Z",
     "iopub.status.idle": "2021-08-15T13:12:46.565558Z",
     "shell.execute_reply": "2021-08-15T13:12:46.566018Z",
     "shell.execute_reply.started": "2021-08-15T12:58:32.135532Z"
    },
    "papermill": {
     "duration": 0.031136,
     "end_time": "2021-08-15T13:12:46.566189",
     "exception": false,
     "start_time": "2021-08-15T13:12:46.535053",
     "status": "completed"
    },
    "tags": []
   },
   "outputs": [],
   "source": [
    "# Lines below will give you a hint or solution code\n",
    "#step_3.a.hint()\n",
    "#step_3.a.solution()"
   ]
  },
  {
   "cell_type": "markdown",
   "id": "b3d1d0ea",
   "metadata": {
    "papermill": {
     "duration": 0.025042,
     "end_time": "2021-08-15T13:12:46.616627",
     "exception": false,
     "start_time": "2021-08-15T13:12:46.591585",
     "status": "completed"
    },
    "tags": []
   },
   "source": [
    "Run the next code cell without changes to obtain the MAE for this approach."
   ]
  },
  {
   "cell_type": "code",
   "execution_count": 15,
   "id": "71a81b70",
   "metadata": {
    "execution": {
     "iopub.execute_input": "2021-08-15T13:12:46.670281Z",
     "iopub.status.busy": "2021-08-15T13:12:46.669650Z",
     "iopub.status.idle": "2021-08-15T13:12:48.003496Z",
     "shell.execute_reply": "2021-08-15T13:12:48.003959Z",
     "shell.execute_reply.started": "2021-08-15T12:58:32.142329Z"
    },
    "papermill": {
     "duration": 1.362156,
     "end_time": "2021-08-15T13:12:48.004155",
     "exception": false,
     "start_time": "2021-08-15T13:12:46.641999",
     "status": "completed"
    },
    "tags": []
   },
   "outputs": [
    {
     "name": "stdout",
     "output_type": "stream",
     "text": [
      "MAE (Imputation):\n",
      "18062.894611872147\n"
     ]
    }
   ],
   "source": [
    "print(\"MAE (Imputation):\")\n",
    "print(score_dataset(imputed_X_train, imputed_X_valid, y_train, y_valid))"
   ]
  },
  {
   "cell_type": "markdown",
   "id": "de0102f1",
   "metadata": {
    "papermill": {
     "duration": 0.025856,
     "end_time": "2021-08-15T13:12:48.056266",
     "exception": false,
     "start_time": "2021-08-15T13:12:48.030410",
     "status": "completed"
    },
    "tags": []
   },
   "source": [
    "### Part B\n",
    "\n",
    "Compare the MAE from each approach.  Does anything surprise you about the results?  Why do you think one approach performed better than the other?"
   ]
  },
  {
   "cell_type": "code",
   "execution_count": 16,
   "id": "cf569c86",
   "metadata": {
    "execution": {
     "iopub.execute_input": "2021-08-15T13:12:48.113352Z",
     "iopub.status.busy": "2021-08-15T13:12:48.112341Z",
     "iopub.status.idle": "2021-08-15T13:12:48.118125Z",
     "shell.execute_reply": "2021-08-15T13:12:48.117482Z",
     "shell.execute_reply.started": "2021-08-15T12:58:33.527030Z"
    },
    "papermill": {
     "duration": 0.036463,
     "end_time": "2021-08-15T13:12:48.118266",
     "exception": false,
     "start_time": "2021-08-15T13:12:48.081803",
     "status": "completed"
    },
    "tags": []
   },
   "outputs": [
    {
     "data": {
      "application/javascript": [
       "parent.postMessage({\"jupyterEvent\": \"custom.exercise_interaction\", \"data\": {\"outcomeType\": 1, \"valueTowardsCompletion\": 1.0, \"interactionType\": 1, \"questionType\": 4, \"questionId\": \"3.2_ImputeThought\", \"learnToolsVersion\": \"0.3.4\", \"failureMessage\": \"\", \"exceptionClass\": \"\", \"trace\": \"\"}}, \"*\")"
      ],
      "text/plain": [
       "<IPython.core.display.Javascript object>"
      ]
     },
     "metadata": {},
     "output_type": "display_data"
    },
    {
     "data": {
      "text/markdown": [
       "<span style=\"color:#33cc33\">Correct:</span> \n",
       "\n",
       "Given that thre are so few missing values in the dataset, we'd expect imputation to perform better than dropping columns entirely.  However, we see that dropping columns performs slightly better!  While this can probably partially be attributed to noise in the dataset, another potential explanation is that the imputation method is not a great match to this dataset.  That is, maybe instead of filling in the mean value, it makes more sense to set every missing value to a value of 0, to fill in the most frequently encountered value, or to use some other method.  For instance, consider the `GarageYrBlt` column (which indicates the year that the garage was built).  It's likely that in some cases, a missing value could indicate a house that does not have a garage.  Does it make more sense to fill in the median value along each column in this case?  Or could we get better results by filling in the minimum value along each column?  It's not quite clear what's best in this case, but perhaps we can rule out some options immediately - for instance, setting missing values in this column to 0 is likely to yield horrible results!"
      ],
      "text/plain": [
       "Correct: \n",
       "\n",
       "Given that thre are so few missing values in the dataset, we'd expect imputation to perform better than dropping columns entirely.  However, we see that dropping columns performs slightly better!  While this can probably partially be attributed to noise in the dataset, another potential explanation is that the imputation method is not a great match to this dataset.  That is, maybe instead of filling in the mean value, it makes more sense to set every missing value to a value of 0, to fill in the most frequently encountered value, or to use some other method.  For instance, consider the `GarageYrBlt` column (which indicates the year that the garage was built).  It's likely that in some cases, a missing value could indicate a house that does not have a garage.  Does it make more sense to fill in the median value along each column in this case?  Or could we get better results by filling in the minimum value along each column?  It's not quite clear what's best in this case, but perhaps we can rule out some options immediately - for instance, setting missing values in this column to 0 is likely to yield horrible results!"
      ]
     },
     "metadata": {},
     "output_type": "display_data"
    }
   ],
   "source": [
    "# Check your answer (Run this code cell to receive credit!)\n",
    "step_3.b.check()"
   ]
  },
  {
   "cell_type": "code",
   "execution_count": 17,
   "id": "73857b57",
   "metadata": {
    "execution": {
     "iopub.execute_input": "2021-08-15T13:12:48.175311Z",
     "iopub.status.busy": "2021-08-15T13:12:48.174409Z",
     "iopub.status.idle": "2021-08-15T13:12:48.177431Z",
     "shell.execute_reply": "2021-08-15T13:12:48.177925Z",
     "shell.execute_reply.started": "2021-08-15T12:58:33.537446Z"
    },
    "papermill": {
     "duration": 0.032995,
     "end_time": "2021-08-15T13:12:48.178098",
     "exception": false,
     "start_time": "2021-08-15T13:12:48.145103",
     "status": "completed"
    },
    "tags": []
   },
   "outputs": [],
   "source": [
    "#step_3.b.hint()"
   ]
  },
  {
   "cell_type": "markdown",
   "id": "3e9f0bf1",
   "metadata": {
    "papermill": {
     "duration": 0.026359,
     "end_time": "2021-08-15T13:12:48.231057",
     "exception": false,
     "start_time": "2021-08-15T13:12:48.204698",
     "status": "completed"
    },
    "tags": []
   },
   "source": [
    "# Step 4: Generate test predictions\n",
    "\n",
    "In this final step, you'll use any approach of your choosing to deal with missing values.  Once you've preprocessed the training and validation features, you'll train and evaluate a random forest model.  Then, you'll preprocess the test data before generating predictions that can be submitted to the competition!\n",
    "\n",
    "### Part A\n",
    "\n",
    "Use the next code cell to preprocess the training and validation data.  Set the preprocessed DataFrames to `final_X_train` and `final_X_valid`.  **You can use any approach of your choosing here!**  in order for this step to be marked as correct, you need only ensure:\n",
    "- the preprocessed DataFrames have the same number of columns,\n",
    "- the preprocessed DataFrames have no missing values, \n",
    "- `final_X_train` and `y_train` have the same number of rows, and\n",
    "- `final_X_valid` and `y_valid` have the same number of rows."
   ]
  },
  {
   "cell_type": "code",
   "execution_count": 18,
   "id": "ae5b4038",
   "metadata": {
    "execution": {
     "iopub.execute_input": "2021-08-15T13:12:48.290412Z",
     "iopub.status.busy": "2021-08-15T13:12:48.289799Z",
     "iopub.status.idle": "2021-08-15T13:12:48.314074Z",
     "shell.execute_reply": "2021-08-15T13:12:48.314556Z",
     "shell.execute_reply.started": "2021-08-15T13:10:52.220578Z"
    },
    "papermill": {
     "duration": 0.057606,
     "end_time": "2021-08-15T13:12:48.314740",
     "exception": false,
     "start_time": "2021-08-15T13:12:48.257134",
     "status": "completed"
    },
    "tags": []
   },
   "outputs": [
    {
     "data": {
      "application/javascript": [
       "parent.postMessage({\"jupyterEvent\": \"custom.exercise_interaction\", \"data\": {\"outcomeType\": 1, \"valueTowardsCompletion\": 1.0, \"interactionType\": 1, \"questionType\": 2, \"questionId\": \"4.1_PredsCodeA\", \"learnToolsVersion\": \"0.3.4\", \"failureMessage\": \"\", \"exceptionClass\": \"\", \"trace\": \"\"}}, \"*\")"
      ],
      "text/plain": [
       "<IPython.core.display.Javascript object>"
      ]
     },
     "metadata": {},
     "output_type": "display_data"
    },
    {
     "data": {
      "text/markdown": [
       "<span style=\"color:#33cc33\">Correct</span>"
      ],
      "text/plain": [
       "Correct"
      ]
     },
     "metadata": {},
     "output_type": "display_data"
    }
   ],
   "source": [
    "# Preprocessed training and validation features\n",
    "# Imputation\n",
    "final_imputer = SimpleImputer(strategy='median')\n",
    "final_X_train = pd.DataFrame(final_imputer.fit_transform(X_train))\n",
    "final_X_valid = pd.DataFrame(final_imputer.transform(X_valid))\n",
    "\n",
    "# Imputation removed column names; put them back\n",
    "final_X_train.columns = X_train.columns\n",
    "final_X_valid.columns = X_valid.columns\n",
    "# Check your answers\n",
    "step_4.a.check()"
   ]
  },
  {
   "cell_type": "code",
   "execution_count": 19,
   "id": "0c552da2",
   "metadata": {
    "execution": {
     "iopub.execute_input": "2021-08-15T13:12:48.372810Z",
     "iopub.status.busy": "2021-08-15T13:12:48.372173Z",
     "iopub.status.idle": "2021-08-15T13:12:48.376106Z",
     "shell.execute_reply": "2021-08-15T13:12:48.375591Z",
     "shell.execute_reply.started": "2021-08-15T13:10:59.576169Z"
    },
    "papermill": {
     "duration": 0.034087,
     "end_time": "2021-08-15T13:12:48.376244",
     "exception": false,
     "start_time": "2021-08-15T13:12:48.342157",
     "status": "completed"
    },
    "tags": []
   },
   "outputs": [],
   "source": [
    "# Lines below will give you a hint or solution code\n",
    "#step_4.a.hint()\n",
    "#step_4.a.solution()"
   ]
  },
  {
   "cell_type": "markdown",
   "id": "fb1f2039",
   "metadata": {
    "papermill": {
     "duration": 0.027144,
     "end_time": "2021-08-15T13:12:48.431147",
     "exception": false,
     "start_time": "2021-08-15T13:12:48.404003",
     "status": "completed"
    },
    "tags": []
   },
   "source": [
    "Run the next code cell to train and evaluate a random forest model.  (*Note that we don't use the `score_dataset()` function above, because we will soon use the trained model to generate test predictions!*)"
   ]
  },
  {
   "cell_type": "code",
   "execution_count": 20,
   "id": "aa45a0e1",
   "metadata": {
    "execution": {
     "iopub.execute_input": "2021-08-15T13:12:48.499448Z",
     "iopub.status.busy": "2021-08-15T13:12:48.494099Z",
     "iopub.status.idle": "2021-08-15T13:12:49.826547Z",
     "shell.execute_reply": "2021-08-15T13:12:49.826004Z",
     "shell.execute_reply.started": "2021-08-15T13:11:07.977428Z"
    },
    "papermill": {
     "duration": 1.368488,
     "end_time": "2021-08-15T13:12:49.826699",
     "exception": false,
     "start_time": "2021-08-15T13:12:48.458211",
     "status": "completed"
    },
    "tags": []
   },
   "outputs": [
    {
     "name": "stdout",
     "output_type": "stream",
     "text": [
      "MAE (Your approach):\n",
      "17791.59899543379\n"
     ]
    }
   ],
   "source": [
    "# Define and fit model\n",
    "model = RandomForestRegressor(n_estimators=100, random_state=0)\n",
    "model.fit(final_X_train, y_train)\n",
    "\n",
    "# Get validation predictions and MAE\n",
    "preds_valid = model.predict(final_X_valid)\n",
    "print(\"MAE (Your approach):\")\n",
    "print(mean_absolute_error(y_valid, preds_valid))"
   ]
  },
  {
   "cell_type": "markdown",
   "id": "bc2d8b8e",
   "metadata": {
    "papermill": {
     "duration": 0.027079,
     "end_time": "2021-08-15T13:12:49.881491",
     "exception": false,
     "start_time": "2021-08-15T13:12:49.854412",
     "status": "completed"
    },
    "tags": []
   },
   "source": [
    "### Part B\n",
    "\n",
    "Use the next code cell to preprocess your test data.  Make sure that you use a method that agrees with how you preprocessed the training and validation data, and set the preprocessed test features to `final_X_test`.\n",
    "\n",
    "Then, use the preprocessed test features and the trained model to generate test predictions in `preds_test`.\n",
    "\n",
    "In order for this step to be marked correct, you need only ensure:\n",
    "- the preprocessed test DataFrame has no missing values, and\n",
    "- `final_X_test` has the same number of rows as `X_test`."
   ]
  },
  {
   "cell_type": "code",
   "execution_count": 21,
   "id": "e2dc7bd0",
   "metadata": {
    "execution": {
     "iopub.execute_input": "2021-08-15T13:12:49.938692Z",
     "iopub.status.busy": "2021-08-15T13:12:49.938091Z",
     "iopub.status.idle": "2021-08-15T13:12:49.984291Z",
     "shell.execute_reply": "2021-08-15T13:12:49.984799Z",
     "shell.execute_reply.started": "2021-08-15T13:11:25.151851Z"
    },
    "papermill": {
     "duration": 0.07646,
     "end_time": "2021-08-15T13:12:49.984984",
     "exception": false,
     "start_time": "2021-08-15T13:12:49.908524",
     "status": "completed"
    },
    "tags": []
   },
   "outputs": [
    {
     "data": {
      "application/javascript": [
       "parent.postMessage({\"jupyterEvent\": \"custom.exercise_interaction\", \"data\": {\"outcomeType\": 1, \"valueTowardsCompletion\": 1.0, \"interactionType\": 1, \"questionType\": 2, \"questionId\": \"4.2_PredsCodeB\", \"learnToolsVersion\": \"0.3.4\", \"failureMessage\": \"\", \"exceptionClass\": \"\", \"trace\": \"\"}}, \"*\")"
      ],
      "text/plain": [
       "<IPython.core.display.Javascript object>"
      ]
     },
     "metadata": {},
     "output_type": "display_data"
    },
    {
     "data": {
      "text/markdown": [
       "<span style=\"color:#33cc33\">Correct</span>"
      ],
      "text/plain": [
       "Correct"
      ]
     },
     "metadata": {},
     "output_type": "display_data"
    }
   ],
   "source": [
    "# Fill in the line below: preprocess test data\n",
    "\n",
    "final_X_test = pd.DataFrame(final_imputer.transform(X_test))\n",
    "\n",
    "# Fill in the line below: get test predictions\n",
    "preds_test = model.predict(final_X_test)\n",
    "# Check your answers\n",
    "step_4.b.check()"
   ]
  },
  {
   "cell_type": "code",
   "execution_count": 22,
   "id": "e7f250f7",
   "metadata": {
    "execution": {
     "iopub.execute_input": "2021-08-15T13:12:50.044892Z",
     "iopub.status.busy": "2021-08-15T13:12:50.044264Z",
     "iopub.status.idle": "2021-08-15T13:12:50.047188Z",
     "shell.execute_reply": "2021-08-15T13:12:50.047605Z",
     "shell.execute_reply.started": "2021-08-15T13:11:36.799763Z"
    },
    "papermill": {
     "duration": 0.034876,
     "end_time": "2021-08-15T13:12:50.047796",
     "exception": false,
     "start_time": "2021-08-15T13:12:50.012920",
     "status": "completed"
    },
    "tags": []
   },
   "outputs": [],
   "source": [
    "# Lines below will give you a hint or solution code\n",
    "#step_4.b.hint()\n",
    "#step_4.b.solution()"
   ]
  },
  {
   "cell_type": "markdown",
   "id": "43c4dbd4",
   "metadata": {
    "papermill": {
     "duration": 0.027804,
     "end_time": "2021-08-15T13:12:50.104499",
     "exception": false,
     "start_time": "2021-08-15T13:12:50.076695",
     "status": "completed"
    },
    "tags": []
   },
   "source": [
    "Run the next code cell without changes to save your results to a CSV file that can be submitted directly to the competition."
   ]
  },
  {
   "cell_type": "code",
   "execution_count": 23,
   "id": "d6dcde73",
   "metadata": {
    "execution": {
     "iopub.execute_input": "2021-08-15T13:12:50.164037Z",
     "iopub.status.busy": "2021-08-15T13:12:50.163350Z",
     "iopub.status.idle": "2021-08-15T13:12:50.174027Z",
     "shell.execute_reply": "2021-08-15T13:12:50.174476Z",
     "shell.execute_reply.started": "2021-08-15T13:11:39.700931Z"
    },
    "papermill": {
     "duration": 0.041858,
     "end_time": "2021-08-15T13:12:50.174682",
     "exception": false,
     "start_time": "2021-08-15T13:12:50.132824",
     "status": "completed"
    },
    "tags": []
   },
   "outputs": [],
   "source": [
    "# Save test predictions to file\n",
    "output = pd.DataFrame({'Id': X_test.index,\n",
    "                       'SalePrice': preds_test})\n",
    "output.to_csv('submission.csv', index=False)"
   ]
  },
  {
   "cell_type": "markdown",
   "id": "1147a535",
   "metadata": {
    "papermill": {
     "duration": 0.028062,
     "end_time": "2021-08-15T13:12:50.232625",
     "exception": false,
     "start_time": "2021-08-15T13:12:50.204563",
     "status": "completed"
    },
    "tags": []
   },
   "source": [
    "# Submit your results\n",
    "\n",
    "Once you have successfully completed Step 4, you're ready to submit your results to the leaderboard!  (_You also learned how to do this in the previous exercise.  If you need a reminder of how to do this, please use the instructions below._)  \n",
    "\n",
    "First, you'll need to join the competition if you haven't already.  So open a new window by clicking on [this link](https://www.kaggle.com/c/home-data-for-ml-course).  Then click on the **Join Competition** button.\n",
    "\n",
    "![join competition image](https://i.imgur.com/wLmFtH3.png)\n",
    "\n",
    "Next, follow the instructions below:\n",
    "1. Begin by clicking on the blue **Save Version** button in the top right corner of the window.  This will generate a pop-up window.  \n",
    "2. Ensure that the **Save and Run All** option is selected, and then click on the blue **Save** button.\n",
    "3. This generates a window in the bottom left corner of the notebook.  After it has finished running, click on the number to the right of the **Save Version** button.  This pulls up a list of versions on the right of the screen.  Click on the ellipsis **(...)** to the right of the most recent version, and select **Open in Viewer**.  This brings you into view mode of the same page. You will need to scroll down to get back to these instructions.\n",
    "4. Click on the **Output** tab on the right of the screen.  Then, click on the file you would like to submit, and click on the blue **Submit** button to submit your results to the leaderboard.\n",
    "\n",
    "You have now successfully submitted to the competition!\n",
    "\n",
    "If you want to keep working to improve your performance, select the blue **Edit** button in the top right of the screen. Then you can change your code and repeat the process. There's a lot of room to improve, and you will climb up the leaderboard as you work.\n",
    "\n",
    "\n",
    "# Keep going\n",
    "\n",
    "Move on to learn what **[categorical variables](https://www.kaggle.com/alexisbcook/categorical-variables)** are, along with how to incorporate them into your machine learning models.  Categorical variables are very common in real-world data, but you'll get an error if you try to plug them into your models without processing them first!"
   ]
  },
  {
   "cell_type": "markdown",
   "id": "0365c202",
   "metadata": {
    "papermill": {
     "duration": 0.028461,
     "end_time": "2021-08-15T13:12:50.289470",
     "exception": false,
     "start_time": "2021-08-15T13:12:50.261009",
     "status": "completed"
    },
    "tags": []
   },
   "source": [
    "---\n",
    "\n",
    "\n",
    "\n",
    "\n",
    "*Have questions or comments? Visit the [Learn Discussion forum](https://www.kaggle.com/learn-forum/161289) to chat with other Learners.*"
   ]
  }
 ],
 "metadata": {
  "kernelspec": {
   "display_name": "Python 3",
   "language": "python",
   "name": "python3"
  },
  "language_info": {
   "codemirror_mode": {
    "name": "ipython",
    "version": 3
   },
   "file_extension": ".py",
   "mimetype": "text/x-python",
   "name": "python",
   "nbconvert_exporter": "python",
   "pygments_lexer": "ipython3",
   "version": "3.7.10"
  },
  "papermill": {
   "default_parameters": {},
   "duration": 15.868667,
   "end_time": "2021-08-15T13:12:51.028189",
   "environment_variables": {},
   "exception": null,
   "input_path": "__notebook__.ipynb",
   "output_path": "__notebook__.ipynb",
   "parameters": {},
   "start_time": "2021-08-15T13:12:35.159522",
   "version": "2.3.3"
  }
 },
 "nbformat": 4,
 "nbformat_minor": 5
}
