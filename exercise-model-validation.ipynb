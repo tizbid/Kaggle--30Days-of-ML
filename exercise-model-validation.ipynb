{
 "cells": [
  {
   "cell_type": "markdown",
   "id": "19a2bb8c",
   "metadata": {
    "papermill": {
     "duration": 0.021816,
     "end_time": "2021-08-11T11:46:22.285457",
     "exception": false,
     "start_time": "2021-08-11T11:46:22.263641",
     "status": "completed"
    },
    "tags": []
   },
   "source": [
    "**This notebook is an exercise in the [Introduction to Machine Learning](https://www.kaggle.com/learn/intro-to-machine-learning) course.  You can reference the tutorial at [this link](https://www.kaggle.com/dansbecker/model-validation).**\n",
    "\n",
    "---\n"
   ]
  },
  {
   "cell_type": "markdown",
   "id": "aa240007",
   "metadata": {
    "papermill": {
     "duration": 0.013362,
     "end_time": "2021-08-11T11:46:22.313278",
     "exception": false,
     "start_time": "2021-08-11T11:46:22.299916",
     "status": "completed"
    },
    "tags": []
   },
   "source": [
    "## Recap\n",
    "You've built a model. In this exercise you will test how good your model is.\n",
    "\n",
    "Run the cell below to set up your coding environment where the previous exercise left off."
   ]
  },
  {
   "cell_type": "code",
   "execution_count": 1,
   "id": "0e8024e5",
   "metadata": {
    "execution": {
     "iopub.execute_input": "2021-08-11T11:46:22.356118Z",
     "iopub.status.busy": "2021-08-11T11:46:22.348529Z",
     "iopub.status.idle": "2021-08-11T11:46:23.660032Z",
     "shell.execute_reply": "2021-08-11T11:46:23.660578Z",
     "shell.execute_reply.started": "2021-08-11T11:27:16.961728Z"
    },
    "papermill": {
     "duration": 1.334643,
     "end_time": "2021-08-11T11:46:23.660902",
     "exception": false,
     "start_time": "2021-08-11T11:46:22.326259",
     "status": "completed"
    },
    "tags": []
   },
   "outputs": [
    {
     "name": "stdout",
     "output_type": "stream",
     "text": [
      "First in-sample predictions: [208500. 181500. 223500. 140000. 250000.]\n",
      "Actual target values for those homes: [208500, 181500, 223500, 140000, 250000]\n",
      "Setup Complete\n"
     ]
    }
   ],
   "source": [
    "# Code you have previously used to load data\n",
    "import pandas as pd\n",
    "from sklearn.tree import DecisionTreeRegressor\n",
    "\n",
    "# Path of the file to read\n",
    "iowa_file_path = '../input/home-data-for-ml-course/train.csv'\n",
    "\n",
    "home_data = pd.read_csv(iowa_file_path)\n",
    "y = home_data.SalePrice\n",
    "feature_columns = ['LotArea', 'YearBuilt', '1stFlrSF', '2ndFlrSF', 'FullBath', 'BedroomAbvGr', 'TotRmsAbvGrd']\n",
    "X = home_data[feature_columns]\n",
    "\n",
    "# Specify Model\n",
    "iowa_model = DecisionTreeRegressor()\n",
    "# Fit Model\n",
    "iowa_model.fit(X, y)\n",
    "\n",
    "print(\"First in-sample predictions:\", iowa_model.predict(X.head()))\n",
    "print(\"Actual target values for those homes:\", y.head().tolist())\n",
    "\n",
    "# Set up code checking\n",
    "from learntools.core import binder\n",
    "binder.bind(globals())\n",
    "from learntools.machine_learning.ex4 import *\n",
    "print(\"Setup Complete\")"
   ]
  },
  {
   "cell_type": "markdown",
   "id": "a7e4963e",
   "metadata": {
    "papermill": {
     "duration": 0.012918,
     "end_time": "2021-08-11T11:46:23.687957",
     "exception": false,
     "start_time": "2021-08-11T11:46:23.675039",
     "status": "completed"
    },
    "tags": []
   },
   "source": [
    "# Exercises\n",
    "\n",
    "## Step 1: Split Your Data\n",
    "Use the `train_test_split` function to split up your data.\n",
    "\n",
    "Give it the argument `random_state=1` so the `check` functions know what to expect when verifying your code.\n",
    "\n",
    "Recall, your features are loaded in the DataFrame **X** and your target is loaded in **y**.\n"
   ]
  },
  {
   "cell_type": "code",
   "execution_count": 2,
   "id": "88f5d9ac",
   "metadata": {
    "execution": {
     "iopub.execute_input": "2021-08-11T11:46:23.723766Z",
     "iopub.status.busy": "2021-08-11T11:46:23.722748Z",
     "iopub.status.idle": "2021-08-11T11:46:23.748843Z",
     "shell.execute_reply": "2021-08-11T11:46:23.749407Z",
     "shell.execute_reply.started": "2021-08-11T11:30:31.631369Z"
    },
    "papermill": {
     "duration": 0.048104,
     "end_time": "2021-08-11T11:46:23.749593",
     "exception": false,
     "start_time": "2021-08-11T11:46:23.701489",
     "status": "completed"
    },
    "tags": []
   },
   "outputs": [
    {
     "data": {
      "application/javascript": [
       "parent.postMessage({\"jupyterEvent\": \"custom.exercise_interaction\", \"data\": {\"outcomeType\": 1, \"valueTowardsCompletion\": 0.25, \"interactionType\": 1, \"questionType\": 2, \"questionId\": \"1_SplitData\", \"learnToolsVersion\": \"0.3.4\", \"failureMessage\": \"\", \"exceptionClass\": \"\", \"trace\": \"\"}}, \"*\")"
      ],
      "text/plain": [
       "<IPython.core.display.Javascript object>"
      ]
     },
     "metadata": {},
     "output_type": "display_data"
    },
    {
     "data": {
      "text/markdown": [
       "<span style=\"color:#33cc33\">Correct</span>"
      ],
      "text/plain": [
       "Correct"
      ]
     },
     "metadata": {},
     "output_type": "display_data"
    }
   ],
   "source": [
    "# Import the train_test_split function and uncomment\n",
    "from sklearn.model_selection import train_test_split\n",
    "\n",
    "# fill in and uncomment\n",
    "train_X, val_X, train_y, val_y = train_test_split(X, y, random_state=1)\n",
    "\n",
    "# Check your answer\n",
    "step_1.check()"
   ]
  },
  {
   "cell_type": "code",
   "execution_count": 3,
   "id": "cc1645f7",
   "metadata": {
    "execution": {
     "iopub.execute_input": "2021-08-11T11:46:23.791055Z",
     "iopub.status.busy": "2021-08-11T11:46:23.790046Z",
     "iopub.status.idle": "2021-08-11T11:46:23.795667Z",
     "shell.execute_reply": "2021-08-11T11:46:23.796158Z"
    },
    "papermill": {
     "duration": 0.032697,
     "end_time": "2021-08-11T11:46:23.796350",
     "exception": false,
     "start_time": "2021-08-11T11:46:23.763653",
     "status": "completed"
    },
    "tags": []
   },
   "outputs": [],
   "source": [
    "# The lines below will show you a hint or the solution.\n",
    "# step_1.hint() \n",
    "# step_1.solution()\n"
   ]
  },
  {
   "cell_type": "markdown",
   "id": "5f839d09",
   "metadata": {
    "papermill": {
     "duration": 0.022895,
     "end_time": "2021-08-11T11:46:23.840933",
     "exception": false,
     "start_time": "2021-08-11T11:46:23.818038",
     "status": "completed"
    },
    "tags": []
   },
   "source": [
    "## Step 2: Specify and Fit the Model\n",
    "\n",
    "Create a `DecisionTreeRegressor` model and fit it to the relevant data.\n",
    "Set `random_state` to 1 again when creating the model."
   ]
  },
  {
   "cell_type": "code",
   "execution_count": 4,
   "id": "f5bafcb6",
   "metadata": {
    "execution": {
     "iopub.execute_input": "2021-08-11T11:46:23.877201Z",
     "iopub.status.busy": "2021-08-11T11:46:23.876257Z",
     "iopub.status.idle": "2021-08-11T11:46:23.910595Z",
     "shell.execute_reply": "2021-08-11T11:46:23.911154Z",
     "shell.execute_reply.started": "2021-08-11T11:32:36.384896Z"
    },
    "papermill": {
     "duration": 0.053279,
     "end_time": "2021-08-11T11:46:23.911319",
     "exception": false,
     "start_time": "2021-08-11T11:46:23.858040",
     "status": "completed"
    },
    "tags": []
   },
   "outputs": [
    {
     "name": "stdout",
     "output_type": "stream",
     "text": [
      "[186500. 184000. 130000.  92000. 164500. 220000. 335000. 144152. 215000.\n",
      " 262000.]\n",
      "[186500. 184000. 130000.  92000. 164500. 220000. 335000. 144152. 215000.\n",
      " 262000.]\n"
     ]
    },
    {
     "data": {
      "application/javascript": [
       "parent.postMessage({\"jupyterEvent\": \"custom.exercise_interaction\", \"data\": {\"outcomeType\": 1, \"valueTowardsCompletion\": 0.25, \"interactionType\": 1, \"questionType\": 2, \"questionId\": \"2_FitModelWithTrain\", \"learnToolsVersion\": \"0.3.4\", \"failureMessage\": \"\", \"exceptionClass\": \"\", \"trace\": \"\"}}, \"*\")"
      ],
      "text/plain": [
       "<IPython.core.display.Javascript object>"
      ]
     },
     "metadata": {},
     "output_type": "display_data"
    },
    {
     "data": {
      "text/markdown": [
       "<span style=\"color:#33cc33\">Correct</span>"
      ],
      "text/plain": [
       "Correct"
      ]
     },
     "metadata": {},
     "output_type": "display_data"
    }
   ],
   "source": [
    "# You imported DecisionTreeRegressor in your last exercise\n",
    "# and that code has been copied to the setup code above. So, no need to\n",
    "# import it again\n",
    "\n",
    "# Specify the model\n",
    "iowa_model = DecisionTreeRegressor(random_state = 1)\n",
    "\n",
    "# Fit iowa_model with the training data.\n",
    "iowa_model.fit(train_X, train_y)\n",
    "\n",
    "# Check your answer\n",
    "step_2.check()"
   ]
  },
  {
   "cell_type": "code",
   "execution_count": 5,
   "id": "cfa36b7d",
   "metadata": {
    "execution": {
     "iopub.execute_input": "2021-08-11T11:46:23.945547Z",
     "iopub.status.busy": "2021-08-11T11:46:23.944906Z",
     "iopub.status.idle": "2021-08-11T11:46:23.948073Z",
     "shell.execute_reply": "2021-08-11T11:46:23.948615Z"
    },
    "papermill": {
     "duration": 0.021832,
     "end_time": "2021-08-11T11:46:23.948786",
     "exception": false,
     "start_time": "2021-08-11T11:46:23.926954",
     "status": "completed"
    },
    "tags": []
   },
   "outputs": [],
   "source": [
    "# step_2.hint()\n",
    "# step_2.solution()"
   ]
  },
  {
   "cell_type": "markdown",
   "id": "803ce4f2",
   "metadata": {
    "papermill": {
     "duration": 0.015886,
     "end_time": "2021-08-11T11:46:23.980755",
     "exception": false,
     "start_time": "2021-08-11T11:46:23.964869",
     "status": "completed"
    },
    "tags": []
   },
   "source": [
    "## Step 3: Make Predictions with Validation data\n"
   ]
  },
  {
   "cell_type": "code",
   "execution_count": 6,
   "id": "e4679a0f",
   "metadata": {
    "execution": {
     "iopub.execute_input": "2021-08-11T11:46:24.015768Z",
     "iopub.status.busy": "2021-08-11T11:46:24.015151Z",
     "iopub.status.idle": "2021-08-11T11:46:24.025902Z",
     "shell.execute_reply": "2021-08-11T11:46:24.026478Z",
     "shell.execute_reply.started": "2021-08-11T11:34:20.921411Z"
    },
    "papermill": {
     "duration": 0.029969,
     "end_time": "2021-08-11T11:46:24.026645",
     "exception": false,
     "start_time": "2021-08-11T11:46:23.996676",
     "status": "completed"
    },
    "tags": []
   },
   "outputs": [
    {
     "data": {
      "application/javascript": [
       "parent.postMessage({\"jupyterEvent\": \"custom.exercise_interaction\", \"data\": {\"outcomeType\": 1, \"valueTowardsCompletion\": 0.25, \"interactionType\": 1, \"questionType\": 2, \"questionId\": \"3_ValPreds\", \"learnToolsVersion\": \"0.3.4\", \"failureMessage\": \"\", \"exceptionClass\": \"\", \"trace\": \"\"}}, \"*\")"
      ],
      "text/plain": [
       "<IPython.core.display.Javascript object>"
      ]
     },
     "metadata": {},
     "output_type": "display_data"
    },
    {
     "data": {
      "text/markdown": [
       "<span style=\"color:#33cc33\">Correct</span>"
      ],
      "text/plain": [
       "Correct"
      ]
     },
     "metadata": {},
     "output_type": "display_data"
    }
   ],
   "source": [
    "# Predict with all validation observations\n",
    "val_predictions = iowa_model.predict(val_X)\n",
    "\n",
    "# Check your answer\n",
    "step_3.check()"
   ]
  },
  {
   "cell_type": "code",
   "execution_count": 7,
   "id": "07a05d8b",
   "metadata": {
    "execution": {
     "iopub.execute_input": "2021-08-11T11:46:24.065293Z",
     "iopub.status.busy": "2021-08-11T11:46:24.064592Z",
     "iopub.status.idle": "2021-08-11T11:46:24.068531Z",
     "shell.execute_reply": "2021-08-11T11:46:24.069156Z"
    },
    "papermill": {
     "duration": 0.02494,
     "end_time": "2021-08-11T11:46:24.069331",
     "exception": false,
     "start_time": "2021-08-11T11:46:24.044391",
     "status": "completed"
    },
    "tags": []
   },
   "outputs": [],
   "source": [
    "# step_3.hint()\n",
    "# step_3.solution()"
   ]
  },
  {
   "cell_type": "markdown",
   "id": "a56f8d10",
   "metadata": {
    "papermill": {
     "duration": 0.017239,
     "end_time": "2021-08-11T11:46:24.105171",
     "exception": false,
     "start_time": "2021-08-11T11:46:24.087932",
     "status": "completed"
    },
    "tags": []
   },
   "source": [
    "Inspect your predictions and actual values from validation data."
   ]
  },
  {
   "cell_type": "code",
   "execution_count": 8,
   "id": "1769589e",
   "metadata": {
    "execution": {
     "iopub.execute_input": "2021-08-11T11:46:24.143362Z",
     "iopub.status.busy": "2021-08-11T11:46:24.142527Z",
     "iopub.status.idle": "2021-08-11T11:46:24.153802Z",
     "shell.execute_reply": "2021-08-11T11:46:24.153100Z",
     "shell.execute_reply.started": "2021-08-11T11:40:47.964463Z"
    },
    "papermill": {
     "duration": 0.031607,
     "end_time": "2021-08-11T11:46:24.154017",
     "exception": false,
     "start_time": "2021-08-11T11:46:24.122410",
     "status": "completed"
    },
    "tags": []
   },
   "outputs": [
    {
     "name": "stdout",
     "output_type": "stream",
     "text": [
      "First in-sample predictions: [307000. 223500. 145000. 155000. 140000.]\n",
      "Actual target values for those homes: [231500, 179500, 122000, 84500, 142000]\n"
     ]
    }
   ],
   "source": [
    "# print the top few validation predictions\n",
    "print(\"First in-sample predictions:\",iowa_model.predict(train_X.head()))\n",
    "# print the top few actual prices from validation data\n",
    "print(\"Actual target values for those homes:\",val_y.head().tolist())"
   ]
  },
  {
   "cell_type": "markdown",
   "id": "94dd5d5b",
   "metadata": {
    "papermill": {
     "duration": 0.016784,
     "end_time": "2021-08-11T11:46:24.190399",
     "exception": false,
     "start_time": "2021-08-11T11:46:24.173615",
     "status": "completed"
    },
    "tags": []
   },
   "source": [
    "What do you notice that is different from what you saw with in-sample predictions (which are printed after the top code cell in this page).\n",
    "\n",
    "Do you remember why validation predictions differ from in-sample (or training) predictions? This is an important idea from the last lesson.\n",
    "\n",
    "## Step 4: Calculate the Mean Absolute Error in Validation Data\n"
   ]
  },
  {
   "cell_type": "code",
   "execution_count": 9,
   "id": "0008cba5",
   "metadata": {
    "execution": {
     "iopub.execute_input": "2021-08-11T11:46:24.231790Z",
     "iopub.status.busy": "2021-08-11T11:46:24.231070Z",
     "iopub.status.idle": "2021-08-11T11:46:24.239003Z",
     "shell.execute_reply": "2021-08-11T11:46:24.238322Z",
     "shell.execute_reply.started": "2021-08-11T11:45:51.142638Z"
    },
    "papermill": {
     "duration": 0.031576,
     "end_time": "2021-08-11T11:46:24.239168",
     "exception": false,
     "start_time": "2021-08-11T11:46:24.207592",
     "status": "completed"
    },
    "tags": []
   },
   "outputs": [
    {
     "name": "stdout",
     "output_type": "stream",
     "text": [
      "29652.931506849316\n"
     ]
    },
    {
     "data": {
      "application/javascript": [
       "parent.postMessage({\"jupyterEvent\": \"custom.exercise_interaction\", \"data\": {\"outcomeType\": 1, \"valueTowardsCompletion\": 0.25, \"interactionType\": 1, \"questionType\": 1, \"questionId\": \"4_MAE\", \"learnToolsVersion\": \"0.3.4\", \"failureMessage\": \"\", \"exceptionClass\": \"\", \"trace\": \"\"}}, \"*\")"
      ],
      "text/plain": [
       "<IPython.core.display.Javascript object>"
      ]
     },
     "metadata": {},
     "output_type": "display_data"
    },
    {
     "data": {
      "text/markdown": [
       "<span style=\"color:#33cc33\">Correct</span>"
      ],
      "text/plain": [
       "Correct"
      ]
     },
     "metadata": {},
     "output_type": "display_data"
    }
   ],
   "source": [
    "from sklearn.metrics import mean_absolute_error\n",
    "val_mae = mean_absolute_error(val_y, val_predictions)\n",
    "\n",
    "# uncomment following line to see the validation_mae\n",
    "print(val_mae)\n",
    "\n",
    "# Check your answer\n",
    "step_4.check()"
   ]
  },
  {
   "cell_type": "code",
   "execution_count": 10,
   "id": "f60c331e",
   "metadata": {
    "execution": {
     "iopub.execute_input": "2021-08-11T11:46:24.281934Z",
     "iopub.status.busy": "2021-08-11T11:46:24.281227Z",
     "iopub.status.idle": "2021-08-11T11:46:24.285060Z",
     "shell.execute_reply": "2021-08-11T11:46:24.284467Z"
    },
    "papermill": {
     "duration": 0.026145,
     "end_time": "2021-08-11T11:46:24.285201",
     "exception": false,
     "start_time": "2021-08-11T11:46:24.259056",
     "status": "completed"
    },
    "tags": []
   },
   "outputs": [],
   "source": [
    "# step_4.hint()\n",
    "# step_4.solution()"
   ]
  },
  {
   "cell_type": "markdown",
   "id": "d797875c",
   "metadata": {
    "papermill": {
     "duration": 0.018228,
     "end_time": "2021-08-11T11:46:24.322183",
     "exception": false,
     "start_time": "2021-08-11T11:46:24.303955",
     "status": "completed"
    },
    "tags": []
   },
   "source": [
    "Is that MAE good?  There isn't a general rule for what values are good that applies across applications. But you'll see how to use (and improve) this number in the next step.\n",
    "\n",
    "# Keep Going\n",
    "\n",
    "You are ready for **[Underfitting and Overfitting](https://www.kaggle.com/dansbecker/underfitting-and-overfitting).**\n"
   ]
  },
  {
   "cell_type": "markdown",
   "id": "ff6c676a",
   "metadata": {
    "papermill": {
     "duration": 0.018258,
     "end_time": "2021-08-11T11:46:24.358962",
     "exception": false,
     "start_time": "2021-08-11T11:46:24.340704",
     "status": "completed"
    },
    "tags": []
   },
   "source": [
    "---\n",
    "\n",
    "\n",
    "\n",
    "\n",
    "*Have questions or comments? Visit the [Learn Discussion forum](https://www.kaggle.com/learn-forum/161285) to chat with other Learners.*"
   ]
  }
 ],
 "metadata": {
  "kernelspec": {
   "display_name": "Python 3",
   "language": "python",
   "name": "python3"
  },
  "language_info": {
   "codemirror_mode": {
    "name": "ipython",
    "version": 3
   },
   "file_extension": ".py",
   "mimetype": "text/x-python",
   "name": "python",
   "nbconvert_exporter": "python",
   "pygments_lexer": "ipython3",
   "version": "3.7.10"
  },
  "papermill": {
   "default_parameters": {},
   "duration": 11.519426,
   "end_time": "2021-08-11T11:46:25.189056",
   "environment_variables": {},
   "exception": null,
   "input_path": "__notebook__.ipynb",
   "output_path": "__notebook__.ipynb",
   "parameters": {},
   "start_time": "2021-08-11T11:46:13.669630",
   "version": "2.3.3"
  }
 },
 "nbformat": 4,
 "nbformat_minor": 5
}
