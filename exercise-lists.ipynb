{
 "cells": [
  {
   "cell_type": "markdown",
   "id": "a5cfc1d2",
   "metadata": {
    "papermill": {
     "duration": 0.012088,
     "end_time": "2021-08-06T23:30:13.754454",
     "exception": false,
     "start_time": "2021-08-06T23:30:13.742366",
     "status": "completed"
    },
    "tags": []
   },
   "source": [
    "**This notebook is an exercise in the [Python](https://www.kaggle.com/learn/python) course.  You can reference the tutorial at [this link](https://www.kaggle.com/colinmorris/lists).**\n",
    "\n",
    "---\n"
   ]
  },
  {
   "cell_type": "markdown",
   "id": "86b66598",
   "metadata": {
    "papermill": {
     "duration": 0.011502,
     "end_time": "2021-08-06T23:30:13.778040",
     "exception": false,
     "start_time": "2021-08-06T23:30:13.766538",
     "status": "completed"
    },
    "tags": []
   },
   "source": [
    "Things get more interesting with lists. You'll apply your new knowledge to solve the questions below. Remember to run the following cell first."
   ]
  },
  {
   "cell_type": "code",
   "execution_count": 1,
   "id": "1ef9099f",
   "metadata": {
    "execution": {
     "iopub.execute_input": "2021-08-06T23:30:13.804674Z",
     "iopub.status.busy": "2021-08-06T23:30:13.803846Z",
     "iopub.status.idle": "2021-08-06T23:30:13.984800Z",
     "shell.execute_reply": "2021-08-06T23:30:13.985368Z",
     "shell.execute_reply.started": "2021-08-06T21:56:40.561676Z"
    },
    "papermill": {
     "duration": 0.196293,
     "end_time": "2021-08-06T23:30:13.985636",
     "exception": false,
     "start_time": "2021-08-06T23:30:13.789343",
     "status": "completed"
    },
    "tags": []
   },
   "outputs": [
    {
     "name": "stdout",
     "output_type": "stream",
     "text": [
      "Setup complete.\n"
     ]
    }
   ],
   "source": [
    "from learntools.core import binder; binder.bind(globals())\n",
    "from learntools.python.ex4 import *\n",
    "print('Setup complete.')"
   ]
  },
  {
   "cell_type": "markdown",
   "id": "2778ce31",
   "metadata": {
    "papermill": {
     "duration": 0.017536,
     "end_time": "2021-08-06T23:30:14.025404",
     "exception": false,
     "start_time": "2021-08-06T23:30:14.007868",
     "status": "completed"
    },
    "tags": []
   },
   "source": [
    "# 1.\n",
    "\n",
    "Complete the function below according to its docstring."
   ]
  },
  {
   "cell_type": "code",
   "execution_count": 2,
   "id": "126e4e19",
   "metadata": {
    "execution": {
     "iopub.execute_input": "2021-08-06T23:30:14.068484Z",
     "iopub.status.busy": "2021-08-06T23:30:14.065624Z",
     "iopub.status.idle": "2021-08-06T23:30:14.072692Z",
     "shell.execute_reply": "2021-08-06T23:30:14.073190Z",
     "shell.execute_reply.started": "2021-08-06T21:56:43.402713Z"
    },
    "papermill": {
     "duration": 0.030404,
     "end_time": "2021-08-06T23:30:14.073385",
     "exception": false,
     "start_time": "2021-08-06T23:30:14.042981",
     "status": "completed"
    },
    "tags": []
   },
   "outputs": [
    {
     "data": {
      "application/javascript": [
       "parent.postMessage({\"jupyterEvent\": \"custom.exercise_interaction\", \"data\": {\"outcomeType\": 1, \"valueTowardsCompletion\": 0.2, \"interactionType\": 1, \"questionType\": 2, \"questionId\": \"1_SelectSecondItem\", \"learnToolsVersion\": \"0.3.4\", \"failureMessage\": \"\", \"exceptionClass\": \"\", \"trace\": \"\"}}, \"*\")"
      ],
      "text/plain": [
       "<IPython.core.display.Javascript object>"
      ]
     },
     "metadata": {},
     "output_type": "display_data"
    },
    {
     "data": {
      "text/markdown": [
       "<span style=\"color:#33cc33\">Correct</span>"
      ],
      "text/plain": [
       "Correct"
      ]
     },
     "metadata": {},
     "output_type": "display_data"
    }
   ],
   "source": [
    "def select_second(L):\n",
    "    \"\"\"Return the second element of the given list. If the list has no second\n",
    "    element, return None.\n",
    "    \"\"\"\n",
    "    if len(L) > 2:\n",
    "        return L[1]\n",
    "    else:\n",
    "        return None\n",
    "# Check your answer\n",
    "q1.check()"
   ]
  },
  {
   "cell_type": "code",
   "execution_count": 3,
   "id": "9b1169ca",
   "metadata": {
    "execution": {
     "iopub.execute_input": "2021-08-06T23:30:14.114777Z",
     "iopub.status.busy": "2021-08-06T23:30:14.114011Z",
     "iopub.status.idle": "2021-08-06T23:30:14.116070Z",
     "shell.execute_reply": "2021-08-06T23:30:14.116460Z",
     "shell.execute_reply.started": "2021-08-06T20:38:15.474286Z"
    },
    "papermill": {
     "duration": 0.02423,
     "end_time": "2021-08-06T23:30:14.116616",
     "exception": false,
     "start_time": "2021-08-06T23:30:14.092386",
     "status": "completed"
    },
    "tags": []
   },
   "outputs": [],
   "source": [
    "#q1.hint()\n",
    "#q1.solution()"
   ]
  },
  {
   "cell_type": "markdown",
   "id": "b7b3eb24",
   "metadata": {
    "papermill": {
     "duration": 0.012756,
     "end_time": "2021-08-06T23:30:14.141952",
     "exception": false,
     "start_time": "2021-08-06T23:30:14.129196",
     "status": "completed"
    },
    "tags": []
   },
   "source": [
    "# 2.\n",
    "\n",
    "You are analyzing sports teams.  Members of each team are stored in a list. The Coach is the first name in the list, the captain is the second name in the list, and other players are listed after that. \n",
    "These lists are stored in another list, which starts with the best team and proceeds through the list to the worst team last.  Complete the function below to select the **captain** of the worst team."
   ]
  },
  {
   "cell_type": "code",
   "execution_count": 4,
   "id": "db67a5cf",
   "metadata": {
    "execution": {
     "iopub.execute_input": "2021-08-06T23:30:14.172358Z",
     "iopub.status.busy": "2021-08-06T23:30:14.171827Z",
     "iopub.status.idle": "2021-08-06T23:30:14.176370Z",
     "shell.execute_reply": "2021-08-06T23:30:14.176777Z",
     "shell.execute_reply.started": "2021-08-06T21:56:48.430647Z"
    },
    "papermill": {
     "duration": 0.022319,
     "end_time": "2021-08-06T23:30:14.176923",
     "exception": false,
     "start_time": "2021-08-06T23:30:14.154604",
     "status": "completed"
    },
    "tags": []
   },
   "outputs": [
    {
     "data": {
      "application/javascript": [
       "parent.postMessage({\"jupyterEvent\": \"custom.exercise_interaction\", \"data\": {\"outcomeType\": 1, \"valueTowardsCompletion\": 0.2, \"interactionType\": 1, \"questionType\": 2, \"questionId\": \"2_LosingTeamCaptain\", \"learnToolsVersion\": \"0.3.4\", \"failureMessage\": \"\", \"exceptionClass\": \"\", \"trace\": \"\"}}, \"*\")"
      ],
      "text/plain": [
       "<IPython.core.display.Javascript object>"
      ]
     },
     "metadata": {},
     "output_type": "display_data"
    },
    {
     "data": {
      "text/markdown": [
       "<span style=\"color:#33cc33\">Correct</span>"
      ],
      "text/plain": [
       "Correct"
      ]
     },
     "metadata": {},
     "output_type": "display_data"
    }
   ],
   "source": [
    "def losing_team_captain(teams):\n",
    "    \"\"\"Given a list of teams, where each team is a list of names, return the 2nd player (captain)\n",
    "    from the last listed team\n",
    "    \"\"\"\n",
    "    worse_team = teams.pop()\n",
    "    return worse_team[1]\n",
    "    \n",
    "   \n",
    "        \n",
    "\n",
    "# Check your answer\n",
    "q2.check()"
   ]
  },
  {
   "cell_type": "code",
   "execution_count": 5,
   "id": "82c803c2",
   "metadata": {
    "execution": {
     "iopub.execute_input": "2021-08-06T23:30:14.206165Z",
     "iopub.status.busy": "2021-08-06T23:30:14.205657Z",
     "iopub.status.idle": "2021-08-06T23:30:14.210624Z",
     "shell.execute_reply": "2021-08-06T23:30:14.210136Z",
     "shell.execute_reply.started": "2021-08-06T21:02:10.319938Z"
    },
    "papermill": {
     "duration": 0.020412,
     "end_time": "2021-08-06T23:30:14.210745",
     "exception": false,
     "start_time": "2021-08-06T23:30:14.190333",
     "status": "completed"
    },
    "tags": []
   },
   "outputs": [],
   "source": [
    "#q2.hint()\n",
    "#q2.solution()"
   ]
  },
  {
   "cell_type": "markdown",
   "id": "71ac1dfc",
   "metadata": {
    "papermill": {
     "duration": 0.013155,
     "end_time": "2021-08-06T23:30:14.237380",
     "exception": false,
     "start_time": "2021-08-06T23:30:14.224225",
     "status": "completed"
    },
    "tags": []
   },
   "source": [
    "# 3.\n",
    "\n",
    "The next iteration of Mario Kart will feature an extra-infuriating new item, the *Purple Shell*. When used, it warps the last place racer into first place and the first place racer into last place. Complete the function below to implement the Purple Shell's effect."
   ]
  },
  {
   "cell_type": "code",
   "execution_count": 6,
   "id": "6e74a13c",
   "metadata": {
    "execution": {
     "iopub.execute_input": "2021-08-06T23:30:14.270021Z",
     "iopub.status.busy": "2021-08-06T23:30:14.269321Z",
     "iopub.status.idle": "2021-08-06T23:30:14.276287Z",
     "shell.execute_reply": "2021-08-06T23:30:14.275584Z",
     "shell.execute_reply.started": "2021-08-06T21:56:53.126006Z"
    },
    "papermill": {
     "duration": 0.025678,
     "end_time": "2021-08-06T23:30:14.276439",
     "exception": false,
     "start_time": "2021-08-06T23:30:14.250761",
     "status": "completed"
    },
    "tags": []
   },
   "outputs": [
    {
     "data": {
      "application/javascript": [
       "parent.postMessage({\"jupyterEvent\": \"custom.exercise_interaction\", \"data\": {\"outcomeType\": 1, \"valueTowardsCompletion\": 0.2, \"interactionType\": 1, \"questionType\": 2, \"questionId\": \"3_PurpleShell\", \"learnToolsVersion\": \"0.3.4\", \"failureMessage\": \"\", \"exceptionClass\": \"\", \"trace\": \"\"}}, \"*\")"
      ],
      "text/plain": [
       "<IPython.core.display.Javascript object>"
      ]
     },
     "metadata": {},
     "output_type": "display_data"
    },
    {
     "data": {
      "text/markdown": [
       "<span style=\"color:#33cc33\">Correct</span>"
      ],
      "text/plain": [
       "Correct"
      ]
     },
     "metadata": {},
     "output_type": "display_data"
    }
   ],
   "source": [
    "def purple_shell(racers):\n",
    "    \"\"\"Given a list of racers, set the first place racer (at the front of the list) to last\n",
    "    place and vice versa.\n",
    "    \n",
    "    >>> r = [\"Mario\", \"Bowser\", \"Luigi\"]\n",
    "    >>> purple_shell(r)\n",
    "    >>> r\n",
    "    [\"Luigi\", \"Bowser\", \"Mario\"]\n",
    "    \"\"\"\n",
    "    racers[0], racers[-1] = racers[-1], racers[0]\n",
    "    return\n",
    "\n",
    "\n",
    "# Check your answer\n",
    "q3.check()"
   ]
  },
  {
   "cell_type": "code",
   "execution_count": 7,
   "id": "a8d4258c",
   "metadata": {
    "execution": {
     "iopub.execute_input": "2021-08-06T23:30:14.322933Z",
     "iopub.status.busy": "2021-08-06T23:30:14.322319Z",
     "iopub.status.idle": "2021-08-06T23:30:14.325979Z",
     "shell.execute_reply": "2021-08-06T23:30:14.325440Z",
     "shell.execute_reply.started": "2021-08-06T21:16:06.890479Z"
    },
    "papermill": {
     "duration": 0.028306,
     "end_time": "2021-08-06T23:30:14.326113",
     "exception": false,
     "start_time": "2021-08-06T23:30:14.297807",
     "status": "completed"
    },
    "tags": []
   },
   "outputs": [],
   "source": [
    "#q3.hint()\n",
    "#3.solution()"
   ]
  },
  {
   "cell_type": "markdown",
   "id": "0b712d61",
   "metadata": {
    "papermill": {
     "duration": 0.020321,
     "end_time": "2021-08-06T23:30:14.367303",
     "exception": false,
     "start_time": "2021-08-06T23:30:14.346982",
     "status": "completed"
    },
    "tags": []
   },
   "source": [
    "# 4.\n",
    "\n",
    "What are the lengths of the following lists? Fill in the variable `lengths` with your predictions. (Try to make a prediction for each list *without* just calling `len()` on it.)"
   ]
  },
  {
   "cell_type": "code",
   "execution_count": 8,
   "id": "cc7b296f",
   "metadata": {
    "execution": {
     "iopub.execute_input": "2021-08-06T23:30:14.415117Z",
     "iopub.status.busy": "2021-08-06T23:30:14.414454Z",
     "iopub.status.idle": "2021-08-06T23:30:14.419492Z",
     "shell.execute_reply": "2021-08-06T23:30:14.418938Z",
     "shell.execute_reply.started": "2021-08-06T21:57:05.148649Z"
    },
    "papermill": {
     "duration": 0.031703,
     "end_time": "2021-08-06T23:30:14.419630",
     "exception": false,
     "start_time": "2021-08-06T23:30:14.387927",
     "status": "completed"
    },
    "tags": []
   },
   "outputs": [
    {
     "data": {
      "application/javascript": [
       "parent.postMessage({\"jupyterEvent\": \"custom.exercise_interaction\", \"data\": {\"outcomeType\": 1, \"valueTowardsCompletion\": 0.2, \"interactionType\": 1, \"questionType\": 1, \"questionId\": \"4_UnderstandLen\", \"learnToolsVersion\": \"0.3.4\", \"failureMessage\": \"\", \"exceptionClass\": \"\", \"trace\": \"\"}}, \"*\")"
      ],
      "text/plain": [
       "<IPython.core.display.Javascript object>"
      ]
     },
     "metadata": {},
     "output_type": "display_data"
    },
    {
     "data": {
      "text/markdown": [
       "<span style=\"color:#33cc33\">Correct:</span> \n",
       "\n",
       "\n",
       "- a: There are three items in this list. Nothing tricky yet.\n",
       "- b: The list `[2, 3]` counts as a single item. It has one item before it. So we have 2 items in the list\n",
       "- c: The empty list has 0 items\n",
       "- d: The expression is the same as the list `[2, 3]`, which has length 2."
      ],
      "text/plain": [
       "Correct: \n",
       "\n",
       "\n",
       "- a: There are three items in this list. Nothing tricky yet.\n",
       "- b: The list `[2, 3]` counts as a single item. It has one item before it. So we have 2 items in the list\n",
       "- c: The empty list has 0 items\n",
       "- d: The expression is the same as the list `[2, 3]`, which has length 2."
      ]
     },
     "metadata": {},
     "output_type": "display_data"
    }
   ],
   "source": [
    "a = [1, 2, 3]\n",
    "b = [1, [2, 3]]\n",
    "c = []\n",
    "d = [1, 2, 3][1:]\n",
    "\n",
    "# Put your predictions in the list below. Lengths should contain 4 numbers, the\n",
    "# first being the length of a, the second being the length of b and so on.\n",
    "lengths = [3,2,0,2]\n",
    "\n",
    "# Check your answer\n",
    "q4.check()"
   ]
  },
  {
   "cell_type": "code",
   "execution_count": 9,
   "id": "fadf2828",
   "metadata": {
    "execution": {
     "iopub.execute_input": "2021-08-06T23:30:14.469160Z",
     "iopub.status.busy": "2021-08-06T23:30:14.468674Z",
     "iopub.status.idle": "2021-08-06T23:30:14.472778Z",
     "shell.execute_reply": "2021-08-06T23:30:14.472229Z"
    },
    "papermill": {
     "duration": 0.030691,
     "end_time": "2021-08-06T23:30:14.472892",
     "exception": false,
     "start_time": "2021-08-06T23:30:14.442201",
     "status": "completed"
    },
    "tags": []
   },
   "outputs": [],
   "source": [
    "# line below provides some explanation\n",
    "#q4.solution()"
   ]
  },
  {
   "cell_type": "markdown",
   "id": "a84b1753",
   "metadata": {
    "papermill": {
     "duration": 0.014962,
     "end_time": "2021-08-06T23:30:14.503064",
     "exception": false,
     "start_time": "2021-08-06T23:30:14.488102",
     "status": "completed"
    },
    "tags": []
   },
   "source": [
    "# 5. <span title=\"A bit spicy\" style=\"color: darkgreen \">🌶️</span>\n",
    "\n",
    "We're using lists to record people who attended our party and what order they arrived in. For example, the following list represents a party with 7 guests, in which Adela showed up first and Ford was the last to arrive:\n",
    "\n",
    "    party_attendees = ['Adela', 'Fleda', 'Owen', 'May', 'Mona', 'Gilbert', 'Ford']\n",
    "\n",
    "A guest is considered 'fashionably late' if they arrived after at least half of the party's guests. However, they must not be the very last guest (that's taking it too far). In the above example, Mona and Gilbert are the only guests who were fashionably late.\n",
    "\n",
    "Complete the function below which takes a list of party attendees as well as a person, and tells us whether that person is fashionably late."
   ]
  },
  {
   "cell_type": "code",
   "execution_count": 10,
   "id": "f8219d36",
   "metadata": {
    "execution": {
     "iopub.execute_input": "2021-08-06T23:30:14.539455Z",
     "iopub.status.busy": "2021-08-06T23:30:14.538943Z",
     "iopub.status.idle": "2021-08-06T23:30:14.545035Z",
     "shell.execute_reply": "2021-08-06T23:30:14.544552Z",
     "shell.execute_reply.started": "2021-08-06T22:05:00.101024Z"
    },
    "papermill": {
     "duration": 0.026775,
     "end_time": "2021-08-06T23:30:14.545145",
     "exception": false,
     "start_time": "2021-08-06T23:30:14.518370",
     "status": "completed"
    },
    "tags": []
   },
   "outputs": [
    {
     "data": {
      "application/javascript": [
       "parent.postMessage({\"jupyterEvent\": \"custom.exercise_interaction\", \"data\": {\"outcomeType\": 1, \"valueTowardsCompletion\": 0.2, \"interactionType\": 1, \"questionType\": 2, \"questionId\": \"5_FashionablyLate\", \"learnToolsVersion\": \"0.3.4\", \"failureMessage\": \"\", \"exceptionClass\": \"\", \"trace\": \"\"}}, \"*\")"
      ],
      "text/plain": [
       "<IPython.core.display.Javascript object>"
      ]
     },
     "metadata": {},
     "output_type": "display_data"
    },
    {
     "data": {
      "text/markdown": [
       "<span style=\"color:#33cc33\">Correct</span>"
      ],
      "text/plain": [
       "Correct"
      ]
     },
     "metadata": {},
     "output_type": "display_data"
    }
   ],
   "source": [
    "def fashionably_late(arrivals, name):\n",
    "    \"\"\"Given an ordered list of arrivals to the party and a name, return whether the guest with that\n",
    "    name was fashionably late.\n",
    "    \"\"\"\n",
    "    halved_arrivals = len(arrivals)/2 \n",
    "    \n",
    "    if arrivals.index(name) >= halved_arrivals and name != arrivals[-1]:\n",
    "        return True\n",
    "    else:\n",
    "        return False\n",
    "\n",
    "# Check your answer\n",
    "q5.check()"
   ]
  },
  {
   "cell_type": "code",
   "execution_count": 11,
   "id": "008d4c19",
   "metadata": {
    "execution": {
     "iopub.execute_input": "2021-08-06T23:30:14.579400Z",
     "iopub.status.busy": "2021-08-06T23:30:14.578907Z",
     "iopub.status.idle": "2021-08-06T23:30:14.582924Z",
     "shell.execute_reply": "2021-08-06T23:30:14.583436Z",
     "shell.execute_reply.started": "2021-08-06T22:02:04.204714Z"
    },
    "papermill": {
     "duration": 0.022749,
     "end_time": "2021-08-06T23:30:14.583576",
     "exception": false,
     "start_time": "2021-08-06T23:30:14.560827",
     "status": "completed"
    },
    "tags": []
   },
   "outputs": [],
   "source": [
    "#q5.hint()\n",
    "#q5.solution()"
   ]
  },
  {
   "cell_type": "markdown",
   "id": "236a813b",
   "metadata": {
    "papermill": {
     "duration": 0.0151,
     "end_time": "2021-08-06T23:30:14.614638",
     "exception": false,
     "start_time": "2021-08-06T23:30:14.599538",
     "status": "completed"
    },
    "tags": []
   },
   "source": [
    "# Keep Going\n",
    "\n",
    "That's it for lists and tuples! Now you have the baseline knowledge to **[learn about loops](https://www.kaggle.com/colinmorris/loops-and-list-comprehensions)**, which is where lists and tuples get really interesting. "
   ]
  },
  {
   "cell_type": "markdown",
   "id": "d914c653",
   "metadata": {
    "papermill": {
     "duration": 0.01479,
     "end_time": "2021-08-06T23:30:14.644709",
     "exception": false,
     "start_time": "2021-08-06T23:30:14.629919",
     "status": "completed"
    },
    "tags": []
   },
   "source": [
    "---\n",
    "\n",
    "\n",
    "\n",
    "\n",
    "*Have questions or comments? Visit the [Learn Discussion forum](https://www.kaggle.com/learn-forum/161283) to chat with other Learners.*"
   ]
  }
 ],
 "metadata": {
  "kernelspec": {
   "display_name": "Python 3",
   "language": "python",
   "name": "python3"
  },
  "language_info": {
   "codemirror_mode": {
    "name": "ipython",
    "version": 3
   },
   "file_extension": ".py",
   "mimetype": "text/x-python",
   "name": "python",
   "nbconvert_exporter": "python",
   "pygments_lexer": "ipython3",
   "version": "3.7.10"
  },
  "papermill": {
   "default_parameters": {},
   "duration": 10.729274,
   "end_time": "2021-08-06T23:30:15.469998",
   "environment_variables": {},
   "exception": null,
   "input_path": "__notebook__.ipynb",
   "output_path": "__notebook__.ipynb",
   "parameters": {},
   "start_time": "2021-08-06T23:30:04.740724",
   "version": "2.3.3"
  }
 },
 "nbformat": 4,
 "nbformat_minor": 5
}
