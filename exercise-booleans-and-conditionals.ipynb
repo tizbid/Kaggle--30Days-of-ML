{
 "cells": [
  {
   "cell_type": "markdown",
   "id": "7e87b4d9",
   "metadata": {
    "papermill": {
     "duration": 0.028723,
     "end_time": "2021-08-05T21:11:55.518023",
     "exception": false,
     "start_time": "2021-08-05T21:11:55.489300",
     "status": "completed"
    },
    "tags": []
   },
   "source": [
    "**This notebook is an exercise in the [Python](https://www.kaggle.com/learn/python) course.  You can reference the tutorial at [this link](https://www.kaggle.com/colinmorris/booleans-and-conditionals).**\n",
    "\n",
    "---\n"
   ]
  },
  {
   "cell_type": "markdown",
   "id": "c572bf66",
   "metadata": {
    "papermill": {
     "duration": 0.028291,
     "end_time": "2021-08-05T21:11:55.574323",
     "exception": false,
     "start_time": "2021-08-05T21:11:55.546032",
     "status": "completed"
    },
    "tags": []
   },
   "source": [
    "In this exercise, you'll put to work what you have learned about booleans and conditionals.\n",
    "\n",
    "To get started, **run the setup code below** before writing your own code (and if you leave this notebook and come back later, don't forget to run the setup code again)."
   ]
  },
  {
   "cell_type": "code",
   "execution_count": 1,
   "id": "396f2deb",
   "metadata": {
    "execution": {
     "iopub.execute_input": "2021-08-05T21:11:55.633864Z",
     "iopub.status.busy": "2021-08-05T21:11:55.632669Z",
     "iopub.status.idle": "2021-08-05T21:11:55.779018Z",
     "shell.execute_reply": "2021-08-05T21:11:55.778137Z",
     "shell.execute_reply.started": "2021-08-05T20:02:40.053609Z"
    },
    "papermill": {
     "duration": 0.17726,
     "end_time": "2021-08-05T21:11:55.779190",
     "exception": false,
     "start_time": "2021-08-05T21:11:55.601930",
     "status": "completed"
    },
    "tags": []
   },
   "outputs": [
    {
     "name": "stdout",
     "output_type": "stream",
     "text": [
      "Setup complete.\n"
     ]
    }
   ],
   "source": [
    "from learntools.core import binder; binder.bind(globals())\n",
    "from learntools.python.ex3 import *\n",
    "print('Setup complete.')"
   ]
  },
  {
   "cell_type": "markdown",
   "id": "aad6ac2a",
   "metadata": {
    "papermill": {
     "duration": 0.027879,
     "end_time": "2021-08-05T21:11:55.835957",
     "exception": false,
     "start_time": "2021-08-05T21:11:55.808078",
     "status": "completed"
    },
    "tags": []
   },
   "source": [
    "# 1.\n",
    "\n",
    "Many programming languages have [`sign`](https://en.wikipedia.org/wiki/Sign_function) available as a built-in function. Python doesn't, but we can define our own!\n",
    "\n",
    "In the cell below, define a function called `sign` which takes a numerical argument and returns -1 if it's negative, 1 if it's positive, and 0 if it's 0."
   ]
  },
  {
   "cell_type": "code",
   "execution_count": 2,
   "id": "e16c2c5c",
   "metadata": {
    "execution": {
     "iopub.execute_input": "2021-08-05T21:11:55.905924Z",
     "iopub.status.busy": "2021-08-05T21:11:55.904818Z",
     "iopub.status.idle": "2021-08-05T21:11:55.911707Z",
     "shell.execute_reply": "2021-08-05T21:11:55.912228Z",
     "shell.execute_reply.started": "2021-08-05T20:13:47.287134Z"
    },
    "papermill": {
     "duration": 0.047574,
     "end_time": "2021-08-05T21:11:55.912401",
     "exception": false,
     "start_time": "2021-08-05T21:11:55.864827",
     "status": "completed"
    },
    "tags": []
   },
   "outputs": [
    {
     "data": {
      "application/javascript": [
       "parent.postMessage({\"jupyterEvent\": \"custom.exercise_interaction\", \"data\": {\"outcomeType\": 1, \"valueTowardsCompletion\": 0.2, \"interactionType\": 1, \"questionType\": 2, \"questionId\": \"1_SignFunctionProblem\", \"learnToolsVersion\": \"0.3.4\", \"failureMessage\": \"\", \"exceptionClass\": \"\", \"trace\": \"\"}}, \"*\")"
      ],
      "text/plain": [
       "<IPython.core.display.Javascript object>"
      ]
     },
     "metadata": {},
     "output_type": "display_data"
    },
    {
     "data": {
      "text/markdown": [
       "<span style=\"color:#33cc33\">Correct</span>"
      ],
      "text/plain": [
       "Correct"
      ]
     },
     "metadata": {},
     "output_type": "display_data"
    }
   ],
   "source": [
    "# Your code goes here. Define a function called 'sign'\n",
    "def sign(num):\n",
    "    if num > 0:\n",
    "        return (1)\n",
    "    elif num < 0:\n",
    "        return (-1)\n",
    "    elif num == 0:\n",
    "        return 0\n",
    "    else:\n",
    "        return num\n",
    "\n",
    "# Check your answer\n",
    "q1.check()"
   ]
  },
  {
   "cell_type": "code",
   "execution_count": 3,
   "id": "9573787f",
   "metadata": {
    "execution": {
     "iopub.execute_input": "2021-08-05T21:11:55.978708Z",
     "iopub.status.busy": "2021-08-05T21:11:55.977937Z",
     "iopub.status.idle": "2021-08-05T21:11:55.981284Z",
     "shell.execute_reply": "2021-08-05T21:11:55.980692Z"
    },
    "papermill": {
     "duration": 0.038721,
     "end_time": "2021-08-05T21:11:55.981454",
     "exception": false,
     "start_time": "2021-08-05T21:11:55.942733",
     "status": "completed"
    },
    "tags": []
   },
   "outputs": [],
   "source": [
    "#q1.solution()"
   ]
  },
  {
   "cell_type": "markdown",
   "id": "becadc17",
   "metadata": {
    "papermill": {
     "duration": 0.029774,
     "end_time": "2021-08-05T21:11:56.042016",
     "exception": false,
     "start_time": "2021-08-05T21:11:56.012242",
     "status": "completed"
    },
    "tags": []
   },
   "source": [
    "# 2.\n",
    "\n",
    "We've decided to add \"logging\" to our `to_smash` function from the previous exercise."
   ]
  },
  {
   "cell_type": "code",
   "execution_count": 4,
   "id": "a078222f",
   "metadata": {
    "execution": {
     "iopub.execute_input": "2021-08-05T21:11:56.108584Z",
     "iopub.status.busy": "2021-08-05T21:11:56.107830Z",
     "iopub.status.idle": "2021-08-05T21:11:56.113497Z",
     "shell.execute_reply": "2021-08-05T21:11:56.112850Z",
     "shell.execute_reply.started": "2021-08-05T20:14:40.256463Z"
    },
    "papermill": {
     "duration": 0.041541,
     "end_time": "2021-08-05T21:11:56.113640",
     "exception": false,
     "start_time": "2021-08-05T21:11:56.072099",
     "status": "completed"
    },
    "tags": []
   },
   "outputs": [
    {
     "name": "stdout",
     "output_type": "stream",
     "text": [
      "Splitting 91 candies\n"
     ]
    },
    {
     "data": {
      "text/plain": [
       "1"
      ]
     },
     "execution_count": 4,
     "metadata": {},
     "output_type": "execute_result"
    }
   ],
   "source": [
    "def to_smash(total_candies):\n",
    "    \"\"\"Return the number of leftover candies that must be smashed after distributing\n",
    "    the given number of candies evenly between 3 friends.\n",
    "    \n",
    "    >>> to_smash(91)\n",
    "    1\n",
    "    \"\"\"\n",
    "    print(\"Splitting\", total_candies, \"candies\")\n",
    "    return total_candies % 3\n",
    "\n",
    "to_smash(91)"
   ]
  },
  {
   "cell_type": "markdown",
   "id": "717e38f9",
   "metadata": {
    "papermill": {
     "duration": 0.029842,
     "end_time": "2021-08-05T21:11:56.173577",
     "exception": false,
     "start_time": "2021-08-05T21:11:56.143735",
     "status": "completed"
    },
    "tags": []
   },
   "source": [
    "What happens if we call it with `total_candies = 1`?"
   ]
  },
  {
   "cell_type": "code",
   "execution_count": 5,
   "id": "45e54c13",
   "metadata": {
    "execution": {
     "iopub.execute_input": "2021-08-05T21:11:56.239608Z",
     "iopub.status.busy": "2021-08-05T21:11:56.238583Z",
     "iopub.status.idle": "2021-08-05T21:11:56.244215Z",
     "shell.execute_reply": "2021-08-05T21:11:56.244876Z",
     "shell.execute_reply.started": "2021-08-05T20:15:08.371822Z"
    },
    "papermill": {
     "duration": 0.041469,
     "end_time": "2021-08-05T21:11:56.245116",
     "exception": false,
     "start_time": "2021-08-05T21:11:56.203647",
     "status": "completed"
    },
    "tags": []
   },
   "outputs": [
    {
     "name": "stdout",
     "output_type": "stream",
     "text": [
      "Splitting 1 candies\n"
     ]
    },
    {
     "data": {
      "text/plain": [
       "1"
      ]
     },
     "execution_count": 5,
     "metadata": {},
     "output_type": "execute_result"
    }
   ],
   "source": [
    "to_smash(1)"
   ]
  },
  {
   "cell_type": "markdown",
   "id": "94ba9e93",
   "metadata": {
    "papermill": {
     "duration": 0.030348,
     "end_time": "2021-08-05T21:11:56.306460",
     "exception": false,
     "start_time": "2021-08-05T21:11:56.276112",
     "status": "completed"
    },
    "tags": []
   },
   "source": [
    "That isn't great grammar!\n",
    "\n",
    "Modify the definition in the cell below to correct the grammar of our print statement. (If there's only one candy, we should use the singular \"candy\" instead of the plural \"candies\")"
   ]
  },
  {
   "cell_type": "code",
   "execution_count": 6,
   "id": "8172a561",
   "metadata": {
    "execution": {
     "iopub.execute_input": "2021-08-05T21:11:56.374472Z",
     "iopub.status.busy": "2021-08-05T21:11:56.372898Z",
     "iopub.status.idle": "2021-08-05T21:11:56.380023Z",
     "shell.execute_reply": "2021-08-05T21:11:56.380539Z",
     "shell.execute_reply.started": "2021-08-05T20:18:55.274511Z"
    },
    "papermill": {
     "duration": 0.04376,
     "end_time": "2021-08-05T21:11:56.380714",
     "exception": false,
     "start_time": "2021-08-05T21:11:56.336954",
     "status": "completed"
    },
    "tags": []
   },
   "outputs": [
    {
     "name": "stdout",
     "output_type": "stream",
     "text": [
      "Splitting 91 candies\n",
      "Splitting 1 candy\n"
     ]
    },
    {
     "data": {
      "text/plain": [
       "1"
      ]
     },
     "execution_count": 6,
     "metadata": {},
     "output_type": "execute_result"
    }
   ],
   "source": [
    "def to_smash(total_candies):\n",
    "    \"\"\"Return the number of leftover candies that must be smashed after distributing\n",
    "    the given number of candies evenly between 3 friends.\n",
    "    \n",
    "    >>> to_smash(91)\n",
    "    1\n",
    "    \"\"\"\n",
    "\n",
    "    if total_candies == 1:\n",
    "        print(\"Splitting\", total_candies, \"candy\")\n",
    "    else:\n",
    "        print(\"Splitting\", total_candies, \"candies\")\n",
    "         \n",
    "    return total_candies % 3\n",
    "\n",
    "to_smash(91)\n",
    "to_smash(1)"
   ]
  },
  {
   "cell_type": "markdown",
   "id": "8270f12c",
   "metadata": {
    "papermill": {
     "duration": 0.030977,
     "end_time": "2021-08-05T21:11:56.443014",
     "exception": false,
     "start_time": "2021-08-05T21:11:56.412037",
     "status": "completed"
    },
    "tags": []
   },
   "source": [
    "To get credit for completing this problem, and to see the official answer, run the code cell below."
   ]
  },
  {
   "cell_type": "code",
   "execution_count": 7,
   "id": "86027ee5",
   "metadata": {
    "execution": {
     "iopub.execute_input": "2021-08-05T21:11:56.511665Z",
     "iopub.status.busy": "2021-08-05T21:11:56.510948Z",
     "iopub.status.idle": "2021-08-05T21:11:56.516917Z",
     "shell.execute_reply": "2021-08-05T21:11:56.517378Z",
     "shell.execute_reply.started": "2021-08-05T20:19:30.804297Z"
    },
    "papermill": {
     "duration": 0.042718,
     "end_time": "2021-08-05T21:11:56.517575",
     "exception": false,
     "start_time": "2021-08-05T21:11:56.474857",
     "status": "completed"
    },
    "tags": []
   },
   "outputs": [
    {
     "data": {
      "application/javascript": [
       "parent.postMessage({\"jupyterEvent\": \"custom.exercise_interaction\", \"data\": {\"interactionType\": 3, \"questionType\": 4, \"questionId\": \"2_PluralizationProblem\", \"learnToolsVersion\": \"0.3.4\", \"valueTowardsCompletion\": 0.0, \"failureMessage\": \"\", \"exceptionClass\": \"\", \"trace\": \"\", \"outcomeType\": 4}}, \"*\")"
      ],
      "text/plain": [
       "<IPython.core.display.Javascript object>"
      ]
     },
     "metadata": {},
     "output_type": "display_data"
    },
    {
     "data": {
      "text/markdown": [
       "<span style=\"color:#33cc99\">Solution:</span> A straightforward (and totally fine) solution is to replace the original `print` call with:\n",
       "\n",
       "```python\n",
       "if total_candies == 1:\n",
       "    print(\"Splitting 1 candy\")\n",
       "else:\n",
       "    print(\"Splitting\", total_candies, \"candies\")\n",
       "```\n",
       "\n",
       "Here's a slightly more succinct solution using a conditional expression:\n",
       "\n",
       "```python\n",
       "print(\"Splitting\", total_candies, \"candy\" if total_candies == 1 else \"candies\")\n",
       "```"
      ],
      "text/plain": [
       "Solution: A straightforward (and totally fine) solution is to replace the original `print` call with:\n",
       "\n",
       "```python\n",
       "if total_candies == 1:\n",
       "    print(\"Splitting 1 candy\")\n",
       "else:\n",
       "    print(\"Splitting\", total_candies, \"candies\")\n",
       "```\n",
       "\n",
       "Here's a slightly more succinct solution using a conditional expression:\n",
       "\n",
       "```python\n",
       "print(\"Splitting\", total_candies, \"candy\" if total_candies == 1 else \"candies\")\n",
       "```"
      ]
     },
     "metadata": {},
     "output_type": "display_data"
    }
   ],
   "source": [
    "# Check your answer (Run this code cell to receive credit!)\n",
    "q2.solution()"
   ]
  },
  {
   "cell_type": "markdown",
   "id": "3eedcda2",
   "metadata": {
    "papermill": {
     "duration": 0.033519,
     "end_time": "2021-08-05T21:11:56.583844",
     "exception": false,
     "start_time": "2021-08-05T21:11:56.550325",
     "status": "completed"
    },
    "tags": []
   },
   "source": [
    "# 3. <span title=\"A bit spicy\" style=\"color: darkgreen \">🌶️</span>\n",
    "\n",
    "In the tutorial, we talked about deciding whether we're prepared for the weather. I said that I'm safe from today's weather if...\n",
    "- I have an umbrella...\n",
    "- or if the rain isn't too heavy and I have a hood...\n",
    "- otherwise, I'm still fine unless it's raining *and* it's a workday\n",
    "\n",
    "The function below uses our first attempt at turning this logic into a Python expression. I claimed that there was a bug in that code. Can you find it?\n",
    "\n",
    "To prove that `prepared_for_weather` is buggy, come up with a set of inputs where either:\n",
    "- the function returns `False` (but should have returned `True`), or\n",
    "- the function returned `True` (but should have returned `False`).\n",
    "\n",
    "To get credit for completing this question, your code should return a <font color='#33cc33'>Correct</font> result."
   ]
  },
  {
   "cell_type": "code",
   "execution_count": 8,
   "id": "bbb722f5",
   "metadata": {
    "execution": {
     "iopub.execute_input": "2021-08-05T21:11:56.656115Z",
     "iopub.status.busy": "2021-08-05T21:11:56.655209Z",
     "iopub.status.idle": "2021-08-05T21:11:56.663446Z",
     "shell.execute_reply": "2021-08-05T21:11:56.664056Z",
     "shell.execute_reply.started": "2021-08-05T20:42:42.105895Z"
    },
    "papermill": {
     "duration": 0.048218,
     "end_time": "2021-08-05T21:11:56.664254",
     "exception": false,
     "start_time": "2021-08-05T21:11:56.616036",
     "status": "completed"
    },
    "tags": []
   },
   "outputs": [
    {
     "name": "stdout",
     "output_type": "stream",
     "text": [
      "False\n"
     ]
    },
    {
     "data": {
      "application/javascript": [
       "parent.postMessage({\"jupyterEvent\": \"custom.exercise_interaction\", \"data\": {\"outcomeType\": 1, \"valueTowardsCompletion\": 0.2, \"interactionType\": 1, \"questionType\": 1, \"questionId\": \"3_WeatherDebug\", \"learnToolsVersion\": \"0.3.4\", \"failureMessage\": \"\", \"exceptionClass\": \"\", \"trace\": \"\"}}, \"*\")"
      ],
      "text/plain": [
       "<IPython.core.display.Javascript object>"
      ]
     },
     "metadata": {},
     "output_type": "display_data"
    },
    {
     "data": {
      "text/markdown": [
       "<span style=\"color:#33cc33\">Correct:</span> \n",
       "\n",
       "One example of a failing test case is:\n",
       "\n",
       "```python\n",
       "have_umbrella = False\n",
       "rain_level = 0.0\n",
       "have_hood = False\n",
       "is_workday = False\n",
       "```\n",
       "\n",
       "Clearly we're prepared for the weather in this case. It's not raining. Not only that, it's not a workday, so we don't even need to leave the house! But our function will return False on these inputs.\n",
       "\n",
       "The key problem is that Python implictly parenthesizes the last part as:\n",
       "\n",
       "```python\n",
       "(not (rain_level > 0)) and is_workday\n",
       "```\n",
       "\n",
       "Whereas what we were trying to express would look more like:\n",
       "\n",
       "```python\n",
       "not (rain_level > 0 and is_workday)\n",
       "```\n"
      ],
      "text/plain": [
       "Correct: \n",
       "\n",
       "One example of a failing test case is:\n",
       "\n",
       "```python\n",
       "have_umbrella = False\n",
       "rain_level = 0.0\n",
       "have_hood = False\n",
       "is_workday = False\n",
       "```\n",
       "\n",
       "Clearly we're prepared for the weather in this case. It's not raining. Not only that, it's not a workday, so we don't even need to leave the house! But our function will return False on these inputs.\n",
       "\n",
       "The key problem is that Python implictly parenthesizes the last part as:\n",
       "\n",
       "```python\n",
       "(not (rain_level > 0)) and is_workday\n",
       "```\n",
       "\n",
       "Whereas what we were trying to express would look more like:\n",
       "\n",
       "```python\n",
       "not (rain_level > 0 and is_workday)\n",
       "```"
      ]
     },
     "metadata": {},
     "output_type": "display_data"
    }
   ],
   "source": [
    "def prepared_for_weather(have_umbrella, rain_level, have_hood, is_workday):\n",
    "    # Don't change this code. Our goal is just to find the bug, not fix it!\n",
    "    return have_umbrella or rain_level < 5 and have_hood or not rain_level > 0 and is_workday\n",
    "\n",
    "# Change the values of these inputs so they represent a case where prepared_for_weather\n",
    "# returns the wrong answer.\n",
    "have_umbrella = False\n",
    "rain_level = 0.0\n",
    "have_hood = False\n",
    "is_workday = False\n",
    "\n",
    "# Check what the function returns given the current values of the variables above\n",
    "actual = prepared_for_weather(have_umbrella, rain_level, have_hood, is_workday)\n",
    "print(actual)\n",
    "\n",
    "# Check your answer\n",
    "q3.check()"
   ]
  },
  {
   "cell_type": "code",
   "execution_count": 9,
   "id": "6e9571a1",
   "metadata": {
    "execution": {
     "iopub.execute_input": "2021-08-05T21:11:56.739206Z",
     "iopub.status.busy": "2021-08-05T21:11:56.738177Z",
     "iopub.status.idle": "2021-08-05T21:11:56.741378Z",
     "shell.execute_reply": "2021-08-05T21:11:56.741935Z",
     "shell.execute_reply.started": "2021-08-05T20:41:56.628299Z"
    },
    "papermill": {
     "duration": 0.042927,
     "end_time": "2021-08-05T21:11:56.742114",
     "exception": false,
     "start_time": "2021-08-05T21:11:56.699187",
     "status": "completed"
    },
    "tags": []
   },
   "outputs": [],
   "source": [
    "#q3.hint()\n",
    "#q3.solution()"
   ]
  },
  {
   "cell_type": "markdown",
   "id": "dc26ccf2",
   "metadata": {
    "papermill": {
     "duration": 0.033722,
     "end_time": "2021-08-05T21:11:56.810640",
     "exception": false,
     "start_time": "2021-08-05T21:11:56.776918",
     "status": "completed"
    },
    "tags": []
   },
   "source": [
    "# 4.\n",
    "\n",
    "The function `is_negative` below is implemented correctly - it returns True if the given number is negative and False otherwise.\n",
    "\n",
    "However, it's more verbose than it needs to be. We can actually reduce the number of lines of code in this function by *75%* while keeping the same behaviour. \n",
    "\n",
    "See if you can come up with an equivalent body that uses just **one line** of code, and put it in the function `concise_is_negative`. (HINT: you don't even need Python's ternary syntax)"
   ]
  },
  {
   "cell_type": "code",
   "execution_count": 10,
   "id": "a9690295",
   "metadata": {
    "execution": {
     "iopub.execute_input": "2021-08-05T21:11:56.885343Z",
     "iopub.status.busy": "2021-08-05T21:11:56.884649Z",
     "iopub.status.idle": "2021-08-05T21:11:56.890698Z",
     "shell.execute_reply": "2021-08-05T21:11:56.890015Z",
     "shell.execute_reply.started": "2021-08-05T20:49:56.13048Z"
    },
    "papermill": {
     "duration": 0.046305,
     "end_time": "2021-08-05T21:11:56.890857",
     "exception": false,
     "start_time": "2021-08-05T21:11:56.844552",
     "status": "completed"
    },
    "tags": []
   },
   "outputs": [
    {
     "data": {
      "application/javascript": [
       "parent.postMessage({\"jupyterEvent\": \"custom.exercise_interaction\", \"data\": {\"outcomeType\": 1, \"valueTowardsCompletion\": 0.2, \"interactionType\": 1, \"questionType\": 2, \"questionId\": \"4_ConciseIsNegative\", \"learnToolsVersion\": \"0.3.4\", \"failureMessage\": \"\", \"exceptionClass\": \"\", \"trace\": \"\"}}, \"*\")"
      ],
      "text/plain": [
       "<IPython.core.display.Javascript object>"
      ]
     },
     "metadata": {},
     "output_type": "display_data"
    },
    {
     "data": {
      "text/markdown": [
       "<span style=\"color:#33cc33\">Correct</span>"
      ],
      "text/plain": [
       "Correct"
      ]
     },
     "metadata": {},
     "output_type": "display_data"
    }
   ],
   "source": [
    "def is_negative(number):\n",
    "    if number < 0:\n",
    "        return True\n",
    "    else:\n",
    "        return False\n",
    "\n",
    "def concise_is_negative(number):\n",
    "    return number < 0\n",
    "\n",
    "# Check your answer\n",
    "q4.check()"
   ]
  },
  {
   "cell_type": "code",
   "execution_count": 11,
   "id": "4fd2ba88",
   "metadata": {
    "execution": {
     "iopub.execute_input": "2021-08-05T21:11:56.965941Z",
     "iopub.status.busy": "2021-08-05T21:11:56.965162Z",
     "iopub.status.idle": "2021-08-05T21:11:56.967742Z",
     "shell.execute_reply": "2021-08-05T21:11:56.967094Z",
     "shell.execute_reply.started": "2021-08-05T20:48:51.456673Z"
    },
    "papermill": {
     "duration": 0.041623,
     "end_time": "2021-08-05T21:11:56.967880",
     "exception": false,
     "start_time": "2021-08-05T21:11:56.926257",
     "status": "completed"
    },
    "tags": []
   },
   "outputs": [],
   "source": [
    "#q4.hint()\n",
    "#q4.solution()"
   ]
  },
  {
   "cell_type": "markdown",
   "id": "48209d2a",
   "metadata": {
    "papermill": {
     "duration": 0.035332,
     "end_time": "2021-08-05T21:11:57.038112",
     "exception": false,
     "start_time": "2021-08-05T21:11:57.002780",
     "status": "completed"
    },
    "tags": []
   },
   "source": [
    "# 5a.\n",
    "\n",
    "The boolean variables `ketchup`, `mustard` and `onion` represent whether a customer wants a particular topping on their hot dog. We want to implement a number of boolean functions that correspond to some yes-or-no questions about the customer's order. For example:"
   ]
  },
  {
   "cell_type": "code",
   "execution_count": 12,
   "id": "a371ca16",
   "metadata": {
    "execution": {
     "iopub.execute_input": "2021-08-05T21:11:57.115788Z",
     "iopub.status.busy": "2021-08-05T21:11:57.114834Z",
     "iopub.status.idle": "2021-08-05T21:11:57.116805Z",
     "shell.execute_reply": "2021-08-05T21:11:57.117360Z",
     "shell.execute_reply.started": "2021-08-05T20:52:35.764543Z"
    },
    "papermill": {
     "duration": 0.042974,
     "end_time": "2021-08-05T21:11:57.117556",
     "exception": false,
     "start_time": "2021-08-05T21:11:57.074582",
     "status": "completed"
    },
    "tags": []
   },
   "outputs": [],
   "source": [
    "def onionless(ketchup, mustard, onion):\n",
    "    \"\"\"Return whether the customer doesn't want onions.\n",
    "    \"\"\"\n",
    "    return not onion"
   ]
  },
  {
   "cell_type": "code",
   "execution_count": 13,
   "id": "715a42e1",
   "metadata": {
    "execution": {
     "iopub.execute_input": "2021-08-05T21:11:57.190316Z",
     "iopub.status.busy": "2021-08-05T21:11:57.189670Z",
     "iopub.status.idle": "2021-08-05T21:11:57.197085Z",
     "shell.execute_reply": "2021-08-05T21:11:57.196558Z",
     "shell.execute_reply.started": "2021-08-05T20:56:44.601433Z"
    },
    "papermill": {
     "duration": 0.044694,
     "end_time": "2021-08-05T21:11:57.197225",
     "exception": false,
     "start_time": "2021-08-05T21:11:57.152531",
     "status": "completed"
    },
    "tags": []
   },
   "outputs": [
    {
     "data": {
      "application/javascript": [
       "parent.postMessage({\"jupyterEvent\": \"custom.exercise_interaction\", \"data\": {\"outcomeType\": 1, \"valueTowardsCompletion\": 0.2, \"interactionType\": 1, \"questionType\": 2, \"questionId\": \"5.1_AllToppings\", \"learnToolsVersion\": \"0.3.4\", \"failureMessage\": \"\", \"exceptionClass\": \"\", \"trace\": \"\"}}, \"*\")"
      ],
      "text/plain": [
       "<IPython.core.display.Javascript object>"
      ]
     },
     "metadata": {},
     "output_type": "display_data"
    },
    {
     "data": {
      "text/markdown": [
       "<span style=\"color:#33cc33\">Correct</span>"
      ],
      "text/plain": [
       "Correct"
      ]
     },
     "metadata": {},
     "output_type": "display_data"
    }
   ],
   "source": [
    "def wants_all_toppings(ketchup, mustard, onion):\n",
    "    \"\"\"Return whether the customer wants \"the works\" (all 3 toppings)\n",
    "    \"\"\"\n",
    "    return ketchup and mustard and onion\n",
    "\n",
    "# Check your answer\n",
    "q5.a.check()"
   ]
  },
  {
   "cell_type": "code",
   "execution_count": 14,
   "id": "de779be9",
   "metadata": {
    "execution": {
     "iopub.execute_input": "2021-08-05T21:11:57.272317Z",
     "iopub.status.busy": "2021-08-05T21:11:57.271634Z",
     "iopub.status.idle": "2021-08-05T21:11:57.274320Z",
     "shell.execute_reply": "2021-08-05T21:11:57.274825Z",
     "shell.execute_reply.started": "2021-08-05T20:56:22.650099Z"
    },
    "papermill": {
     "duration": 0.042124,
     "end_time": "2021-08-05T21:11:57.275002",
     "exception": false,
     "start_time": "2021-08-05T21:11:57.232878",
     "status": "completed"
    },
    "tags": []
   },
   "outputs": [],
   "source": [
    "#q5.a.hint()\n",
    "#q5.a.solution()"
   ]
  },
  {
   "cell_type": "markdown",
   "id": "2a65a809",
   "metadata": {
    "papermill": {
     "duration": 0.035714,
     "end_time": "2021-08-05T21:11:57.346608",
     "exception": false,
     "start_time": "2021-08-05T21:11:57.310894",
     "status": "completed"
    },
    "tags": []
   },
   "source": [
    "# 5b.\n",
    "\n",
    "For the next function, fill in the body to match the English description in the docstring. "
   ]
  },
  {
   "cell_type": "code",
   "execution_count": 15,
   "id": "fa9ac3fe",
   "metadata": {
    "execution": {
     "iopub.execute_input": "2021-08-05T21:11:57.425502Z",
     "iopub.status.busy": "2021-08-05T21:11:57.424815Z",
     "iopub.status.idle": "2021-08-05T21:11:57.428945Z",
     "shell.execute_reply": "2021-08-05T21:11:57.429443Z",
     "shell.execute_reply.started": "2021-08-05T20:58:38.373696Z"
    },
    "papermill": {
     "duration": 0.047336,
     "end_time": "2021-08-05T21:11:57.429624",
     "exception": false,
     "start_time": "2021-08-05T21:11:57.382288",
     "status": "completed"
    },
    "tags": []
   },
   "outputs": [
    {
     "data": {
      "application/javascript": [
       "parent.postMessage({\"jupyterEvent\": \"custom.exercise_interaction\", \"data\": {\"outcomeType\": 1, \"valueTowardsCompletion\": 0.2, \"interactionType\": 1, \"questionType\": 2, \"questionId\": \"5.2_PlainDog\", \"learnToolsVersion\": \"0.3.4\", \"failureMessage\": \"\", \"exceptionClass\": \"\", \"trace\": \"\"}}, \"*\")"
      ],
      "text/plain": [
       "<IPython.core.display.Javascript object>"
      ]
     },
     "metadata": {},
     "output_type": "display_data"
    },
    {
     "data": {
      "text/markdown": [
       "<span style=\"color:#33cc33\">Correct:</span> \n",
       "\n",
       "One solution looks like:\n",
       "```python\n",
       "return not ketchup and not mustard and not onion\n",
       "```\n",
       "\n",
       "We can also [\"factor out\" the nots](https://en.wikipedia.org/wiki/De_Morgan%27s_laws) to get:\n",
       "\n",
       "```python\n",
       "return not (ketchup or mustard or onion)\n",
       "```"
      ],
      "text/plain": [
       "Correct: \n",
       "\n",
       "One solution looks like:\n",
       "```python\n",
       "return not ketchup and not mustard and not onion\n",
       "```\n",
       "\n",
       "We can also [\"factor out\" the nots](https://en.wikipedia.org/wiki/De_Morgan%27s_laws) to get:\n",
       "\n",
       "```python\n",
       "return not (ketchup or mustard or onion)\n",
       "```"
      ]
     },
     "metadata": {},
     "output_type": "display_data"
    }
   ],
   "source": [
    "def wants_plain_hotdog(ketchup, mustard, onion):\n",
    "    \"\"\"Return whether the customer wants a plain hot dog with no toppings.\n",
    "    \"\"\"\n",
    "    return not(ketchup or mustard or onion)\n",
    "\n",
    "# Check your answer\n",
    "q5.b.check()"
   ]
  },
  {
   "cell_type": "code",
   "execution_count": 16,
   "id": "c475eedb",
   "metadata": {
    "execution": {
     "iopub.execute_input": "2021-08-05T21:11:57.506491Z",
     "iopub.status.busy": "2021-08-05T21:11:57.505844Z",
     "iopub.status.idle": "2021-08-05T21:11:57.508716Z",
     "shell.execute_reply": "2021-08-05T21:11:57.509173Z"
    },
    "papermill": {
     "duration": 0.042896,
     "end_time": "2021-08-05T21:11:57.509346",
     "exception": false,
     "start_time": "2021-08-05T21:11:57.466450",
     "status": "completed"
    },
    "tags": []
   },
   "outputs": [],
   "source": [
    "#q5.b.hint()\n",
    "#q5.b.solution()"
   ]
  },
  {
   "cell_type": "markdown",
   "id": "82a6bb72",
   "metadata": {
    "papermill": {
     "duration": 0.037419,
     "end_time": "2021-08-05T21:11:57.583770",
     "exception": false,
     "start_time": "2021-08-05T21:11:57.546351",
     "status": "completed"
    },
    "tags": []
   },
   "source": [
    "# 5c.\n",
    "\n",
    "You know what to do: for the next function, fill in the body to match the English description in the docstring."
   ]
  },
  {
   "cell_type": "code",
   "execution_count": 17,
   "id": "30a79200",
   "metadata": {
    "execution": {
     "iopub.execute_input": "2021-08-05T21:11:57.661046Z",
     "iopub.status.busy": "2021-08-05T21:11:57.660309Z",
     "iopub.status.idle": "2021-08-05T21:11:57.668399Z",
     "shell.execute_reply": "2021-08-05T21:11:57.667838Z",
     "shell.execute_reply.started": "2021-08-05T21:03:04.675619Z"
    },
    "papermill": {
     "duration": 0.047834,
     "end_time": "2021-08-05T21:11:57.668561",
     "exception": false,
     "start_time": "2021-08-05T21:11:57.620727",
     "status": "completed"
    },
    "tags": []
   },
   "outputs": [
    {
     "data": {
      "application/javascript": [
       "parent.postMessage({\"jupyterEvent\": \"custom.exercise_interaction\", \"data\": {\"outcomeType\": 1, \"valueTowardsCompletion\": 0.2, \"interactionType\": 1, \"questionType\": 2, \"questionId\": \"5.3_OneSauce\", \"learnToolsVersion\": \"0.3.4\", \"failureMessage\": \"\", \"exceptionClass\": \"\", \"trace\": \"\"}}, \"*\")"
      ],
      "text/plain": [
       "<IPython.core.display.Javascript object>"
      ]
     },
     "metadata": {},
     "output_type": "display_data"
    },
    {
     "data": {
      "text/markdown": [
       "<span style=\"color:#33cc33\">Correct</span>"
      ],
      "text/plain": [
       "Correct"
      ]
     },
     "metadata": {},
     "output_type": "display_data"
    }
   ],
   "source": [
    "def exactly_one_sauce(ketchup, mustard, onion):\n",
    "    \"\"\"Return whether the customer wants either ketchup or mustard, but not both.\n",
    "    (You may be familiar with this operation under the name \"exclusive or\")\n",
    "    \"\"\"\n",
    "    return ((ketchup or mustard) ^ (ketchup and mustard))\n",
    "\n",
    "# Check your answer\n",
    "q5.c.check()"
   ]
  },
  {
   "cell_type": "code",
   "execution_count": 18,
   "id": "357278c2",
   "metadata": {
    "execution": {
     "iopub.execute_input": "2021-08-05T21:11:57.749151Z",
     "iopub.status.busy": "2021-08-05T21:11:57.748498Z",
     "iopub.status.idle": "2021-08-05T21:11:57.753513Z",
     "shell.execute_reply": "2021-08-05T21:11:57.752830Z"
    },
    "papermill": {
     "duration": 0.04693,
     "end_time": "2021-08-05T21:11:57.753656",
     "exception": false,
     "start_time": "2021-08-05T21:11:57.706726",
     "status": "completed"
    },
    "tags": []
   },
   "outputs": [],
   "source": [
    "#q5.c.hint()\n",
    "#q5.c.solution()"
   ]
  },
  {
   "cell_type": "markdown",
   "id": "e62c7e72",
   "metadata": {
    "papermill": {
     "duration": 0.037968,
     "end_time": "2021-08-05T21:11:57.830343",
     "exception": false,
     "start_time": "2021-08-05T21:11:57.792375",
     "status": "completed"
    },
    "tags": []
   },
   "source": [
    "# 6. <span title=\"A bit spicy\" style=\"color: darkgreen \">🌶️</span>\n",
    "\n",
    "We’ve seen that calling `bool()` on an integer returns `False` if it’s equal to 0 and `True` otherwise. What happens if we call `int()` on a bool? Try it out in the notebook cell below.\n",
    "\n",
    "Can you take advantage of this to write a succinct function that corresponds to the English sentence \"does the customer want exactly one topping?\"?"
   ]
  },
  {
   "cell_type": "code",
   "execution_count": 19,
   "id": "349089c7",
   "metadata": {
    "execution": {
     "iopub.execute_input": "2021-08-05T21:11:57.912768Z",
     "iopub.status.busy": "2021-08-05T21:11:57.911898Z",
     "iopub.status.idle": "2021-08-05T21:11:57.915010Z",
     "shell.execute_reply": "2021-08-05T21:11:57.914492Z",
     "shell.execute_reply.started": "2021-08-05T21:10:11.158992Z"
    },
    "papermill": {
     "duration": 0.046484,
     "end_time": "2021-08-05T21:11:57.915155",
     "exception": false,
     "start_time": "2021-08-05T21:11:57.868671",
     "status": "completed"
    },
    "tags": []
   },
   "outputs": [],
   "source": [
    "def exactly_one_topping(ketchup, mustard, onion):\n",
    "    \"\"\"Return whether the customer wants exactly one of the three available toppings\n",
    "    on their hot dog.\n",
    "    \"\"\"\n",
    "    return (int(ketchup + mustard + onion)) == 1\n",
    "\n",
    "# Check your answer\n",
    "#q6.check()"
   ]
  },
  {
   "cell_type": "code",
   "execution_count": 20,
   "id": "850d0c11",
   "metadata": {
    "execution": {
     "iopub.execute_input": "2021-08-05T21:11:57.998601Z",
     "iopub.status.busy": "2021-08-05T21:11:57.997700Z",
     "iopub.status.idle": "2021-08-05T21:11:58.007761Z",
     "shell.execute_reply": "2021-08-05T21:11:58.008220Z",
     "shell.execute_reply.started": "2021-08-05T21:06:05.530551Z"
    },
    "papermill": {
     "duration": 0.054714,
     "end_time": "2021-08-05T21:11:58.008463",
     "exception": false,
     "start_time": "2021-08-05T21:11:57.953749",
     "status": "completed"
    },
    "tags": []
   },
   "outputs": [
    {
     "data": {
      "application/javascript": [
       "parent.postMessage({\"jupyterEvent\": \"custom.exercise_interaction\", \"data\": {\"interactionType\": 2, \"questionType\": 2, \"questionId\": \"6_OneTopping\", \"learnToolsVersion\": \"0.3.4\", \"valueTowardsCompletion\": 0.0, \"failureMessage\": \"\", \"exceptionClass\": \"\", \"trace\": \"\", \"outcomeType\": 4}}, \"*\")"
      ],
      "text/plain": [
       "<IPython.core.display.Javascript object>"
      ]
     },
     "metadata": {},
     "output_type": "display_data"
    },
    {
     "data": {
      "text/markdown": [
       "<span style=\"color:#3366cc\">Hint:</span> You may have already found that `int(True)` is 1, and `int(False)` is 0. Think about what kinds of basic arithmetic operations you might want to perform on `ketchup`, `mustard`, and `onion` after converting them to integers."
      ],
      "text/plain": [
       "Hint: You may have already found that `int(True)` is 1, and `int(False)` is 0. Think about what kinds of basic arithmetic operations you might want to perform on `ketchup`, `mustard`, and `onion` after converting them to integers."
      ]
     },
     "metadata": {},
     "output_type": "display_data"
    },
    {
     "data": {
      "application/javascript": [
       "parent.postMessage({\"jupyterEvent\": \"custom.exercise_interaction\", \"data\": {\"interactionType\": 3, \"questionType\": 2, \"questionId\": \"6_OneTopping\", \"learnToolsVersion\": \"0.3.4\", \"valueTowardsCompletion\": 0.0, \"failureMessage\": \"\", \"exceptionClass\": \"\", \"trace\": \"\", \"outcomeType\": 4}}, \"*\")"
      ],
      "text/plain": [
       "<IPython.core.display.Javascript object>"
      ]
     },
     "metadata": {},
     "output_type": "display_data"
    },
    {
     "data": {
      "text/markdown": [
       "<span style=\"color:#33cc99\">Solution:</span> This condition would be pretty complicated to express using just `and`, `or` and `not`, but using boolean-to-integer conversion gives us this short solution:\n",
       "```python\n",
       "return (int(ketchup) + int(mustard) + int(onion)) == 1\n",
       "```\n",
       "\n",
       "Fun fact: we don't technically need to call `int` on the arguments. Just by doing addition with booleans, Python implicitly does the integer conversion. So we could also write...\n",
       "\n",
       "```python\n",
       "return (ketchup + mustard + onion) == 1\n",
       "```"
      ],
      "text/plain": [
       "Solution: This condition would be pretty complicated to express using just `and`, `or` and `not`, but using boolean-to-integer conversion gives us this short solution:\n",
       "```python\n",
       "return (int(ketchup) + int(mustard) + int(onion)) == 1\n",
       "```\n",
       "\n",
       "Fun fact: we don't technically need to call `int` on the arguments. Just by doing addition with booleans, Python implicitly does the integer conversion. So we could also write...\n",
       "\n",
       "```python\n",
       "return (ketchup + mustard + onion) == 1\n",
       "```"
      ]
     },
     "metadata": {},
     "output_type": "display_data"
    }
   ],
   "source": [
    "q6.hint()\n",
    "q6.solution()"
   ]
  },
  {
   "cell_type": "markdown",
   "id": "7bcb9380",
   "metadata": {
    "papermill": {
     "duration": 0.040462,
     "end_time": "2021-08-05T21:11:58.089301",
     "exception": false,
     "start_time": "2021-08-05T21:11:58.048839",
     "status": "completed"
    },
    "tags": []
   },
   "source": [
    "# 7. <span title=\"A bit spicy\" style=\"color: darkgreen \">🌶️</span> (Optional)\n",
    "\n",
    "In this problem we'll be working with a simplified version of [blackjack](https://en.wikipedia.org/wiki/Blackjack) (aka twenty-one). In this version there is one player (who you'll control) and a dealer. Play proceeds as follows:\n",
    "\n",
    "- The player is dealt two face-up cards. The dealer is dealt one face-up card.\n",
    "- The player may ask to be dealt another card ('hit') as many times as they wish. If the sum of their cards exceeds 21, they lose the round immediately.\n",
    "- The dealer then deals additional cards to himself until either:\n",
    "    - the sum of the dealer's cards exceeds 21, in which case the player wins the round\n",
    "    - the sum of the dealer's cards is greater than or equal to 17. If the player's total is greater than the dealer's, the player wins. Otherwise, the dealer wins (even in case of a tie).\n",
    "    \n",
    "When calculating the sum of cards, Jack, Queen, and King count for 10. Aces can count as 1 or 11 (when referring to a player's \"total\" above, we mean the largest total that can be made without exceeding 21. So e.g. A+8 = 19, A+8+8 = 17)\n",
    "\n",
    "For this problem, you'll write a function representing the player's decision-making strategy in this game. We've provided a very unintelligent implementation below:"
   ]
  },
  {
   "cell_type": "code",
   "execution_count": 21,
   "id": "8df69c98",
   "metadata": {
    "execution": {
     "iopub.execute_input": "2021-08-05T21:11:58.175758Z",
     "iopub.status.busy": "2021-08-05T21:11:58.174874Z",
     "iopub.status.idle": "2021-08-05T21:11:58.177471Z",
     "shell.execute_reply": "2021-08-05T21:11:58.177987Z"
    },
    "papermill": {
     "duration": 0.047697,
     "end_time": "2021-08-05T21:11:58.178169",
     "exception": false,
     "start_time": "2021-08-05T21:11:58.130472",
     "status": "completed"
    },
    "tags": []
   },
   "outputs": [],
   "source": [
    "def should_hit(dealer_total, player_total, player_low_aces, player_high_aces):\n",
    "    \"\"\"Return True if the player should hit (request another card) given the current game\n",
    "    state, or False if the player should stay.\n",
    "    When calculating a hand's total value, we count aces as \"high\" (with value 11) if doing so\n",
    "    doesn't bring the total above 21, otherwise we count them as low (with value 1). \n",
    "    For example, if the player's hand is {A, A, A, 7}, we will count it as 11 + 1 + 1 + 7,\n",
    "    and therefore set player_total=20, player_low_aces=2, player_high_aces=1.\n",
    "    \"\"\"\n",
    "    return False"
   ]
  },
  {
   "cell_type": "markdown",
   "id": "c5c7c8b5",
   "metadata": {
    "papermill": {
     "duration": 0.039505,
     "end_time": "2021-08-05T21:11:58.257884",
     "exception": false,
     "start_time": "2021-08-05T21:11:58.218379",
     "status": "completed"
    },
    "tags": []
   },
   "source": [
    "This very conservative agent *always* sticks with the hand of two cards that they're dealt.\n",
    "\n",
    "We'll be simulating games between your player agent and our own dealer agent by calling your function.\n",
    "\n",
    "Try running the function below to see an example of a simulated game:"
   ]
  },
  {
   "cell_type": "code",
   "execution_count": 22,
   "id": "699987b8",
   "metadata": {
    "execution": {
     "iopub.execute_input": "2021-08-05T21:11:58.340798Z",
     "iopub.status.busy": "2021-08-05T21:11:58.340109Z",
     "iopub.status.idle": "2021-08-05T21:11:58.346964Z",
     "shell.execute_reply": "2021-08-05T21:11:58.346405Z"
    },
    "papermill": {
     "duration": 0.049333,
     "end_time": "2021-08-05T21:11:58.347099",
     "exception": false,
     "start_time": "2021-08-05T21:11:58.297766",
     "status": "completed"
    },
    "tags": []
   },
   "outputs": [
    {
     "name": "stdout",
     "output_type": "stream",
     "text": [
      "Player starts with Q and 3 (total = 13)\n",
      "Dealer starts with 7\n",
      "\n",
      "__Player's turn__\n",
      "Player stays\n",
      "\n",
      "__Dealer's turn__\n",
      "Dealer hits and receives Q. (total = 17)\n",
      "Dealer stands.\n",
      "Dealer wins. 17 >= 13\n"
     ]
    }
   ],
   "source": [
    "q7.simulate_one_game()"
   ]
  },
  {
   "cell_type": "markdown",
   "id": "9a2f516a",
   "metadata": {
    "papermill": {
     "duration": 0.040086,
     "end_time": "2021-08-05T21:11:58.427780",
     "exception": false,
     "start_time": "2021-08-05T21:11:58.387694",
     "status": "completed"
    },
    "tags": []
   },
   "source": [
    "The real test of your agent's mettle is their average win rate over many games. Try calling the function below to simulate 50000 games of blackjack (it may take a couple seconds):"
   ]
  },
  {
   "cell_type": "code",
   "execution_count": 23,
   "id": "9af454a8",
   "metadata": {
    "execution": {
     "iopub.execute_input": "2021-08-05T21:11:58.532500Z",
     "iopub.status.busy": "2021-08-05T21:11:58.527228Z",
     "iopub.status.idle": "2021-08-05T21:12:00.549136Z",
     "shell.execute_reply": "2021-08-05T21:12:00.549684Z"
    },
    "papermill": {
     "duration": 2.081627,
     "end_time": "2021-08-05T21:12:00.549865",
     "exception": false,
     "start_time": "2021-08-05T21:11:58.468238",
     "status": "completed"
    },
    "tags": []
   },
   "outputs": [
    {
     "name": "stdout",
     "output_type": "stream",
     "text": [
      "Player won 19021 out of 50000 games (win rate = 38.0%)\n"
     ]
    }
   ],
   "source": [
    "q7.simulate(n_games=50000)"
   ]
  },
  {
   "cell_type": "markdown",
   "id": "61be20f7",
   "metadata": {
    "papermill": {
     "duration": 0.043996,
     "end_time": "2021-08-05T21:12:00.635574",
     "exception": false,
     "start_time": "2021-08-05T21:12:00.591578",
     "status": "completed"
    },
    "tags": []
   },
   "source": [
    "Our dumb agent that completely ignores the game state still manages to win shockingly often!\n",
    "\n",
    "Try adding some more smarts to the `should_hit` function and see how it affects the results."
   ]
  },
  {
   "cell_type": "code",
   "execution_count": 24,
   "id": "c05d8f29",
   "metadata": {
    "execution": {
     "iopub.execute_input": "2021-08-05T21:12:00.753634Z",
     "iopub.status.busy": "2021-08-05T21:12:00.743051Z",
     "iopub.status.idle": "2021-08-05T21:12:02.719782Z",
     "shell.execute_reply": "2021-08-05T21:12:02.720535Z"
    },
    "papermill": {
     "duration": 2.043856,
     "end_time": "2021-08-05T21:12:02.720769",
     "exception": false,
     "start_time": "2021-08-05T21:12:00.676913",
     "status": "completed"
    },
    "tags": []
   },
   "outputs": [
    {
     "name": "stdout",
     "output_type": "stream",
     "text": [
      "Player won 18958 out of 50000 games (win rate = 37.9%)\n"
     ]
    }
   ],
   "source": [
    "def should_hit(dealer_total, player_total, player_low_aces, player_high_aces):\n",
    "    \"\"\"Return True if the player should hit (request another card) given the current game\n",
    "    state, or False if the player should stay.\n",
    "    When calculating a hand's total value, we count aces as \"high\" (with value 11) if doing so\n",
    "    doesn't bring the total above 21, otherwise we count them as low (with value 1). \n",
    "    For example, if the player's hand is {A, A, A, 7}, we will count it as 11 + 1 + 1 + 7,\n",
    "    and therefore set player_total=20, player_low_aces=2, player_high_aces=1.\n",
    "    \"\"\"\n",
    "    return False\n",
    "\n",
    "q7.simulate(n_games=50000)"
   ]
  },
  {
   "cell_type": "markdown",
   "id": "9a975980",
   "metadata": {
    "papermill": {
     "duration": 0.04096,
     "end_time": "2021-08-05T21:12:02.803748",
     "exception": false,
     "start_time": "2021-08-05T21:12:02.762788",
     "status": "completed"
    },
    "tags": []
   },
   "source": [
    "# Keep Going\n",
    "\n",
    "Learn about **[lists and tuples](https://www.kaggle.com/colinmorris/lists)** to handle multiple items of data in a systematic way."
   ]
  },
  {
   "cell_type": "markdown",
   "id": "164b2375",
   "metadata": {
    "papermill": {
     "duration": 0.040779,
     "end_time": "2021-08-05T21:12:02.886179",
     "exception": false,
     "start_time": "2021-08-05T21:12:02.845400",
     "status": "completed"
    },
    "tags": []
   },
   "source": [
    "---\n",
    "\n",
    "\n",
    "\n",
    "\n",
    "*Have questions or comments? Visit the [Learn Discussion forum](https://www.kaggle.com/learn-forum/161283) to chat with other Learners.*"
   ]
  }
 ],
 "metadata": {
  "kernelspec": {
   "display_name": "Python 3",
   "language": "python",
   "name": "python3"
  },
  "language_info": {
   "codemirror_mode": {
    "name": "ipython",
    "version": 3
   },
   "file_extension": ".py",
   "mimetype": "text/x-python",
   "name": "python",
   "nbconvert_exporter": "python",
   "pygments_lexer": "ipython3",
   "version": "3.7.10"
  },
  "papermill": {
   "default_parameters": {},
   "duration": 17.948623,
   "end_time": "2021-08-05T21:12:04.592903",
   "environment_variables": {},
   "exception": null,
   "input_path": "__notebook__.ipynb",
   "output_path": "__notebook__.ipynb",
   "parameters": {},
   "start_time": "2021-08-05T21:11:46.644280",
   "version": "2.3.3"
  }
 },
 "nbformat": 4,
 "nbformat_minor": 5
}
