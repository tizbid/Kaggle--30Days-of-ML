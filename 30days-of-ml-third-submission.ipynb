{
 "cells": [
  {
   "cell_type": "code",
   "execution_count": 1,
   "id": "ffd252d0",
   "metadata": {
    "_cell_guid": "b1076dfc-b9ad-4769-8c92-a6c4dae69d19",
    "_uuid": "8f2839f25d086af736a60e9eeb907d3b93b6e0e5",
    "execution": {
     "iopub.execute_input": "2021-08-29T23:54:08.585849Z",
     "iopub.status.busy": "2021-08-29T23:54:08.584288Z",
     "iopub.status.idle": "2021-08-29T23:54:09.606566Z",
     "shell.execute_reply": "2021-08-29T23:54:09.605944Z",
     "shell.execute_reply.started": "2021-08-29T22:50:59.060898Z"
    },
    "papermill": {
     "duration": 1.03478,
     "end_time": "2021-08-29T23:54:09.606721",
     "exception": false,
     "start_time": "2021-08-29T23:54:08.571941",
     "status": "completed"
    },
    "tags": []
   },
   "outputs": [],
   "source": [
    "import pandas as pd\n",
    "import numpy as np\n",
    "from sklearn.preprocessing import OrdinalEncoder\n",
    "from sklearn.model_selection import train_test_split\n",
    "from sklearn.ensemble import RandomForestRegressor\n",
    "from sklearn.metrics import mean_squared_error,mean_absolute_error\n",
    "from xgboost import XGBRegressor\n"
   ]
  },
  {
   "cell_type": "markdown",
   "id": "8d8e2f17",
   "metadata": {
    "papermill": {
     "duration": 0.007396,
     "end_time": "2021-08-29T23:54:09.622215",
     "exception": false,
     "start_time": "2021-08-29T23:54:09.614819",
     "status": "completed"
    },
    "tags": []
   },
   "source": [
    "### Load data"
   ]
  },
  {
   "cell_type": "code",
   "execution_count": 2,
   "id": "e371db5c",
   "metadata": {
    "execution": {
     "iopub.execute_input": "2021-08-29T23:54:09.641442Z",
     "iopub.status.busy": "2021-08-29T23:54:09.640872Z",
     "iopub.status.idle": "2021-08-29T23:54:13.042423Z",
     "shell.execute_reply": "2021-08-29T23:54:13.041839Z",
     "shell.execute_reply.started": "2021-08-29T22:51:02.252657Z"
    },
    "papermill": {
     "duration": 3.412799,
     "end_time": "2021-08-29T23:54:13.042571",
     "exception": false,
     "start_time": "2021-08-29T23:54:09.629772",
     "status": "completed"
    },
    "tags": []
   },
   "outputs": [],
   "source": [
    "df = pd.read_csv(\"../input/30days-of-ml-folds/train_folds.csv\")\n",
    "df_test = pd.read_csv(\"../input/30-days-of-ml/test.csv\")\n",
    "sample_submission = pd.read_csv(\"../input/30-days-of-ml/sample_submission.csv\")"
   ]
  },
  {
   "cell_type": "markdown",
   "id": "d61f91be",
   "metadata": {
    "papermill": {
     "duration": 0.009578,
     "end_time": "2021-08-29T23:54:13.061579",
     "exception": false,
     "start_time": "2021-08-29T23:54:13.052001",
     "status": "completed"
    },
    "tags": []
   },
   "source": [
    "#### Some Data Explaration"
   ]
  },
  {
   "cell_type": "code",
   "execution_count": 3,
   "id": "8515bf33",
   "metadata": {
    "execution": {
     "iopub.execute_input": "2021-08-29T23:54:13.136949Z",
     "iopub.status.busy": "2021-08-29T23:54:13.136029Z",
     "iopub.status.idle": "2021-08-29T23:54:13.165443Z",
     "shell.execute_reply": "2021-08-29T23:54:13.165942Z",
     "shell.execute_reply.started": "2021-08-29T22:51:07.959212Z"
    },
    "papermill": {
     "duration": 0.095595,
     "end_time": "2021-08-29T23:54:13.166117",
     "exception": false,
     "start_time": "2021-08-29T23:54:13.070522",
     "status": "completed"
    },
    "tags": []
   },
   "outputs": [
    {
     "data": {
      "text/html": [
       "<div>\n",
       "<style scoped>\n",
       "    .dataframe tbody tr th:only-of-type {\n",
       "        vertical-align: middle;\n",
       "    }\n",
       "\n",
       "    .dataframe tbody tr th {\n",
       "        vertical-align: top;\n",
       "    }\n",
       "\n",
       "    .dataframe thead th {\n",
       "        text-align: right;\n",
       "    }\n",
       "</style>\n",
       "<table border=\"1\" class=\"dataframe\">\n",
       "  <thead>\n",
       "    <tr style=\"text-align: right;\">\n",
       "      <th></th>\n",
       "      <th>id</th>\n",
       "      <th>cat0</th>\n",
       "      <th>cat1</th>\n",
       "      <th>cat2</th>\n",
       "      <th>cat3</th>\n",
       "      <th>cat4</th>\n",
       "      <th>cat5</th>\n",
       "      <th>cat6</th>\n",
       "      <th>cat7</th>\n",
       "      <th>cat8</th>\n",
       "      <th>...</th>\n",
       "      <th>cont5</th>\n",
       "      <th>cont6</th>\n",
       "      <th>cont7</th>\n",
       "      <th>cont8</th>\n",
       "      <th>cont9</th>\n",
       "      <th>cont10</th>\n",
       "      <th>cont11</th>\n",
       "      <th>cont12</th>\n",
       "      <th>cont13</th>\n",
       "      <th>target</th>\n",
       "    </tr>\n",
       "  </thead>\n",
       "  <tbody>\n",
       "    <tr>\n",
       "      <th>0</th>\n",
       "      <td>1</td>\n",
       "      <td>B</td>\n",
       "      <td>B</td>\n",
       "      <td>B</td>\n",
       "      <td>C</td>\n",
       "      <td>B</td>\n",
       "      <td>B</td>\n",
       "      <td>A</td>\n",
       "      <td>E</td>\n",
       "      <td>C</td>\n",
       "      <td>...</td>\n",
       "      <td>0.400361</td>\n",
       "      <td>0.160266</td>\n",
       "      <td>0.310921</td>\n",
       "      <td>0.389470</td>\n",
       "      <td>0.267559</td>\n",
       "      <td>0.237281</td>\n",
       "      <td>0.377873</td>\n",
       "      <td>0.322401</td>\n",
       "      <td>0.869850</td>\n",
       "      <td>8.113634</td>\n",
       "    </tr>\n",
       "    <tr>\n",
       "      <th>1</th>\n",
       "      <td>2</td>\n",
       "      <td>B</td>\n",
       "      <td>B</td>\n",
       "      <td>A</td>\n",
       "      <td>A</td>\n",
       "      <td>B</td>\n",
       "      <td>D</td>\n",
       "      <td>A</td>\n",
       "      <td>F</td>\n",
       "      <td>A</td>\n",
       "      <td>...</td>\n",
       "      <td>0.533087</td>\n",
       "      <td>0.558922</td>\n",
       "      <td>0.516294</td>\n",
       "      <td>0.594928</td>\n",
       "      <td>0.341439</td>\n",
       "      <td>0.906013</td>\n",
       "      <td>0.921701</td>\n",
       "      <td>0.261975</td>\n",
       "      <td>0.465083</td>\n",
       "      <td>8.481233</td>\n",
       "    </tr>\n",
       "    <tr>\n",
       "      <th>2</th>\n",
       "      <td>3</td>\n",
       "      <td>A</td>\n",
       "      <td>A</td>\n",
       "      <td>A</td>\n",
       "      <td>C</td>\n",
       "      <td>B</td>\n",
       "      <td>D</td>\n",
       "      <td>A</td>\n",
       "      <td>D</td>\n",
       "      <td>A</td>\n",
       "      <td>...</td>\n",
       "      <td>0.650609</td>\n",
       "      <td>0.375348</td>\n",
       "      <td>0.902567</td>\n",
       "      <td>0.555205</td>\n",
       "      <td>0.843531</td>\n",
       "      <td>0.748809</td>\n",
       "      <td>0.620126</td>\n",
       "      <td>0.541474</td>\n",
       "      <td>0.763846</td>\n",
       "      <td>8.364351</td>\n",
       "    </tr>\n",
       "    <tr>\n",
       "      <th>3</th>\n",
       "      <td>4</td>\n",
       "      <td>B</td>\n",
       "      <td>B</td>\n",
       "      <td>A</td>\n",
       "      <td>C</td>\n",
       "      <td>B</td>\n",
       "      <td>D</td>\n",
       "      <td>A</td>\n",
       "      <td>E</td>\n",
       "      <td>C</td>\n",
       "      <td>...</td>\n",
       "      <td>0.668980</td>\n",
       "      <td>0.239061</td>\n",
       "      <td>0.732948</td>\n",
       "      <td>0.679618</td>\n",
       "      <td>0.574844</td>\n",
       "      <td>0.346010</td>\n",
       "      <td>0.714610</td>\n",
       "      <td>0.540150</td>\n",
       "      <td>0.280682</td>\n",
       "      <td>8.049253</td>\n",
       "    </tr>\n",
       "    <tr>\n",
       "      <th>4</th>\n",
       "      <td>6</td>\n",
       "      <td>A</td>\n",
       "      <td>A</td>\n",
       "      <td>A</td>\n",
       "      <td>C</td>\n",
       "      <td>B</td>\n",
       "      <td>D</td>\n",
       "      <td>A</td>\n",
       "      <td>E</td>\n",
       "      <td>A</td>\n",
       "      <td>...</td>\n",
       "      <td>0.686964</td>\n",
       "      <td>0.420667</td>\n",
       "      <td>0.648182</td>\n",
       "      <td>0.684501</td>\n",
       "      <td>0.956692</td>\n",
       "      <td>1.000773</td>\n",
       "      <td>0.776742</td>\n",
       "      <td>0.625849</td>\n",
       "      <td>0.250823</td>\n",
       "      <td>7.972260</td>\n",
       "    </tr>\n",
       "  </tbody>\n",
       "</table>\n",
       "<p>5 rows × 26 columns</p>\n",
       "</div>"
      ],
      "text/plain": [
       "   id cat0 cat1 cat2 cat3 cat4 cat5 cat6 cat7 cat8  ...     cont5     cont6  \\\n",
       "0   1    B    B    B    C    B    B    A    E    C  ...  0.400361  0.160266   \n",
       "1   2    B    B    A    A    B    D    A    F    A  ...  0.533087  0.558922   \n",
       "2   3    A    A    A    C    B    D    A    D    A  ...  0.650609  0.375348   \n",
       "3   4    B    B    A    C    B    D    A    E    C  ...  0.668980  0.239061   \n",
       "4   6    A    A    A    C    B    D    A    E    A  ...  0.686964  0.420667   \n",
       "\n",
       "      cont7     cont8     cont9    cont10    cont11    cont12    cont13  \\\n",
       "0  0.310921  0.389470  0.267559  0.237281  0.377873  0.322401  0.869850   \n",
       "1  0.516294  0.594928  0.341439  0.906013  0.921701  0.261975  0.465083   \n",
       "2  0.902567  0.555205  0.843531  0.748809  0.620126  0.541474  0.763846   \n",
       "3  0.732948  0.679618  0.574844  0.346010  0.714610  0.540150  0.280682   \n",
       "4  0.648182  0.684501  0.956692  1.000773  0.776742  0.625849  0.250823   \n",
       "\n",
       "     target  \n",
       "0  8.113634  \n",
       "1  8.481233  \n",
       "2  8.364351  \n",
       "3  8.049253  \n",
       "4  7.972260  \n",
       "\n",
       "[5 rows x 26 columns]"
      ]
     },
     "execution_count": 3,
     "metadata": {},
     "output_type": "execute_result"
    }
   ],
   "source": [
    "df.drop(columns= ['kfold']).head()"
   ]
  },
  {
   "cell_type": "code",
   "execution_count": 4,
   "id": "1c30d5df",
   "metadata": {
    "execution": {
     "iopub.execute_input": "2021-08-29T23:54:13.192434Z",
     "iopub.status.busy": "2021-08-29T23:54:13.191398Z",
     "iopub.status.idle": "2021-08-29T23:54:13.484800Z",
     "shell.execute_reply": "2021-08-29T23:54:13.485235Z",
     "shell.execute_reply.started": "2021-08-29T22:51:12.253997Z"
    },
    "papermill": {
     "duration": 0.308411,
     "end_time": "2021-08-29T23:54:13.485399",
     "exception": false,
     "start_time": "2021-08-29T23:54:13.176988",
     "status": "completed"
    },
    "tags": []
   },
   "outputs": [
    {
     "data": {
      "text/plain": [
       "id        0\n",
       "cat0      0\n",
       "cat1      0\n",
       "cat2      0\n",
       "cat3      0\n",
       "cat4      0\n",
       "cat5      0\n",
       "cat6      0\n",
       "cat7      0\n",
       "cat8      0\n",
       "cat9      0\n",
       "cont0     0\n",
       "cont1     0\n",
       "cont2     0\n",
       "cont3     0\n",
       "cont4     0\n",
       "cont5     0\n",
       "cont6     0\n",
       "cont7     0\n",
       "cont8     0\n",
       "cont9     0\n",
       "cont10    0\n",
       "cont11    0\n",
       "cont12    0\n",
       "cont13    0\n",
       "target    0\n",
       "kfold     0\n",
       "dtype: int64"
      ]
     },
     "execution_count": 4,
     "metadata": {},
     "output_type": "execute_result"
    }
   ],
   "source": [
    "df.isnull().sum()"
   ]
  },
  {
   "cell_type": "code",
   "execution_count": 5,
   "id": "b964a3a4",
   "metadata": {
    "execution": {
     "iopub.execute_input": "2021-08-29T23:54:13.508576Z",
     "iopub.status.busy": "2021-08-29T23:54:13.507601Z",
     "iopub.status.idle": "2021-08-29T23:54:13.796574Z",
     "shell.execute_reply": "2021-08-29T23:54:13.796978Z",
     "shell.execute_reply.started": "2021-08-29T20:56:05.238828Z"
    },
    "papermill": {
     "duration": 0.30256,
     "end_time": "2021-08-29T23:54:13.797141",
     "exception": false,
     "start_time": "2021-08-29T23:54:13.494581",
     "status": "completed"
    },
    "tags": []
   },
   "outputs": [
    {
     "name": "stdout",
     "output_type": "stream",
     "text": [
      "<class 'pandas.core.frame.DataFrame'>\n",
      "RangeIndex: 300000 entries, 0 to 299999\n",
      "Data columns (total 27 columns):\n",
      " #   Column  Non-Null Count   Dtype  \n",
      "---  ------  --------------   -----  \n",
      " 0   id      300000 non-null  int64  \n",
      " 1   cat0    300000 non-null  object \n",
      " 2   cat1    300000 non-null  object \n",
      " 3   cat2    300000 non-null  object \n",
      " 4   cat3    300000 non-null  object \n",
      " 5   cat4    300000 non-null  object \n",
      " 6   cat5    300000 non-null  object \n",
      " 7   cat6    300000 non-null  object \n",
      " 8   cat7    300000 non-null  object \n",
      " 9   cat8    300000 non-null  object \n",
      " 10  cat9    300000 non-null  object \n",
      " 11  cont0   300000 non-null  float64\n",
      " 12  cont1   300000 non-null  float64\n",
      " 13  cont2   300000 non-null  float64\n",
      " 14  cont3   300000 non-null  float64\n",
      " 15  cont4   300000 non-null  float64\n",
      " 16  cont5   300000 non-null  float64\n",
      " 17  cont6   300000 non-null  float64\n",
      " 18  cont7   300000 non-null  float64\n",
      " 19  cont8   300000 non-null  float64\n",
      " 20  cont9   300000 non-null  float64\n",
      " 21  cont10  300000 non-null  float64\n",
      " 22  cont11  300000 non-null  float64\n",
      " 23  cont12  300000 non-null  float64\n",
      " 24  cont13  300000 non-null  float64\n",
      " 25  target  300000 non-null  float64\n",
      " 26  kfold   300000 non-null  int64  \n",
      "dtypes: float64(15), int64(2), object(10)\n",
      "memory usage: 61.8+ MB\n"
     ]
    }
   ],
   "source": [
    "df.info()"
   ]
  },
  {
   "cell_type": "code",
   "execution_count": 6,
   "id": "85bda814",
   "metadata": {
    "execution": {
     "iopub.execute_input": "2021-08-29T23:54:13.834016Z",
     "iopub.status.busy": "2021-08-29T23:54:13.827569Z",
     "iopub.status.idle": "2021-08-29T23:54:13.848882Z",
     "shell.execute_reply": "2021-08-29T23:54:13.848466Z",
     "shell.execute_reply.started": "2021-08-29T22:51:25.776619Z"
    },
    "papermill": {
     "duration": 0.043103,
     "end_time": "2021-08-29T23:54:13.848998",
     "exception": false,
     "start_time": "2021-08-29T23:54:13.805895",
     "status": "completed"
    },
    "tags": []
   },
   "outputs": [],
   "source": [
    "#Get useful columns\n",
    "useful_features = [c for c in df.columns if c not in (\"id\", \"target\", \"kfold\")]\n",
    "object_cols = [col for col in useful_features if 'cat' in col]\n",
    "df_test = df_test[useful_features]"
   ]
  },
  {
   "cell_type": "code",
   "execution_count": 7,
   "id": "66b9abda",
   "metadata": {
    "execution": {
     "iopub.execute_input": "2021-08-29T23:54:13.876204Z",
     "iopub.status.busy": "2021-08-29T23:54:13.875281Z",
     "iopub.status.idle": "2021-08-30T00:44:00.677355Z",
     "shell.execute_reply": "2021-08-30T00:44:00.677942Z",
     "shell.execute_reply.started": "2021-08-29T22:51:38.118805Z"
    },
    "papermill": {
     "duration": 2986.820215,
     "end_time": "2021-08-30T00:44:00.678152",
     "exception": false,
     "start_time": "2021-08-29T23:54:13.857937",
     "status": "completed"
    },
    "tags": []
   },
   "outputs": [
    {
     "name": "stdout",
     "output_type": "stream",
     "text": [
      "0 0.7202948945327957\n",
      "1 0.7162949427679158\n",
      "2 0.7161684772581542\n",
      "3 0.7151910214957926\n",
      "4 0.7231584879316205\n",
      "5 0.7169642448175308\n",
      "6 0.7165622623675121\n",
      "7 0.7118815138008707\n",
      "8 0.7170978628090917\n",
      "9 0.712273015739914\n"
     ]
    }
   ],
   "source": [
    "final_predictions = []\n",
    "for fold in range(len(df['kfold'].unique())):\n",
    "    xtrain =  df[df.kfold != fold].reset_index(drop=True)\n",
    "    xvalid = df[df.kfold == fold].reset_index(drop=True)\n",
    "    xtest = df_test.copy()\n",
    "\n",
    "    ytrain = xtrain.target\n",
    "    yvalid = xvalid.target\n",
    "    \n",
    "    xtrain = xtrain[useful_features]\n",
    "    xvalid = xvalid[useful_features]\n",
    "    \n",
    "    ordinal_encoder = OrdinalEncoder()\n",
    "    xtrain[object_cols] = ordinal_encoder.fit_transform(xtrain[object_cols])\n",
    "    xvalid[object_cols] = ordinal_encoder.transform(xvalid[object_cols])\n",
    "    xtest[object_cols] = ordinal_encoder.transform(xtest[object_cols])\n",
    "    \n",
    "   \n",
    "    model = XGBRegressor(n_estimators= 5000,\n",
    "    learning_rate = 0.12,\n",
    "    subsample = 0.96,\n",
    "    colsample_bytree = 0.12,\n",
    "    max_depth = 2,\n",
    "    booster = 'gbtree', \n",
    "    reg_lambda = 65.1,\n",
    "    reg_alpha = 15.9,\n",
    "    random_state = 40,n_jobs = 4)\n",
    "    \n",
    "    model.fit(xtrain, ytrain)\n",
    "    preds_valid = model.predict(xvalid)\n",
    "    test_preds = model.predict(xtest)\n",
    "    final_predictions.append(test_preds)\n",
    "    \n",
    "    #print(fold, mean_squared_error(yvalid, preds_valid))\n",
    "    print(fold, mean_squared_error(yvalid, preds_valid, squared=False))"
   ]
  },
  {
   "cell_type": "code",
   "execution_count": 8,
   "id": "2ed9aee1",
   "metadata": {
    "execution": {
     "iopub.execute_input": "2021-08-30T00:44:00.707233Z",
     "iopub.status.busy": "2021-08-30T00:44:00.706163Z",
     "iopub.status.idle": "2021-08-30T00:44:00.717295Z",
     "shell.execute_reply": "2021-08-30T00:44:00.716882Z",
     "shell.execute_reply.started": "2021-08-29T23:53:14.004411Z"
    },
    "papermill": {
     "duration": 0.02687,
     "end_time": "2021-08-30T00:44:00.717415",
     "exception": false,
     "start_time": "2021-08-30T00:44:00.690545",
     "status": "completed"
    },
    "tags": []
   },
   "outputs": [],
   "source": [
    "preds = np.mean(np.column_stack(final_predictions), axis=1)"
   ]
  },
  {
   "cell_type": "code",
   "execution_count": 9,
   "id": "29665490",
   "metadata": {
    "execution": {
     "iopub.execute_input": "2021-08-30T00:44:00.744503Z",
     "iopub.status.busy": "2021-08-30T00:44:00.743875Z",
     "iopub.status.idle": "2021-08-30T00:44:01.224266Z",
     "shell.execute_reply": "2021-08-30T00:44:01.223745Z",
     "shell.execute_reply.started": "2021-08-29T23:53:21.487281Z"
    },
    "papermill": {
     "duration": 0.49582,
     "end_time": "2021-08-30T00:44:01.224437",
     "exception": false,
     "start_time": "2021-08-30T00:44:00.728617",
     "status": "completed"
    },
    "tags": []
   },
   "outputs": [],
   "source": [
    "sample_submission.target = preds\n",
    "sample_submission.to_csv(\"submission.csv\", index=False)"
   ]
  }
 ],
 "metadata": {
  "kernelspec": {
   "display_name": "Python 3",
   "language": "python",
   "name": "python3"
  },
  "language_info": {
   "codemirror_mode": {
    "name": "ipython",
    "version": 3
   },
   "file_extension": ".py",
   "mimetype": "text/x-python",
   "name": "python",
   "nbconvert_exporter": "python",
   "pygments_lexer": "ipython3",
   "version": "3.7.10"
  },
  "papermill": {
   "default_parameters": {},
   "duration": 3000.618892,
   "end_time": "2021-08-30T00:44:02.740902",
   "environment_variables": {},
   "exception": null,
   "input_path": "__notebook__.ipynb",
   "output_path": "__notebook__.ipynb",
   "parameters": {},
   "start_time": "2021-08-29T23:54:02.122010",
   "version": "2.3.3"
  }
 },
 "nbformat": 4,
 "nbformat_minor": 5
}
