{
 "cells": [
  {
   "cell_type": "markdown",
   "id": "7e676a31",
   "metadata": {
    "papermill": {
     "duration": 0.016064,
     "end_time": "2021-08-16T22:43:43.331204",
     "exception": false,
     "start_time": "2021-08-16T22:43:43.315140",
     "status": "completed"
    },
    "tags": []
   },
   "source": [
    "**This notebook is an exercise in the [Intermediate Machine Learning](https://www.kaggle.com/learn/intermediate-machine-learning) course.  You can reference the tutorial at [this link](https://www.kaggle.com/alexisbcook/xgboost).**\n",
    "\n",
    "---\n"
   ]
  },
  {
   "cell_type": "markdown",
   "id": "2a12a8a5",
   "metadata": {
    "papermill": {
     "duration": 0.014555,
     "end_time": "2021-08-16T22:43:43.361491",
     "exception": false,
     "start_time": "2021-08-16T22:43:43.346936",
     "status": "completed"
    },
    "tags": []
   },
   "source": [
    "In this exercise, you will use your new knowledge to train a model with **gradient boosting**.\n",
    "\n",
    "# Setup\n",
    "\n",
    "The questions below will give you feedback on your work. Run the following cell to set up the feedback system."
   ]
  },
  {
   "cell_type": "code",
   "execution_count": 1,
   "id": "846f0f21",
   "metadata": {
    "execution": {
     "iopub.execute_input": "2021-08-16T22:43:43.402808Z",
     "iopub.status.busy": "2021-08-16T22:43:43.402190Z",
     "iopub.status.idle": "2021-08-16T22:43:45.770218Z",
     "shell.execute_reply": "2021-08-16T22:43:45.770818Z",
     "shell.execute_reply.started": "2021-08-16T22:26:03.767654Z"
    },
    "papermill": {
     "duration": 2.394904,
     "end_time": "2021-08-16T22:43:45.771174",
     "exception": false,
     "start_time": "2021-08-16T22:43:43.376270",
     "status": "completed"
    },
    "tags": []
   },
   "outputs": [
    {
     "name": "stdout",
     "output_type": "stream",
     "text": [
      "Setup Complete\n"
     ]
    }
   ],
   "source": [
    "# Set up code checking\n",
    "import os\n",
    "if not os.path.exists(\"../input/train.csv\"):\n",
    "    os.symlink(\"../input/home-data-for-ml-course/train.csv\", \"../input/train.csv\")  \n",
    "    os.symlink(\"../input/home-data-for-ml-course/test.csv\", \"../input/test.csv\") \n",
    "from learntools.core import binder\n",
    "binder.bind(globals())\n",
    "from learntools.ml_intermediate.ex6 import *\n",
    "print(\"Setup Complete\")"
   ]
  },
  {
   "cell_type": "markdown",
   "id": "69caac7e",
   "metadata": {
    "papermill": {
     "duration": 0.014953,
     "end_time": "2021-08-16T22:43:45.803326",
     "exception": false,
     "start_time": "2021-08-16T22:43:45.788373",
     "status": "completed"
    },
    "tags": []
   },
   "source": [
    "You will work with the [Housing Prices Competition for Kaggle Learn Users](https://www.kaggle.com/c/home-data-for-ml-course) dataset from the previous exercise. \n",
    "\n",
    "![Ames Housing dataset image](https://i.imgur.com/lTJVG4e.png)\n",
    "\n",
    "Run the next code cell without changes to load the training and validation sets in `X_train`, `X_valid`, `y_train`, and `y_valid`.  The test set is loaded in `X_test`."
   ]
  },
  {
   "cell_type": "code",
   "execution_count": 2,
   "id": "17c00f58",
   "metadata": {
    "execution": {
     "iopub.execute_input": "2021-08-16T22:43:45.845549Z",
     "iopub.status.busy": "2021-08-16T22:43:45.844900Z",
     "iopub.status.idle": "2021-08-16T22:43:46.070644Z",
     "shell.execute_reply": "2021-08-16T22:43:46.070114Z",
     "shell.execute_reply.started": "2021-08-16T22:26:11.779475Z"
    },
    "papermill": {
     "duration": 0.252139,
     "end_time": "2021-08-16T22:43:46.070806",
     "exception": false,
     "start_time": "2021-08-16T22:43:45.818667",
     "status": "completed"
    },
    "tags": []
   },
   "outputs": [],
   "source": [
    "import pandas as pd\n",
    "from sklearn.model_selection import train_test_split\n",
    "\n",
    "# Read the data\n",
    "X = pd.read_csv('../input/train.csv', index_col='Id')\n",
    "X_test_full = pd.read_csv('../input/test.csv', index_col='Id')\n",
    "\n",
    "# Remove rows with missing target, separate target from predictors\n",
    "X.dropna(axis=0, subset=['SalePrice'], inplace=True)\n",
    "y = X.SalePrice              \n",
    "X.drop(['SalePrice'], axis=1, inplace=True)\n",
    "\n",
    "# Break off validation set from training data\n",
    "X_train_full, X_valid_full, y_train, y_valid = train_test_split(X, y, train_size=0.8, test_size=0.2,\n",
    "                                                                random_state=0)\n",
    "\n",
    "# \"Cardinality\" means the number of unique values in a column\n",
    "# Select categorical columns with relatively low cardinality (convenient but arbitrary)\n",
    "low_cardinality_cols = [cname for cname in X_train_full.columns if X_train_full[cname].nunique() < 10 and \n",
    "                        X_train_full[cname].dtype == \"object\"]\n",
    "\n",
    "# Select numeric columns\n",
    "numeric_cols = [cname for cname in X_train_full.columns if X_train_full[cname].dtype in ['int64', 'float64']]\n",
    "\n",
    "# Keep selected columns only\n",
    "my_cols = low_cardinality_cols + numeric_cols\n",
    "X_train = X_train_full[my_cols].copy()\n",
    "X_valid = X_valid_full[my_cols].copy()\n",
    "X_test = X_test_full[my_cols].copy()\n",
    "\n",
    "# One-hot encode the data (to shorten the code, we use pandas)\n",
    "X_train = pd.get_dummies(X_train)\n",
    "X_valid = pd.get_dummies(X_valid)\n",
    "X_test = pd.get_dummies(X_test)\n",
    "X_train, X_valid = X_train.align(X_valid, join='left', axis=1)\n",
    "X_train, X_test = X_train.align(X_test, join='left', axis=1)"
   ]
  },
  {
   "cell_type": "markdown",
   "id": "77bd344f",
   "metadata": {
    "papermill": {
     "duration": 0.015041,
     "end_time": "2021-08-16T22:43:46.101024",
     "exception": false,
     "start_time": "2021-08-16T22:43:46.085983",
     "status": "completed"
    },
    "tags": []
   },
   "source": [
    "# Step 1: Build model\n",
    "\n",
    "### Part A\n",
    "\n",
    "In this step, you'll build and train your first model with gradient boosting.\n",
    "\n",
    "- Begin by setting `my_model_1` to an XGBoost model.  Use the [XGBRegressor](https://xgboost.readthedocs.io/en/latest/python/python_api.html#xgboost.XGBRegressor) class, and set the random seed to 0 (`random_state=0`).  **Leave all other parameters as default.**\n",
    "- Then, fit the model to the training data in `X_train` and `y_train`."
   ]
  },
  {
   "cell_type": "code",
   "execution_count": 3,
   "id": "f2df2ad8",
   "metadata": {
    "execution": {
     "iopub.execute_input": "2021-08-16T22:43:46.136740Z",
     "iopub.status.busy": "2021-08-16T22:43:46.136084Z",
     "iopub.status.idle": "2021-08-16T22:43:46.836903Z",
     "shell.execute_reply": "2021-08-16T22:43:46.837413Z",
     "shell.execute_reply.started": "2021-08-16T22:28:39.736023Z"
    },
    "papermill": {
     "duration": 0.721336,
     "end_time": "2021-08-16T22:43:46.837581",
     "exception": false,
     "start_time": "2021-08-16T22:43:46.116245",
     "status": "completed"
    },
    "tags": []
   },
   "outputs": [
    {
     "data": {
      "application/javascript": [
       "parent.postMessage({\"jupyterEvent\": \"custom.exercise_interaction\", \"data\": {\"outcomeType\": 1, \"valueTowardsCompletion\": 0.5, \"interactionType\": 1, \"questionType\": 2, \"questionId\": \"1.1_Model1A\", \"learnToolsVersion\": \"0.3.4\", \"failureMessage\": \"\", \"exceptionClass\": \"\", \"trace\": \"\"}}, \"*\")"
      ],
      "text/plain": [
       "<IPython.core.display.Javascript object>"
      ]
     },
     "metadata": {},
     "output_type": "display_data"
    },
    {
     "data": {
      "text/markdown": [
       "<span style=\"color:#33cc33\">Correct</span>"
      ],
      "text/plain": [
       "Correct"
      ]
     },
     "metadata": {},
     "output_type": "display_data"
    }
   ],
   "source": [
    "from xgboost import XGBRegressor\n",
    "\n",
    "# Define the model\n",
    "my_model_1 = XGBRegressor(random_state=0)\n",
    "\n",
    "# Fit the model\n",
    "my_model_1.fit(X_train, y_train)\n",
    "\n",
    "# Check your answer\n",
    "step_1.a.check()"
   ]
  },
  {
   "cell_type": "code",
   "execution_count": 4,
   "id": "915c9e86",
   "metadata": {
    "execution": {
     "iopub.execute_input": "2021-08-16T22:43:46.872884Z",
     "iopub.status.busy": "2021-08-16T22:43:46.871945Z",
     "iopub.status.idle": "2021-08-16T22:43:46.876013Z",
     "shell.execute_reply": "2021-08-16T22:43:46.876644Z"
    },
    "papermill": {
     "duration": 0.023418,
     "end_time": "2021-08-16T22:43:46.876823",
     "exception": false,
     "start_time": "2021-08-16T22:43:46.853405",
     "status": "completed"
    },
    "tags": []
   },
   "outputs": [],
   "source": [
    "# Lines below will give you a hint or solution code\n",
    "#step_1.a.hint()\n",
    "#step_1.a.solution()"
   ]
  },
  {
   "cell_type": "markdown",
   "id": "5ec316e6",
   "metadata": {
    "papermill": {
     "duration": 0.015971,
     "end_time": "2021-08-16T22:43:46.909403",
     "exception": false,
     "start_time": "2021-08-16T22:43:46.893432",
     "status": "completed"
    },
    "tags": []
   },
   "source": [
    "### Part B\n",
    "\n",
    "Set `predictions_1` to the model's predictions for the validation data.  Recall that the validation features are stored in `X_valid`."
   ]
  },
  {
   "cell_type": "code",
   "execution_count": 5,
   "id": "5ca536a1",
   "metadata": {
    "execution": {
     "iopub.execute_input": "2021-08-16T22:43:46.945454Z",
     "iopub.status.busy": "2021-08-16T22:43:46.944531Z",
     "iopub.status.idle": "2021-08-16T22:43:46.958985Z",
     "shell.execute_reply": "2021-08-16T22:43:46.959477Z",
     "shell.execute_reply.started": "2021-08-16T22:29:24.978614Z"
    },
    "papermill": {
     "duration": 0.034093,
     "end_time": "2021-08-16T22:43:46.959662",
     "exception": false,
     "start_time": "2021-08-16T22:43:46.925569",
     "status": "completed"
    },
    "tags": []
   },
   "outputs": [
    {
     "data": {
      "application/javascript": [
       "parent.postMessage({\"jupyterEvent\": \"custom.exercise_interaction\", \"data\": {\"outcomeType\": 1, \"valueTowardsCompletion\": 0.5, \"interactionType\": 1, \"questionType\": 2, \"questionId\": \"1.2_Model1B\", \"learnToolsVersion\": \"0.3.4\", \"failureMessage\": \"\", \"exceptionClass\": \"\", \"trace\": \"\"}}, \"*\")"
      ],
      "text/plain": [
       "<IPython.core.display.Javascript object>"
      ]
     },
     "metadata": {},
     "output_type": "display_data"
    },
    {
     "data": {
      "text/markdown": [
       "<span style=\"color:#33cc33\">Correct</span>"
      ],
      "text/plain": [
       "Correct"
      ]
     },
     "metadata": {},
     "output_type": "display_data"
    }
   ],
   "source": [
    "from sklearn.metrics import mean_absolute_error\n",
    "\n",
    "# Get predictions\n",
    "predictions_1 = my_model_1.predict(X_valid)\n",
    "\n",
    "# Check your answer\n",
    "step_1.b.check()"
   ]
  },
  {
   "cell_type": "code",
   "execution_count": 6,
   "id": "2fc8f4c4",
   "metadata": {
    "execution": {
     "iopub.execute_input": "2021-08-16T22:43:46.999755Z",
     "iopub.status.busy": "2021-08-16T22:43:46.998768Z",
     "iopub.status.idle": "2021-08-16T22:43:47.001610Z",
     "shell.execute_reply": "2021-08-16T22:43:47.001003Z"
    },
    "papermill": {
     "duration": 0.023712,
     "end_time": "2021-08-16T22:43:47.001761",
     "exception": false,
     "start_time": "2021-08-16T22:43:46.978049",
     "status": "completed"
    },
    "tags": []
   },
   "outputs": [],
   "source": [
    "# Lines below will give you a hint or solution code\n",
    "#step_1.b.hint()\n",
    "#step_1.b.solution()"
   ]
  },
  {
   "cell_type": "markdown",
   "id": "a315f3f2",
   "metadata": {
    "papermill": {
     "duration": 0.017024,
     "end_time": "2021-08-16T22:43:47.036151",
     "exception": false,
     "start_time": "2021-08-16T22:43:47.019127",
     "status": "completed"
    },
    "tags": []
   },
   "source": [
    "### Part C\n",
    "\n",
    "Finally, use the `mean_absolute_error()` function to calculate the mean absolute error (MAE) corresponding to the predictions for the validation set.  Recall that the labels for the validation data are stored in `y_valid`."
   ]
  },
  {
   "cell_type": "code",
   "execution_count": 7,
   "id": "d4cd3cf6",
   "metadata": {
    "execution": {
     "iopub.execute_input": "2021-08-16T22:43:47.074631Z",
     "iopub.status.busy": "2021-08-16T22:43:47.073729Z",
     "iopub.status.idle": "2021-08-16T22:43:47.084792Z",
     "shell.execute_reply": "2021-08-16T22:43:47.084293Z",
     "shell.execute_reply.started": "2021-08-16T22:30:58.796226Z"
    },
    "papermill": {
     "duration": 0.031404,
     "end_time": "2021-08-16T22:43:47.084930",
     "exception": false,
     "start_time": "2021-08-16T22:43:47.053526",
     "status": "completed"
    },
    "tags": []
   },
   "outputs": [
    {
     "name": "stdout",
     "output_type": "stream",
     "text": [
      "Mean Absolute Error: 17662.736729452055\n"
     ]
    },
    {
     "data": {
      "application/javascript": [
       "parent.postMessage({\"jupyterEvent\": \"custom.exercise_interaction\", \"data\": {\"outcomeType\": 1, \"valueTowardsCompletion\": 0.5, \"interactionType\": 1, \"questionType\": 2, \"questionId\": \"1.3_Model1C\", \"learnToolsVersion\": \"0.3.4\", \"failureMessage\": \"\", \"exceptionClass\": \"\", \"trace\": \"\"}}, \"*\")"
      ],
      "text/plain": [
       "<IPython.core.display.Javascript object>"
      ]
     },
     "metadata": {},
     "output_type": "display_data"
    },
    {
     "data": {
      "text/markdown": [
       "<span style=\"color:#33cc33\">Correct</span>"
      ],
      "text/plain": [
       "Correct"
      ]
     },
     "metadata": {},
     "output_type": "display_data"
    }
   ],
   "source": [
    "# Calculate MAE\n",
    "mae_1 = mean_absolute_error(predictions_1,y_valid)\n",
    "\n",
    "# Uncomment to print MAE\n",
    "print(\"Mean Absolute Error:\" , mae_1)\n",
    "\n",
    "# Check your answer\n",
    "step_1.c.check()"
   ]
  },
  {
   "cell_type": "code",
   "execution_count": 8,
   "id": "bb968969",
   "metadata": {
    "execution": {
     "iopub.execute_input": "2021-08-16T22:43:47.125108Z",
     "iopub.status.busy": "2021-08-16T22:43:47.124449Z",
     "iopub.status.idle": "2021-08-16T22:43:47.127412Z",
     "shell.execute_reply": "2021-08-16T22:43:47.127923Z"
    },
    "papermill": {
     "duration": 0.024507,
     "end_time": "2021-08-16T22:43:47.128081",
     "exception": false,
     "start_time": "2021-08-16T22:43:47.103574",
     "status": "completed"
    },
    "tags": []
   },
   "outputs": [],
   "source": [
    "# Lines below will give you a hint or solution code\n",
    "#step_1.c.hint()\n",
    "#step_1.c.solution()"
   ]
  },
  {
   "cell_type": "markdown",
   "id": "783079c3",
   "metadata": {
    "papermill": {
     "duration": 0.018215,
     "end_time": "2021-08-16T22:43:47.165344",
     "exception": false,
     "start_time": "2021-08-16T22:43:47.147129",
     "status": "completed"
    },
    "tags": []
   },
   "source": [
    "# Step 2: Improve the model\n",
    "\n",
    "Now that you've trained a default model as baseline, it's time to tinker with the parameters, to see if you can get better performance!\n",
    "- Begin by setting `my_model_2` to an XGBoost model, using the [XGBRegressor](https://xgboost.readthedocs.io/en/latest/python/python_api.html#xgboost.XGBRegressor) class.  Use what you learned in the previous tutorial to figure out how to change the default parameters (like `n_estimators` and `learning_rate`) to get better results.\n",
    "- Then, fit the model to the training data in `X_train` and `y_train`.\n",
    "- Set `predictions_2` to the model's predictions for the validation data.  Recall that the validation features are stored in `X_valid`.\n",
    "- Finally, use the `mean_absolute_error()` function to calculate the mean absolute error (MAE) corresponding to the predictions on the validation set.  Recall that the labels for the validation data are stored in `y_valid`.\n",
    "\n",
    "In order for this step to be marked correct, your model in `my_model_2` must attain lower MAE than the model in `my_model_1`. "
   ]
  },
  {
   "cell_type": "code",
   "execution_count": 9,
   "id": "6db21647",
   "metadata": {
    "execution": {
     "iopub.execute_input": "2021-08-16T22:43:47.205411Z",
     "iopub.status.busy": "2021-08-16T22:43:47.204784Z",
     "iopub.status.idle": "2021-08-16T22:43:53.467215Z",
     "shell.execute_reply": "2021-08-16T22:43:53.467798Z",
     "shell.execute_reply.started": "2021-08-16T22:37:08.726459Z"
    },
    "papermill": {
     "duration": 6.284127,
     "end_time": "2021-08-16T22:43:53.467991",
     "exception": false,
     "start_time": "2021-08-16T22:43:47.183864",
     "status": "completed"
    },
    "tags": []
   },
   "outputs": [
    {
     "name": "stdout",
     "output_type": "stream",
     "text": [
      "Mean Absolute Error: 16935.497377996577\n"
     ]
    },
    {
     "data": {
      "application/javascript": [
       "parent.postMessage({\"jupyterEvent\": \"custom.exercise_interaction\", \"data\": {\"outcomeType\": 1, \"valueTowardsCompletion\": 0.5, \"interactionType\": 1, \"questionType\": 2, \"questionId\": \"2_Model2\", \"learnToolsVersion\": \"0.3.4\", \"failureMessage\": \"\", \"exceptionClass\": \"\", \"trace\": \"\"}}, \"*\")"
      ],
      "text/plain": [
       "<IPython.core.display.Javascript object>"
      ]
     },
     "metadata": {},
     "output_type": "display_data"
    },
    {
     "data": {
      "text/markdown": [
       "<span style=\"color:#33cc33\">Correct</span>"
      ],
      "text/plain": [
       "Correct"
      ]
     },
     "metadata": {},
     "output_type": "display_data"
    }
   ],
   "source": [
    "# Define the model\n",
    "my_model_2 = XGBRegressor(n_estimators=1000, learning_rate=0.01,random_state=0)\n",
    "\n",
    "# Fit the model\n",
    "my_model_2.fit(X_train, y_train, \n",
    "             early_stopping_rounds=5, \n",
    "             eval_set=[(X_valid, y_valid)], \n",
    "             verbose=False)\n",
    "\n",
    "# Get predictions\n",
    "predictions_2 = my_model_2.predict(X_valid)\n",
    "\n",
    "# Calculate MAE\n",
    "mae_2 = mean_absolute_error(predictions_2,y_valid)\n",
    "\n",
    "# Uncomment to print MAE\n",
    "print(\"Mean Absolute Error:\" , mae_2)\n",
    "\n",
    "# Check your answer\n",
    "step_2.check()"
   ]
  },
  {
   "cell_type": "code",
   "execution_count": 10,
   "id": "6fcf3af5",
   "metadata": {
    "execution": {
     "iopub.execute_input": "2021-08-16T22:43:53.513976Z",
     "iopub.status.busy": "2021-08-16T22:43:53.513319Z",
     "iopub.status.idle": "2021-08-16T22:43:53.516324Z",
     "shell.execute_reply": "2021-08-16T22:43:53.515861Z"
    },
    "papermill": {
     "duration": 0.026604,
     "end_time": "2021-08-16T22:43:53.516449",
     "exception": false,
     "start_time": "2021-08-16T22:43:53.489845",
     "status": "completed"
    },
    "tags": []
   },
   "outputs": [],
   "source": [
    "# Lines below will give you a hint or solution code\n",
    "#step_2.hint()\n",
    "#step_2.solution()"
   ]
  },
  {
   "cell_type": "markdown",
   "id": "76218da4",
   "metadata": {
    "papermill": {
     "duration": 0.020459,
     "end_time": "2021-08-16T22:43:53.557190",
     "exception": false,
     "start_time": "2021-08-16T22:43:53.536731",
     "status": "completed"
    },
    "tags": []
   },
   "source": [
    "# Step 3: Break the model\n",
    "\n",
    "In this step, you will create a model that performs worse than the original model in Step 1.  This will help you to develop your intuition for how to set parameters.  You might even find that you accidentally get better performance, which is ultimately a nice problem to have and a valuable learning experience!\n",
    "- Begin by setting `my_model_3` to an XGBoost model, using the [XGBRegressor](https://xgboost.readthedocs.io/en/latest/python/python_api.html#xgboost.XGBRegressor) class.  Use what you learned in the previous tutorial to figure out how to change the default parameters (like `n_estimators` and `learning_rate`) to design a model to get high MAE.\n",
    "- Then, fit the model to the training data in `X_train` and `y_train`.\n",
    "- Set `predictions_3` to the model's predictions for the validation data.  Recall that the validation features are stored in `X_valid`.\n",
    "- Finally, use the `mean_absolute_error()` function to calculate the mean absolute error (MAE) corresponding to the predictions on the validation set.  Recall that the labels for the validation data are stored in `y_valid`.\n",
    "\n",
    "In order for this step to be marked correct, your model in `my_model_3` must attain higher MAE than the model in `my_model_1`. "
   ]
  },
  {
   "cell_type": "code",
   "execution_count": 11,
   "id": "805cf0fa",
   "metadata": {
    "execution": {
     "iopub.execute_input": "2021-08-16T22:43:53.615498Z",
     "iopub.status.busy": "2021-08-16T22:43:53.614541Z",
     "iopub.status.idle": "2021-08-16T22:43:54.331093Z",
     "shell.execute_reply": "2021-08-16T22:43:54.331659Z",
     "shell.execute_reply.started": "2021-08-16T22:43:09.617781Z"
    },
    "papermill": {
     "duration": 0.74854,
     "end_time": "2021-08-16T22:43:54.331933",
     "exception": false,
     "start_time": "2021-08-16T22:43:53.583393",
     "status": "completed"
    },
    "tags": []
   },
   "outputs": [
    {
     "name": "stdout",
     "output_type": "stream",
     "text": [
      "Mean Absolute Error: 68584.80573095035\n"
     ]
    },
    {
     "data": {
      "application/javascript": [
       "parent.postMessage({\"jupyterEvent\": \"custom.exercise_interaction\", \"data\": {\"outcomeType\": 1, \"valueTowardsCompletion\": 0.5, \"interactionType\": 1, \"questionType\": 2, \"questionId\": \"3_Model3\", \"learnToolsVersion\": \"0.3.4\", \"failureMessage\": \"\", \"exceptionClass\": \"\", \"trace\": \"\"}}, \"*\")"
      ],
      "text/plain": [
       "<IPython.core.display.Javascript object>"
      ]
     },
     "metadata": {},
     "output_type": "display_data"
    },
    {
     "data": {
      "text/markdown": [
       "<span style=\"color:#33cc33\">Correct</span>"
      ],
      "text/plain": [
       "Correct"
      ]
     },
     "metadata": {},
     "output_type": "display_data"
    }
   ],
   "source": [
    "# Define the model\n",
    "my_model_3 = XGBRegressor(n_estimators=100, learning_rate=0.01)\n",
    "\n",
    "# Fit the model\n",
    "my_model_3.fit(X_train, y_train)\n",
    "\n",
    "# Get predictions\n",
    "predictions_3 = my_model_3.predict(X_valid)\n",
    "\n",
    "# Calculate MAE\n",
    "mae_3 = mean_absolute_error(predictions_3,y_valid)\n",
    "\n",
    "# Uncomment to print MAE\n",
    "print(\"Mean Absolute Error:\" , mae_3)\n",
    "\n",
    "# Check your answer\n",
    "step_3.check()"
   ]
  },
  {
   "cell_type": "code",
   "execution_count": 12,
   "id": "8002e7f3",
   "metadata": {
    "execution": {
     "iopub.execute_input": "2021-08-16T22:43:54.385816Z",
     "iopub.status.busy": "2021-08-16T22:43:54.385183Z",
     "iopub.status.idle": "2021-08-16T22:43:54.388304Z",
     "shell.execute_reply": "2021-08-16T22:43:54.387681Z"
    },
    "papermill": {
     "duration": 0.030807,
     "end_time": "2021-08-16T22:43:54.388449",
     "exception": false,
     "start_time": "2021-08-16T22:43:54.357642",
     "status": "completed"
    },
    "tags": []
   },
   "outputs": [],
   "source": [
    "# Lines below will give you a hint or solution code\n",
    "#step_3.hint()\n",
    "#step_3.solution()"
   ]
  },
  {
   "cell_type": "markdown",
   "id": "83ec8f3a",
   "metadata": {
    "papermill": {
     "duration": 0.023535,
     "end_time": "2021-08-16T22:43:54.434177",
     "exception": false,
     "start_time": "2021-08-16T22:43:54.410642",
     "status": "completed"
    },
    "tags": []
   },
   "source": [
    "# Keep going\n",
    "\n",
    "Continue to learn about **[data leakage](https://www.kaggle.com/alexisbcook/data-leakage)**.  This is an important issue for a data scientist to understand, and it has the potential to ruin your models in subtle and dangerous ways!"
   ]
  },
  {
   "cell_type": "markdown",
   "id": "f99eb17e",
   "metadata": {
    "papermill": {
     "duration": 0.021747,
     "end_time": "2021-08-16T22:43:54.478581",
     "exception": false,
     "start_time": "2021-08-16T22:43:54.456834",
     "status": "completed"
    },
    "tags": []
   },
   "source": [
    "---\n",
    "\n",
    "\n",
    "\n",
    "\n",
    "*Have questions or comments? Visit the [Learn Discussion forum](https://www.kaggle.com/learn-forum/161289) to chat with other Learners.*"
   ]
  }
 ],
 "metadata": {
  "kernelspec": {
   "display_name": "Python 3",
   "language": "python",
   "name": "python3"
  },
  "language_info": {
   "codemirror_mode": {
    "name": "ipython",
    "version": 3
   },
   "file_extension": ".py",
   "mimetype": "text/x-python",
   "name": "python",
   "nbconvert_exporter": "python",
   "pygments_lexer": "ipython3",
   "version": "3.7.10"
  },
  "papermill": {
   "default_parameters": {},
   "duration": 20.614174,
   "end_time": "2021-08-16T22:43:55.211171",
   "environment_variables": {},
   "exception": null,
   "input_path": "__notebook__.ipynb",
   "output_path": "__notebook__.ipynb",
   "parameters": {},
   "start_time": "2021-08-16T22:43:34.596997",
   "version": "2.3.3"
  }
 },
 "nbformat": 4,
 "nbformat_minor": 5
}
